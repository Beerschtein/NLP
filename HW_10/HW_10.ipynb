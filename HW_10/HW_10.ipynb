{
  "nbformat": 4,
  "nbformat_minor": 0,
  "metadata": {
    "accelerator": "GPU",
    "colab": {
      "provenance": []
    },
    "kernelspec": {
      "display_name": "Python 3",
      "name": "python3"
    },
    "gpuClass": "standard"
  },
  "cells": [
    {
      "cell_type": "markdown",
      "source": [
        "##ДЗ_10 “Перевод без механизма внимания - SEQ2SEQ модель”"
      ],
      "metadata": {
        "id": "ILpJuoIttsy0"
      }
    },
    {
      "cell_type": "markdown",
      "source": [
        "**Разобраться с моделью перевода (без механизма внимания) как она устроена, запустить для перевода с русского на английский (при желании можно взять другие пары языков).**"
      ],
      "metadata": {
        "id": "7gqrqZCLAyZi"
      }
    },
    {
      "cell_type": "code",
      "metadata": {
        "id": "tnxXKDjq3jEL"
      },
      "source": [
        "import tensorflow as tf\n",
        "\n",
        "import matplotlib.pyplot as plt\n",
        "import matplotlib.ticker as ticker\n",
        "from sklearn.model_selection import train_test_split\n",
        "\n",
        "import unicodedata\n",
        "import re\n",
        "import numpy as np\n",
        "import os\n",
        "import io\n",
        "import time"
      ],
      "execution_count": null,
      "outputs": []
    },
    {
      "cell_type": "markdown",
      "metadata": {
        "id": "wfodePkj3jEa"
      },
      "source": [
        "### Загрузим датасет.\n",
        "\n"
      ]
    },
    {
      "cell_type": "code",
      "metadata": {
        "id": "CNvjhDyAKk3U",
        "colab": {
          "base_uri": "https://localhost:8080/"
        },
        "outputId": "d9caa793-e24f-4010-cbae-1d60865b6e92"
      },
      "source": [
        "!wget http://www.manythings.org/anki/rus-eng.zip"
      ],
      "execution_count": null,
      "outputs": [
        {
          "output_type": "stream",
          "name": "stdout",
          "text": [
            "--2022-11-30 14:46:49--  http://www.manythings.org/anki/rus-eng.zip\n",
            "Resolving www.manythings.org (www.manythings.org)... 173.254.30.110\n",
            "Connecting to www.manythings.org (www.manythings.org)|173.254.30.110|:80... connected.\n",
            "HTTP request sent, awaiting response... 200 OK\n",
            "Length: 15011848 (14M) [application/zip]\n",
            "Saving to: ‘rus-eng.zip.1’\n",
            "\n",
            "rus-eng.zip.1       100%[===================>]  14.32M  8.26MB/s    in 1.7s    \n",
            "\n",
            "2022-11-30 14:46:52 (8.26 MB/s) - ‘rus-eng.zip.1’ saved [15011848/15011848]\n",
            "\n"
          ]
        }
      ]
    },
    {
      "cell_type": "code",
      "metadata": {
        "id": "83bg17Lr-7XK",
        "colab": {
          "base_uri": "https://localhost:8080/"
        },
        "outputId": "d1299c1a-ceeb-4133-9bab-a921b48f875f"
      },
      "source": [
        "!mkdir rus-eng\n",
        "!unzip rus-eng.zip -d rus-eng/"
      ],
      "execution_count": null,
      "outputs": [
        {
          "output_type": "stream",
          "name": "stdout",
          "text": [
            "mkdir: cannot create directory ‘rus-eng’: File exists\n",
            "Archive:  rus-eng.zip\n",
            "replace rus-eng/rus.txt? [y]es, [n]o, [A]ll, [N]one, [r]ename: y\n",
            "  inflating: rus-eng/rus.txt         \n",
            "replace rus-eng/_about.txt? [y]es, [n]o, [A]ll, [N]one, [r]ename: y\n",
            "  inflating: rus-eng/_about.txt      \n"
          ]
        }
      ]
    },
    {
      "cell_type": "code",
      "metadata": {
        "id": "7o5L92efMMhf",
        "colab": {
          "base_uri": "https://localhost:8080/"
        },
        "outputId": "688be147-9a80-4664-adc8-5875980134c5"
      },
      "source": [
        "!ls /content/rus-eng/ -lah"
      ],
      "execution_count": null,
      "outputs": [
        {
          "output_type": "stream",
          "name": "stdout",
          "text": [
            "total 72M\n",
            "drwxr-xr-x 2 root root 4.0K Nov 30 14:47 .\n",
            "drwxr-xr-x 1 root root 4.0K Nov 30 14:46 ..\n",
            "-rw-r--r-- 1 root root 1.5K Sep  6 03:10 _about.txt\n",
            "-rw-r--r-- 1 root root  72M Sep  6 03:10 rus.txt\n"
          ]
        }
      ]
    },
    {
      "cell_type": "code",
      "metadata": {
        "id": "kRVATYOgJs1b"
      },
      "source": [
        "path_to_file = \"/content/rus-eng/rus.txt\""
      ],
      "execution_count": null,
      "outputs": []
    },
    {
      "cell_type": "code",
      "metadata": {
        "id": "rd0jw-eC3jEh"
      },
      "source": [
        "#функция препроцессинга\n",
        "def preprocess_sentence(w):\n",
        "  #переводим предложение к нижнему регистру и удалем начальные и конечные пробелы\n",
        "  w = w.lower().strip()\n",
        "\n",
        "  # отделяем пробелом слово и следующую за ним пунктуацию\n",
        "  # пример: \"he is a boy.\" => \"he is a boy .\"\n",
        "  # Reference:- https://stackoverflow.com/questions/3645931/python-padding-punctuation-with-white-spaces-keeping-punctuation\n",
        "  w = re.sub(r\"([?.!,])\", r\" \\1 \", w)\n",
        "  w = re.sub(r'[\" \"]+', \" \", w)\n",
        "\n",
        "  # все, кроме букв и знаков пунктуации, заменяем пробелом\n",
        "  w = re.sub(r\"[^a-zA-Zа-яА-Я?.!,']+\", \" \", w)\n",
        "\n",
        "  #удаляем лишние пробелы в начале и конце\n",
        "  w = w.strip()\n",
        "\n",
        "  # создаем начало и конец последовательности\n",
        "  # теперь модель знает, где начинать и заканчивать предсказания\n",
        "  w = '<start> ' + w + ' <end>'\n",
        "  return w"
      ],
      "execution_count": null,
      "outputs": []
    },
    {
      "cell_type": "code",
      "metadata": {
        "id": "yV9lZXQXNbnH",
        "colab": {
          "base_uri": "https://localhost:8080/",
          "height": 42
        },
        "outputId": "4247aa21-c4dd-49d8-bc12-f784b0c2924d"
      },
      "source": [
        "preprocess_sentence(\"I can't go.\")"
      ],
      "execution_count": null,
      "outputs": [
        {
          "output_type": "execute_result",
          "data": {
            "text/plain": [
              "\"<start> i can't go . <end>\""
            ],
            "application/vnd.google.colaboratory.intrinsic+json": {
              "type": "string"
            }
          },
          "metadata": {},
          "execution_count": 7
        }
      ]
    },
    {
      "cell_type": "code",
      "metadata": {
        "id": "OHn4Dct23jEm"
      },
      "source": [
        "# 1. Убираем акценты\n",
        "# 2. Очищаем предложения\n",
        "# 3. Возвращаем пары слов в формате [ENG, RUS]\n",
        "def create_dataset(path, num_examples):\n",
        "  #считываем строки файла\n",
        "  lines = io.open(path, encoding='UTF-8').read().strip().split('\\n')\n",
        "  #каждую строку разделяем на пробелы, берем первые 2 слова, препроцессим их и возвращаем пару\n",
        "  word_pairs = [[preprocess_sentence(w) for w in l.split('\\t')[:2]]  for l in lines[:num_examples]]\n",
        "\n",
        "  return zip(*word_pairs)"
      ],
      "execution_count": null,
      "outputs": []
    },
    {
      "cell_type": "code",
      "metadata": {
        "id": "cTbSbBz55QtF",
        "colab": {
          "base_uri": "https://localhost:8080/"
        },
        "outputId": "af10e973-d3ee-4466-e1dd-1bf06dccb2b1"
      },
      "source": [
        "en, ru = create_dataset(path_to_file, None)\n",
        "print(en[0])\n",
        "print(ru[0])"
      ],
      "execution_count": null,
      "outputs": [
        {
          "output_type": "stream",
          "name": "stdout",
          "text": [
            "<start> go . <end>\n",
            "<start> марш ! <end>\n"
          ]
        }
      ]
    },
    {
      "cell_type": "code",
      "metadata": {
        "id": "bIOn8RCNDJXG"
      },
      "source": [
        "def tokenize(lang):\n",
        "  #токенизируем текст, отфильтровываем пробелы\n",
        "  lang_tokenizer = tf.keras.preprocessing.text.Tokenizer(\n",
        "      filters='')\n",
        "  #обновляем внутренний словарь на основе lang\n",
        "  lang_tokenizer.fit_on_texts(lang)\n",
        "\n",
        "  #преобразуем каждый элемент из lang в последовательность чисел\n",
        "  tensor = lang_tokenizer.texts_to_sequences(lang)\n",
        "\n",
        "  #преобразуем тензор в матрицу (кол-во тензоров * max-длина), \n",
        "  #при этом короткие последовательности заполняем нулями сзади, а длинные -- обрезаем сзади\n",
        "  tensor = tf.keras.preprocessing.sequence.pad_sequences(tensor,\n",
        "                                                         padding='post')\n",
        "\n",
        "  return tensor, lang_tokenizer"
      ],
      "execution_count": null,
      "outputs": []
    },
    {
      "cell_type": "code",
      "metadata": {
        "id": "eAY9k49G3jE_"
      },
      "source": [
        "def load_dataset(path, num_examples=None):\n",
        "  # создаем очищенные анг (выходные), русские (входные) пары\n",
        "  targ_lang, inp_lang = create_dataset(path, num_examples)\n",
        "  #применяем токенизацию к каждому элементы из пары\n",
        "  input_tensor, inp_lang_tokenizer = tokenize(inp_lang)\n",
        "  target_tensor, targ_lang_tokenizer = tokenize(targ_lang)\n",
        "\n",
        "  return input_tensor, target_tensor, inp_lang_tokenizer, targ_lang_tokenizer"
      ],
      "execution_count": null,
      "outputs": []
    },
    {
      "cell_type": "markdown",
      "source": [
        "**Для ускорения обучения установим лимит на размер датасета.**"
      ],
      "metadata": {
        "id": "WASbytM5DL4d"
      }
    },
    {
      "cell_type": "code",
      "metadata": {
        "id": "C8j9g9AnIeZV",
        "colab": {
          "base_uri": "https://localhost:8080/"
        },
        "outputId": "6709efde-b03f-43b7-db1a-0bcd057e1830"
      },
      "source": [
        "len(en), len(ru)"
      ],
      "execution_count": null,
      "outputs": [
        {
          "output_type": "execute_result",
          "data": {
            "text/plain": [
              "(451436, 451436)"
            ]
          },
          "metadata": {},
          "execution_count": 12
        }
      ]
    },
    {
      "cell_type": "code",
      "metadata": {
        "id": "cnxC7q-j3jFD"
      },
      "source": [
        "num_examples = 100000\n",
        "input_tensor, target_tensor, inp_lang, targ_lang = load_dataset(path_to_file, num_examples)\n",
        "\n",
        "# Максимальная длина тензоров\n",
        "max_length_targ, max_length_inp = target_tensor.shape[1], input_tensor.shape[1]"
      ],
      "execution_count": null,
      "outputs": []
    },
    {
      "cell_type": "code",
      "metadata": {
        "id": "4QILQkOs3jFG",
        "colab": {
          "base_uri": "https://localhost:8080/"
        },
        "outputId": "f79a6c2c-db38-4f3f-c9dd-d2024bb29b66"
      },
      "source": [
        "# Создаем train и validation датасеты\n",
        "input_tensor_train, input_tensor_val, target_tensor_train, target_tensor_val = train_test_split(input_tensor, target_tensor, test_size=0.2)\n",
        "\n",
        "# размеры датасетов\n",
        "print(len(input_tensor_train), len(target_tensor_train), len(input_tensor_val), len(target_tensor_val))"
      ],
      "execution_count": null,
      "outputs": [
        {
          "output_type": "stream",
          "name": "stdout",
          "text": [
            "80000 80000 20000 20000\n"
          ]
        }
      ]
    },
    {
      "cell_type": "code",
      "metadata": {
        "id": "lJPmLZGMeD5q"
      },
      "source": [
        "# выведем токен и его индекс\n",
        "def convert(lang, tensor):\n",
        "  for t in tensor:\n",
        "    if t!=0:\n",
        "      print (\"%d ----> %s\" % (t, lang.index_word[t]))"
      ],
      "execution_count": null,
      "outputs": []
    },
    {
      "cell_type": "code",
      "metadata": {
        "id": "VXukARTDd7MT",
        "colab": {
          "base_uri": "https://localhost:8080/"
        },
        "outputId": "ed25610a-72d1-49fe-97e1-1d60fb454251"
      },
      "source": [
        "print (\"Input Language; index to word mapping\")\n",
        "convert(inp_lang, input_tensor_train[10])\n",
        "print ()\n",
        "print (\"Target Language; index to word mapping\")\n",
        "convert(targ_lang, target_tensor_train[10])"
      ],
      "execution_count": null,
      "outputs": [
        {
          "output_type": "stream",
          "name": "stdout",
          "text": [
            "Input Language; index to word mapping\n",
            "1 ----> <start>\n",
            "96 ----> давайте\n",
            "19419 ----> закругляться\n",
            "3 ----> .\n",
            "2 ----> <end>\n",
            "\n",
            "Target Language; index to word mapping\n",
            "1 ----> <start>\n",
            "66 ----> let's\n",
            "2394 ----> wrap\n",
            "660 ----> things\n",
            "54 ----> up\n",
            "3 ----> .\n",
            "2 ----> <end>\n"
          ]
        }
      ]
    },
    {
      "cell_type": "code",
      "metadata": {
        "id": "TqHsArVZ3jFS"
      },
      "source": [
        "BUFFER_SIZE = len(input_tensor_train)\n",
        "BATCH_SIZE = 64\n",
        "steps_per_epoch = len(input_tensor_train)//BATCH_SIZE\n",
        "embedding_dim = 256\n",
        "units = 1024\n",
        "vocab_inp_size = len(inp_lang.word_index)+1\n",
        "vocab_tar_size = len(targ_lang.word_index)+1\n",
        "\n",
        "#из каждого элемента (input_tensor_train, target_tensor_train) создаем тензор\n",
        "dataset = tf.data.Dataset.from_tensor_slices((input_tensor_train, target_tensor_train)).shuffle(BUFFER_SIZE)\n",
        "#разбиваем датасет на батчи (по 64), удаляя последний неполный батч\n",
        "dataset = dataset.batch(BATCH_SIZE, drop_remainder=True)"
      ],
      "execution_count": null,
      "outputs": []
    },
    {
      "cell_type": "code",
      "metadata": {
        "id": "qc6-NK1GtWQt",
        "colab": {
          "base_uri": "https://localhost:8080/"
        },
        "outputId": "431322c6-2935-418e-ca0c-2c763b9619a5"
      },
      "source": [
        "example_input_batch, example_target_batch = next(iter(dataset))\n",
        "example_input_batch.shape, example_target_batch.shape"
      ],
      "execution_count": null,
      "outputs": [
        {
          "output_type": "execute_result",
          "data": {
            "text/plain": [
              "(TensorShape([64, 15]), TensorShape([64, 11]))"
            ]
          },
          "metadata": {},
          "execution_count": 18
        }
      ]
    },
    {
      "cell_type": "code",
      "metadata": {
        "id": "nZ2rI24i3jFg"
      },
      "source": [
        "class Encoder(tf.keras.Model):\n",
        "  def __init__(self, vocab_size, embedding_dim, enc_units, batch_sz):\n",
        "    super(Encoder, self).__init__()\n",
        "    self.batch_sz = batch_sz\n",
        "    self.enc_units = enc_units\n",
        "    self.embedding = tf.keras.layers.Embedding(vocab_size, embedding_dim)\n",
        "    self.gru = tf.keras.layers.GRU(self.enc_units,\n",
        "                                   return_sequences=False,\n",
        "                                   return_state=True,\n",
        "                                   recurrent_initializer='glorot_uniform')\n",
        "    \n",
        "\n",
        "  def call(self, x, hidden):\n",
        "    x = self.embedding(x)\n",
        "    output, state = self.gru(x, initial_state = hidden)\n",
        "    return state\n",
        "\n",
        "  def initialize_hidden_state(self):\n",
        "    #создаем тензор из нулей размера (батч, кол-во ячеек)\n",
        "    return tf.zeros((self.batch_sz, self.enc_units))"
      ],
      "execution_count": null,
      "outputs": []
    },
    {
      "cell_type": "code",
      "metadata": {
        "id": "60gSVh05Jl6l",
        "colab": {
          "base_uri": "https://localhost:8080/"
        },
        "outputId": "1561a6e9-e4d0-4544-cd51-30830f6e740a"
      },
      "source": [
        "encoder = Encoder(vocab_inp_size, embedding_dim, units, BATCH_SIZE)\n",
        "\n",
        "# инициализируем начальное скрытое состояние (из нулей)\n",
        "sample_hidden = encoder.initialize_hidden_state()\n",
        "# применяем энкодер к входному батчу и скрытому состоянию\n",
        "sample_hidden = encoder(example_input_batch, sample_hidden)\n",
        "# print ('Encoder output shape: (batch size, sequence length, units) {}'.format(sample_output.shape))\n",
        "print ('Encoder Hidden state shape: (batch size, units) {}'.format(sample_hidden.shape))"
      ],
      "execution_count": null,
      "outputs": [
        {
          "output_type": "stream",
          "name": "stdout",
          "text": [
            "Encoder Hidden state shape: (batch size, units) (64, 1024)\n"
          ]
        }
      ]
    },
    {
      "cell_type": "code",
      "metadata": {
        "id": "yJ_B3mhW3jFk"
      },
      "source": [
        "# декодер без внимания\n",
        "class Decoder(tf.keras.Model):\n",
        "  def __init__(self, vocab_size, embedding_dim, dec_units, batch_sz):\n",
        "    super(Decoder, self).__init__()\n",
        "    self.batch_sz = batch_sz\n",
        "    self.dec_units = dec_units\n",
        "    self.embedding = tf.keras.layers.Embedding(vocab_size, embedding_dim)\n",
        "    self.gru = tf.keras.layers.GRU(self.dec_units,\n",
        "                                   return_sequences=True,\n",
        "                                   return_state=True,\n",
        "                                   recurrent_initializer='glorot_uniform')\n",
        "    self.fc = tf.keras.layers.Dense(vocab_size)\n",
        "\n",
        "  def call(self, x, hidden):\n",
        "    # x shape после прохождения через эмбеддинг == (batch_size, 1, embedding_dim)\n",
        "\n",
        "    # x shape after passing through embedding == (batch_size, 1, embedding_dim)\n",
        "    x = self.embedding(x)\n",
        "\n",
        "    # отправляем в GRU входные данные и скрытое состояние (от энкодера)\n",
        "    # выход GRU (batch_size, timesteps, units)\n",
        "    # размер возвращаемого внутреннего состояния (batch_size, units)\n",
        "    output, state = self.gru(x, initial_state=hidden)\n",
        "\n",
        "    # output shape == (batch_size * 1, hidden_size)\n",
        "    output = tf.reshape(output, (-1, output.shape[2]))\n",
        "\n",
        "    # output shape == (batch_size, vocab)\n",
        "    x = self.fc(output)\n",
        "\n",
        "    return x, state"
      ],
      "execution_count": null,
      "outputs": []
    },
    {
      "cell_type": "code",
      "metadata": {
        "id": "P5UY8wko3jFp"
      },
      "source": [
        "decoder = Decoder(vocab_tar_size, embedding_dim, units, BATCH_SIZE)\n",
        "\n",
        "#применяем декодер к случайному батчу из равномерного распределения (батч,1) и выходу энкодера\n",
        "decoder_sample_x, decoder_sample_h = decoder(tf.random.uniform((BATCH_SIZE, 1)),\n",
        "                                      sample_hidden)\n",
        "\n"
      ],
      "execution_count": null,
      "outputs": []
    },
    {
      "cell_type": "code",
      "metadata": {
        "colab": {
          "base_uri": "https://localhost:8080/"
        },
        "id": "XKcypC0AGeLR",
        "outputId": "cb2b9722-a97f-463a-9a3f-3f5807f1744e"
      },
      "source": [
        "decoder_sample_x.shape"
      ],
      "execution_count": null,
      "outputs": [
        {
          "output_type": "execute_result",
          "data": {
            "text/plain": [
              "TensorShape([64, 7335])"
            ]
          },
          "metadata": {},
          "execution_count": 23
        }
      ]
    },
    {
      "cell_type": "code",
      "metadata": {
        "id": "6y0HF-zMF_vp",
        "colab": {
          "base_uri": "https://localhost:8080/"
        },
        "outputId": "b2e42883-f092-4552-f9f7-91e2e157c38f"
      },
      "source": [
        "decoder_sample_h.shape"
      ],
      "execution_count": null,
      "outputs": [
        {
          "output_type": "execute_result",
          "data": {
            "text/plain": [
              "TensorShape([64, 1024])"
            ]
          },
          "metadata": {},
          "execution_count": 24
        }
      ]
    },
    {
      "cell_type": "markdown",
      "metadata": {
        "id": "_ch_71VbIRfK"
      },
      "source": [
        "**Определим оптимизатор и функцию потерь.**"
      ]
    },
    {
      "cell_type": "code",
      "metadata": {
        "id": "WmTHr5iV3jFr"
      },
      "source": [
        "optimizer = tf.keras.optimizers.Adam()\n",
        "\n",
        "loss_object = tf.keras.losses.SparseCategoricalCrossentropy(\n",
        "    from_logits=True, reduction='none')\n",
        "\n",
        "def loss_function(real, pred):\n",
        "  #делаем инверсию значений сравнения каждого из real с нулем (возвращается true или false)\n",
        "  mask = tf.math.logical_not(tf.math.equal(real, 0))\n",
        "  #применяем функцию ошибок к реальным данным и предсказанным\n",
        "  loss_ = loss_object(real, pred)\n",
        "\n",
        "  #приводим тензор mask к новому типу loss_.dtype\n",
        "  mask = tf.cast(mask, dtype=loss_.dtype)\n",
        "  #умножаем loss_ на mask\n",
        "  loss_ *= mask\n",
        "  \n",
        "  # возвращаем среднее значениe всех элементов\n",
        "  return tf.reduce_mean(loss_)"
      ],
      "execution_count": null,
      "outputs": []
    },
    {
      "cell_type": "markdown",
      "metadata": {
        "id": "DMVWzzsfNl4e"
      },
      "source": [
        "**Создадим директорию для сохранения checkpoint.**"
      ]
    },
    {
      "cell_type": "code",
      "metadata": {
        "id": "Zj8bXQTgNwrF"
      },
      "source": [
        "checkpoint_dir = './training_nmt_checkpoints'\n",
        "\n",
        "checkpoint_prefix = os.path.join(checkpoint_dir, \"ckpt\")\n",
        "\n",
        "checkpoint = tf.train.Checkpoint(optimizer=optimizer,\n",
        "                                 encoder=encoder,\n",
        "                                 decoder=decoder)"
      ],
      "execution_count": null,
      "outputs": []
    },
    {
      "cell_type": "code",
      "metadata": {
        "id": "sC9ArXSsVfqn"
      },
      "source": [
        "@tf.function\n",
        "def train_step(inp, targ, enc_hidden):\n",
        "  loss = 0\n",
        "  #перечисляем операции для автоматического дифференцирования\n",
        "  with tf.GradientTape() as tape:\n",
        "    #перечисляем операции для автоматического дифференцирования\n",
        "    enc_hidden = encoder(inp, enc_hidden)\n",
        "    #помещаем его в скрытое состояние decoder\n",
        "    dec_hidden = enc_hidden\n",
        "    #формируем вход декодера:\n",
        "    #берем список длины батч из индексов тега  (1)\n",
        "    #приписываем списку размерность 1\n",
        "    dec_input = tf.expand_dims([targ_lang.word_index['<start>']] * BATCH_SIZE, 1)\n",
        "\n",
        "    #Teacher forcing - выводим target в качестве следующего входа\n",
        "    for t in range(1, targ.shape[1]):\n",
        "      #Teacher forcing - выводим target в качестве следующего входа\n",
        "      predictions, dec_hidden = decoder(dec_input, dec_hidden)\n",
        "      #считаем функцию потерь \n",
        "      loss += loss_function(targ[:, t], predictions)\n",
        "\n",
        "      #используем teacher forcing (приписываем списку размерность 1)\n",
        "      #посылаем dec_input на вход декордера \n",
        "      dec_input = tf.expand_dims(targ[:, t], 1)\n",
        "\n",
        "  batch_loss = (loss / int(targ.shape[1]))\n",
        "\n",
        "  variables = encoder.trainable_variables + decoder.trainable_variables\n",
        "  #вычисляем градиенты loss по variables\n",
        "  gradients = tape.gradient(loss, variables)\n",
        "  #оптимизатор применяет подсчитанные градиенты\n",
        "  optimizer.apply_gradients(zip(gradients, variables))\n",
        "\n",
        "  return batch_loss"
      ],
      "execution_count": null,
      "outputs": []
    },
    {
      "cell_type": "code",
      "metadata": {
        "id": "ddefjBMa3jF0",
        "colab": {
          "base_uri": "https://localhost:8080/"
        },
        "outputId": "d81fdf0f-3438-4fee-8f29-06a5242a4110"
      },
      "source": [
        "EPOCHS = 50\n",
        "\n",
        "for epoch in range(EPOCHS):\n",
        "  start = time.time()\n",
        "\n",
        "  #инициализируем входное скрытое состояние (из нулей) размера (батч, кол-во рекуррентных ячеек)\n",
        "  enc_hidden = encoder.initialize_hidden_state()\n",
        "  total_loss = 0\n",
        "\n",
        "  for (batch, (inp, targ)) in enumerate(dataset.take(steps_per_epoch)):\n",
        "    #делаем шаг обучения. находим ошибку за эпоху\n",
        "    batch_loss = train_step(inp, targ, enc_hidden)\n",
        "    total_loss += batch_loss\n",
        "\n",
        "    if batch % 100 == 0:\n",
        "      print('Epoch {} Batch {} Loss {:.4f}'.format(epoch + 1,\n",
        "                                                   batch,\n",
        "                                                   batch_loss.numpy()))\n",
        "  #сохраняем чекпоинт каждые 25 эпох\n",
        "  if (epoch + 1) % 25 == 0:\n",
        "    checkpoint.save(file_prefix = checkpoint_prefix)\n",
        "\n",
        "  print('Epoch {} Loss {:.4f}'.format(epoch + 1,\n",
        "                                      total_loss / steps_per_epoch))\n",
        "  print('Time taken for 1 epoch {} sec\\n'.format(time.time() - start))"
      ],
      "execution_count": null,
      "outputs": [
        {
          "output_type": "stream",
          "name": "stdout",
          "text": [
            "Epoch 1 Batch 0 Loss 4.6656\n",
            "Epoch 1 Batch 100 Loss 1.9159\n",
            "Epoch 1 Batch 200 Loss 1.8898\n",
            "Epoch 1 Batch 300 Loss 1.6953\n",
            "Epoch 1 Batch 400 Loss 1.6190\n",
            "Epoch 1 Batch 500 Loss 1.5065\n",
            "Epoch 1 Batch 600 Loss 1.4696\n",
            "Epoch 1 Batch 700 Loss 1.3053\n",
            "Epoch 1 Batch 800 Loss 1.3094\n",
            "Epoch 1 Batch 900 Loss 1.2544\n",
            "Epoch 1 Batch 1000 Loss 1.2061\n",
            "Epoch 1 Batch 1100 Loss 1.2703\n",
            "Epoch 1 Batch 1200 Loss 1.1564\n",
            "Epoch 1 Loss 1.4936\n",
            "Time taken for 1 epoch 68.1933331489563 sec\n",
            "\n",
            "Epoch 2 Batch 0 Loss 0.9884\n",
            "Epoch 2 Batch 100 Loss 0.9358\n",
            "Epoch 2 Batch 200 Loss 1.0190\n",
            "Epoch 2 Batch 300 Loss 0.8937\n",
            "Epoch 2 Batch 400 Loss 0.8032\n",
            "Epoch 2 Batch 500 Loss 0.8495\n",
            "Epoch 2 Batch 600 Loss 0.8659\n",
            "Epoch 2 Batch 700 Loss 0.8570\n",
            "Epoch 2 Batch 800 Loss 0.8087\n",
            "Epoch 2 Batch 900 Loss 0.6899\n",
            "Epoch 2 Batch 1000 Loss 0.6543\n",
            "Epoch 2 Batch 1100 Loss 0.7605\n",
            "Epoch 2 Batch 1200 Loss 0.5786\n",
            "Epoch 2 Loss 0.8125\n",
            "Time taken for 1 epoch 57.405874490737915 sec\n",
            "\n",
            "Epoch 3 Batch 0 Loss 0.4910\n",
            "Epoch 3 Batch 100 Loss 0.4766\n",
            "Epoch 3 Batch 200 Loss 0.4862\n",
            "Epoch 3 Batch 300 Loss 0.5058\n",
            "Epoch 3 Batch 400 Loss 0.4315\n",
            "Epoch 3 Batch 500 Loss 0.4805\n",
            "Epoch 3 Batch 600 Loss 0.4214\n",
            "Epoch 3 Batch 700 Loss 0.4020\n",
            "Epoch 3 Batch 800 Loss 0.4858\n",
            "Epoch 3 Batch 900 Loss 0.4752\n",
            "Epoch 3 Batch 1000 Loss 0.4737\n",
            "Epoch 3 Batch 1100 Loss 0.3403\n",
            "Epoch 3 Batch 1200 Loss 0.4191\n",
            "Epoch 3 Loss 0.4643\n",
            "Time taken for 1 epoch 57.480759620666504 sec\n",
            "\n",
            "Epoch 4 Batch 0 Loss 0.2790\n",
            "Epoch 4 Batch 100 Loss 0.2755\n",
            "Epoch 4 Batch 200 Loss 0.2865\n",
            "Epoch 4 Batch 300 Loss 0.2578\n",
            "Epoch 4 Batch 400 Loss 0.2826\n",
            "Epoch 4 Batch 500 Loss 0.2537\n",
            "Epoch 4 Batch 600 Loss 0.2653\n",
            "Epoch 4 Batch 700 Loss 0.2729\n",
            "Epoch 4 Batch 800 Loss 0.2781\n",
            "Epoch 4 Batch 900 Loss 0.3494\n",
            "Epoch 4 Batch 1000 Loss 0.3278\n",
            "Epoch 4 Batch 1100 Loss 0.2807\n",
            "Epoch 4 Batch 1200 Loss 0.2568\n",
            "Epoch 4 Loss 0.2779\n",
            "Time taken for 1 epoch 57.458566665649414 sec\n",
            "\n",
            "Epoch 5 Batch 0 Loss 0.1517\n",
            "Epoch 5 Batch 100 Loss 0.1679\n",
            "Epoch 5 Batch 200 Loss 0.2126\n",
            "Epoch 5 Batch 300 Loss 0.1531\n",
            "Epoch 5 Batch 400 Loss 0.1478\n",
            "Epoch 5 Batch 500 Loss 0.1771\n",
            "Epoch 5 Batch 600 Loss 0.1952\n",
            "Epoch 5 Batch 700 Loss 0.1465\n",
            "Epoch 5 Batch 800 Loss 0.2342\n",
            "Epoch 5 Batch 900 Loss 0.2375\n",
            "Epoch 5 Batch 1000 Loss 0.1741\n",
            "Epoch 5 Batch 1100 Loss 0.2184\n",
            "Epoch 5 Batch 1200 Loss 0.1969\n",
            "Epoch 5 Loss 0.1836\n",
            "Time taken for 1 epoch 57.38750696182251 sec\n",
            "\n",
            "Epoch 6 Batch 0 Loss 0.1167\n",
            "Epoch 6 Batch 100 Loss 0.1035\n",
            "Epoch 6 Batch 200 Loss 0.1010\n",
            "Epoch 6 Batch 300 Loss 0.1074\n",
            "Epoch 6 Batch 400 Loss 0.1300\n",
            "Epoch 6 Batch 500 Loss 0.1406\n",
            "Epoch 6 Batch 600 Loss 0.1648\n",
            "Epoch 6 Batch 700 Loss 0.0978\n",
            "Epoch 6 Batch 800 Loss 0.1031\n",
            "Epoch 6 Batch 900 Loss 0.1491\n",
            "Epoch 6 Batch 1000 Loss 0.1340\n",
            "Epoch 6 Batch 1100 Loss 0.1117\n",
            "Epoch 6 Batch 1200 Loss 0.1381\n",
            "Epoch 6 Loss 0.1351\n",
            "Time taken for 1 epoch 57.31958055496216 sec\n",
            "\n",
            "Epoch 7 Batch 0 Loss 0.0769\n",
            "Epoch 7 Batch 100 Loss 0.1408\n",
            "Epoch 7 Batch 200 Loss 0.0792\n",
            "Epoch 7 Batch 300 Loss 0.1200\n",
            "Epoch 7 Batch 400 Loss 0.1001\n",
            "Epoch 7 Batch 500 Loss 0.1022\n",
            "Epoch 7 Batch 600 Loss 0.1034\n",
            "Epoch 7 Batch 700 Loss 0.1110\n",
            "Epoch 7 Batch 800 Loss 0.1173\n",
            "Epoch 7 Batch 900 Loss 0.1476\n",
            "Epoch 7 Batch 1000 Loss 0.1304\n",
            "Epoch 7 Batch 1100 Loss 0.1093\n",
            "Epoch 7 Batch 1200 Loss 0.1005\n",
            "Epoch 7 Loss 0.1115\n",
            "Time taken for 1 epoch 57.37830138206482 sec\n",
            "\n",
            "Epoch 8 Batch 0 Loss 0.0699\n",
            "Epoch 8 Batch 100 Loss 0.0822\n",
            "Epoch 8 Batch 200 Loss 0.0476\n",
            "Epoch 8 Batch 300 Loss 0.0693\n",
            "Epoch 8 Batch 400 Loss 0.0979\n",
            "Epoch 8 Batch 500 Loss 0.0754\n",
            "Epoch 8 Batch 600 Loss 0.0903\n",
            "Epoch 8 Batch 700 Loss 0.0780\n",
            "Epoch 8 Batch 800 Loss 0.1473\n",
            "Epoch 8 Batch 900 Loss 0.0590\n",
            "Epoch 8 Batch 1000 Loss 0.1036\n",
            "Epoch 8 Batch 1100 Loss 0.1002\n",
            "Epoch 8 Batch 1200 Loss 0.0833\n",
            "Epoch 8 Loss 0.0969\n",
            "Time taken for 1 epoch 57.418378829956055 sec\n",
            "\n",
            "Epoch 9 Batch 0 Loss 0.0504\n",
            "Epoch 9 Batch 100 Loss 0.0663\n",
            "Epoch 9 Batch 200 Loss 0.0600\n",
            "Epoch 9 Batch 300 Loss 0.0725\n",
            "Epoch 9 Batch 400 Loss 0.0641\n",
            "Epoch 9 Batch 500 Loss 0.0821\n",
            "Epoch 9 Batch 600 Loss 0.0978\n",
            "Epoch 9 Batch 700 Loss 0.0746\n",
            "Epoch 9 Batch 800 Loss 0.1043\n",
            "Epoch 9 Batch 900 Loss 0.1151\n",
            "Epoch 9 Batch 1000 Loss 0.1061\n",
            "Epoch 9 Batch 1100 Loss 0.1024\n",
            "Epoch 9 Batch 1200 Loss 0.0753\n",
            "Epoch 9 Loss 0.0883\n",
            "Time taken for 1 epoch 57.30498743057251 sec\n",
            "\n",
            "Epoch 10 Batch 0 Loss 0.0821\n",
            "Epoch 10 Batch 100 Loss 0.0629\n",
            "Epoch 10 Batch 200 Loss 0.0461\n",
            "Epoch 10 Batch 300 Loss 0.0929\n",
            "Epoch 10 Batch 400 Loss 0.0761\n",
            "Epoch 10 Batch 500 Loss 0.0608\n",
            "Epoch 10 Batch 600 Loss 0.0811\n",
            "Epoch 10 Batch 700 Loss 0.0963\n",
            "Epoch 10 Batch 800 Loss 0.0537\n",
            "Epoch 10 Batch 900 Loss 0.1029\n",
            "Epoch 10 Batch 1000 Loss 0.0659\n",
            "Epoch 10 Batch 1100 Loss 0.1044\n",
            "Epoch 10 Batch 1200 Loss 0.0822\n",
            "Epoch 10 Loss 0.0837\n",
            "Time taken for 1 epoch 57.56134605407715 sec\n",
            "\n",
            "Epoch 11 Batch 0 Loss 0.0620\n",
            "Epoch 11 Batch 100 Loss 0.0403\n",
            "Epoch 11 Batch 200 Loss 0.0367\n",
            "Epoch 11 Batch 300 Loss 0.0886\n",
            "Epoch 11 Batch 400 Loss 0.0523\n",
            "Epoch 11 Batch 500 Loss 0.0763\n",
            "Epoch 11 Batch 600 Loss 0.0762\n",
            "Epoch 11 Batch 700 Loss 0.0613\n",
            "Epoch 11 Batch 800 Loss 0.0571\n",
            "Epoch 11 Batch 900 Loss 0.0907\n",
            "Epoch 11 Batch 1000 Loss 0.0860\n",
            "Epoch 11 Batch 1100 Loss 0.1387\n",
            "Epoch 11 Batch 1200 Loss 0.1082\n",
            "Epoch 11 Loss 0.0794\n",
            "Time taken for 1 epoch 57.370667934417725 sec\n",
            "\n",
            "Epoch 12 Batch 0 Loss 0.0466\n",
            "Epoch 12 Batch 100 Loss 0.0720\n",
            "Epoch 12 Batch 200 Loss 0.0351\n",
            "Epoch 12 Batch 300 Loss 0.0801\n",
            "Epoch 12 Batch 400 Loss 0.0489\n",
            "Epoch 12 Batch 500 Loss 0.0862\n",
            "Epoch 12 Batch 600 Loss 0.0989\n",
            "Epoch 12 Batch 700 Loss 0.0487\n",
            "Epoch 12 Batch 800 Loss 0.0817\n",
            "Epoch 12 Batch 900 Loss 0.1152\n",
            "Epoch 12 Batch 1000 Loss 0.0875\n",
            "Epoch 12 Batch 1100 Loss 0.0995\n",
            "Epoch 12 Batch 1200 Loss 0.0814\n",
            "Epoch 12 Loss 0.0769\n",
            "Time taken for 1 epoch 57.340123414993286 sec\n",
            "\n",
            "Epoch 13 Batch 0 Loss 0.0583\n",
            "Epoch 13 Batch 100 Loss 0.0623\n",
            "Epoch 13 Batch 200 Loss 0.0415\n",
            "Epoch 13 Batch 300 Loss 0.0583\n",
            "Epoch 13 Batch 400 Loss 0.0799\n",
            "Epoch 13 Batch 500 Loss 0.0607\n",
            "Epoch 13 Batch 600 Loss 0.0612\n",
            "Epoch 13 Batch 700 Loss 0.0787\n",
            "Epoch 13 Batch 800 Loss 0.0881\n",
            "Epoch 13 Batch 900 Loss 0.0961\n",
            "Epoch 13 Batch 1000 Loss 0.0573\n",
            "Epoch 13 Batch 1100 Loss 0.0769\n",
            "Epoch 13 Batch 1200 Loss 0.1176\n",
            "Epoch 13 Loss 0.0742\n",
            "Time taken for 1 epoch 57.525373220443726 sec\n",
            "\n",
            "Epoch 14 Batch 0 Loss 0.0816\n",
            "Epoch 14 Batch 100 Loss 0.0501\n",
            "Epoch 14 Batch 200 Loss 0.0685\n",
            "Epoch 14 Batch 300 Loss 0.0501\n",
            "Epoch 14 Batch 400 Loss 0.0845\n",
            "Epoch 14 Batch 500 Loss 0.0506\n",
            "Epoch 14 Batch 600 Loss 0.0602\n",
            "Epoch 14 Batch 700 Loss 0.1205\n",
            "Epoch 14 Batch 800 Loss 0.0740\n",
            "Epoch 14 Batch 900 Loss 0.1334\n",
            "Epoch 14 Batch 1000 Loss 0.0753\n",
            "Epoch 14 Batch 1100 Loss 0.0661\n",
            "Epoch 14 Batch 1200 Loss 0.1098\n",
            "Epoch 14 Loss 0.0725\n",
            "Time taken for 1 epoch 57.2282555103302 sec\n",
            "\n",
            "Epoch 15 Batch 0 Loss 0.0235\n",
            "Epoch 15 Batch 100 Loss 0.0779\n",
            "Epoch 15 Batch 200 Loss 0.0468\n",
            "Epoch 15 Batch 300 Loss 0.0365\n",
            "Epoch 15 Batch 400 Loss 0.0705\n",
            "Epoch 15 Batch 500 Loss 0.0768\n",
            "Epoch 15 Batch 600 Loss 0.0771\n",
            "Epoch 15 Batch 700 Loss 0.0538\n",
            "Epoch 15 Batch 800 Loss 0.0855\n",
            "Epoch 15 Batch 900 Loss 0.0756\n",
            "Epoch 15 Batch 1000 Loss 0.0511\n",
            "Epoch 15 Batch 1100 Loss 0.0707\n",
            "Epoch 15 Batch 1200 Loss 0.0917\n",
            "Epoch 15 Loss 0.0696\n",
            "Time taken for 1 epoch 57.23833084106445 sec\n",
            "\n",
            "Epoch 16 Batch 0 Loss 0.0523\n",
            "Epoch 16 Batch 100 Loss 0.0388\n",
            "Epoch 16 Batch 200 Loss 0.0529\n",
            "Epoch 16 Batch 300 Loss 0.0471\n",
            "Epoch 16 Batch 400 Loss 0.0427\n",
            "Epoch 16 Batch 500 Loss 0.0833\n",
            "Epoch 16 Batch 600 Loss 0.0313\n",
            "Epoch 16 Batch 700 Loss 0.0708\n",
            "Epoch 16 Batch 800 Loss 0.0636\n",
            "Epoch 16 Batch 900 Loss 0.0735\n",
            "Epoch 16 Batch 1000 Loss 0.0741\n",
            "Epoch 16 Batch 1100 Loss 0.0723\n",
            "Epoch 16 Batch 1200 Loss 0.0822\n",
            "Epoch 16 Loss 0.0690\n",
            "Time taken for 1 epoch 57.37291145324707 sec\n",
            "\n",
            "Epoch 17 Batch 0 Loss 0.0498\n",
            "Epoch 17 Batch 100 Loss 0.0677\n",
            "Epoch 17 Batch 200 Loss 0.0347\n",
            "Epoch 17 Batch 300 Loss 0.1081\n",
            "Epoch 17 Batch 400 Loss 0.0408\n",
            "Epoch 17 Batch 500 Loss 0.0691\n",
            "Epoch 17 Batch 600 Loss 0.0519\n",
            "Epoch 17 Batch 700 Loss 0.0828\n",
            "Epoch 17 Batch 800 Loss 0.0589\n",
            "Epoch 17 Batch 900 Loss 0.0483\n",
            "Epoch 17 Batch 1000 Loss 0.0750\n",
            "Epoch 17 Batch 1100 Loss 0.0813\n",
            "Epoch 17 Batch 1200 Loss 0.0799\n",
            "Epoch 17 Loss 0.0668\n",
            "Time taken for 1 epoch 57.46607327461243 sec\n",
            "\n",
            "Epoch 18 Batch 0 Loss 0.0456\n",
            "Epoch 18 Batch 100 Loss 0.0713\n",
            "Epoch 18 Batch 200 Loss 0.0758\n",
            "Epoch 18 Batch 300 Loss 0.0487\n",
            "Epoch 18 Batch 400 Loss 0.0327\n",
            "Epoch 18 Batch 500 Loss 0.0552\n",
            "Epoch 18 Batch 600 Loss 0.0937\n",
            "Epoch 18 Batch 700 Loss 0.0306\n",
            "Epoch 18 Batch 800 Loss 0.0750\n",
            "Epoch 18 Batch 900 Loss 0.1151\n",
            "Epoch 18 Batch 1000 Loss 0.0914\n",
            "Epoch 18 Batch 1100 Loss 0.1026\n",
            "Epoch 18 Batch 1200 Loss 0.0679\n",
            "Epoch 18 Loss 0.0658\n",
            "Time taken for 1 epoch 57.49461841583252 sec\n",
            "\n",
            "Epoch 19 Batch 0 Loss 0.0583\n",
            "Epoch 19 Batch 100 Loss 0.0705\n",
            "Epoch 19 Batch 200 Loss 0.0359\n",
            "Epoch 19 Batch 300 Loss 0.0523\n",
            "Epoch 19 Batch 400 Loss 0.0520\n",
            "Epoch 19 Batch 500 Loss 0.0495\n",
            "Epoch 19 Batch 600 Loss 0.0383\n",
            "Epoch 19 Batch 700 Loss 0.0376\n",
            "Epoch 19 Batch 800 Loss 0.0952\n",
            "Epoch 19 Batch 900 Loss 0.0523\n",
            "Epoch 19 Batch 1000 Loss 0.0677\n",
            "Epoch 19 Batch 1100 Loss 0.0726\n",
            "Epoch 19 Batch 1200 Loss 0.0608\n",
            "Epoch 19 Loss 0.0647\n",
            "Time taken for 1 epoch 57.51348519325256 sec\n",
            "\n",
            "Epoch 20 Batch 0 Loss 0.0788\n",
            "Epoch 20 Batch 100 Loss 0.0755\n",
            "Epoch 20 Batch 200 Loss 0.0375\n",
            "Epoch 20 Batch 300 Loss 0.0635\n",
            "Epoch 20 Batch 400 Loss 0.0743\n",
            "Epoch 20 Batch 500 Loss 0.0877\n",
            "Epoch 20 Batch 600 Loss 0.0905\n",
            "Epoch 20 Batch 700 Loss 0.0646\n",
            "Epoch 20 Batch 800 Loss 0.1268\n",
            "Epoch 20 Batch 900 Loss 0.0559\n",
            "Epoch 20 Batch 1000 Loss 0.0937\n",
            "Epoch 20 Batch 1100 Loss 0.0471\n",
            "Epoch 20 Batch 1200 Loss 0.0759\n",
            "Epoch 20 Loss 0.0625\n",
            "Time taken for 1 epoch 57.46051502227783 sec\n",
            "\n",
            "Epoch 21 Batch 0 Loss 0.0437\n",
            "Epoch 21 Batch 100 Loss 0.0388\n",
            "Epoch 21 Batch 200 Loss 0.0500\n",
            "Epoch 21 Batch 300 Loss 0.0860\n",
            "Epoch 21 Batch 400 Loss 0.0319\n",
            "Epoch 21 Batch 500 Loss 0.0534\n",
            "Epoch 21 Batch 600 Loss 0.0895\n",
            "Epoch 21 Batch 700 Loss 0.1011\n",
            "Epoch 21 Batch 800 Loss 0.0450\n",
            "Epoch 21 Batch 900 Loss 0.1001\n",
            "Epoch 21 Batch 1000 Loss 0.0698\n",
            "Epoch 21 Batch 1100 Loss 0.0382\n",
            "Epoch 21 Batch 1200 Loss 0.0515\n",
            "Epoch 21 Loss 0.0621\n",
            "Time taken for 1 epoch 57.35399508476257 sec\n",
            "\n",
            "Epoch 22 Batch 0 Loss 0.0424\n",
            "Epoch 22 Batch 100 Loss 0.0236\n",
            "Epoch 22 Batch 200 Loss 0.0486\n",
            "Epoch 22 Batch 300 Loss 0.0635\n",
            "Epoch 22 Batch 400 Loss 0.0660\n",
            "Epoch 22 Batch 500 Loss 0.0428\n",
            "Epoch 22 Batch 600 Loss 0.0471\n",
            "Epoch 22 Batch 700 Loss 0.0527\n",
            "Epoch 22 Batch 800 Loss 0.0524\n",
            "Epoch 22 Batch 900 Loss 0.0496\n",
            "Epoch 22 Batch 1000 Loss 0.0511\n",
            "Epoch 22 Batch 1100 Loss 0.0560\n",
            "Epoch 22 Batch 1200 Loss 0.1042\n",
            "Epoch 22 Loss 0.0618\n",
            "Time taken for 1 epoch 57.40506863594055 sec\n",
            "\n",
            "Epoch 23 Batch 0 Loss 0.0339\n",
            "Epoch 23 Batch 100 Loss 0.0596\n",
            "Epoch 23 Batch 200 Loss 0.0416\n",
            "Epoch 23 Batch 300 Loss 0.0636\n",
            "Epoch 23 Batch 400 Loss 0.0634\n",
            "Epoch 23 Batch 500 Loss 0.0660\n",
            "Epoch 23 Batch 600 Loss 0.0639\n",
            "Epoch 23 Batch 700 Loss 0.0707\n",
            "Epoch 23 Batch 800 Loss 0.1379\n",
            "Epoch 23 Batch 900 Loss 0.0653\n",
            "Epoch 23 Batch 1000 Loss 0.0509\n",
            "Epoch 23 Batch 1100 Loss 0.0372\n",
            "Epoch 23 Batch 1200 Loss 0.1086\n",
            "Epoch 23 Loss 0.0598\n",
            "Time taken for 1 epoch 57.38429260253906 sec\n",
            "\n",
            "Epoch 24 Batch 0 Loss 0.0509\n",
            "Epoch 24 Batch 100 Loss 0.0462\n",
            "Epoch 24 Batch 200 Loss 0.0489\n",
            "Epoch 24 Batch 300 Loss 0.0662\n",
            "Epoch 24 Batch 400 Loss 0.0960\n",
            "Epoch 24 Batch 500 Loss 0.0490\n",
            "Epoch 24 Batch 600 Loss 0.0852\n",
            "Epoch 24 Batch 700 Loss 0.0578\n",
            "Epoch 24 Batch 800 Loss 0.0673\n",
            "Epoch 24 Batch 900 Loss 0.0334\n",
            "Epoch 24 Batch 1000 Loss 0.1093\n",
            "Epoch 24 Batch 1100 Loss 0.0713\n",
            "Epoch 24 Batch 1200 Loss 0.0582\n",
            "Epoch 24 Loss 0.0593\n",
            "Time taken for 1 epoch 57.22848558425903 sec\n",
            "\n",
            "Epoch 25 Batch 0 Loss 0.0634\n",
            "Epoch 25 Batch 100 Loss 0.0473\n",
            "Epoch 25 Batch 200 Loss 0.0563\n",
            "Epoch 25 Batch 300 Loss 0.0625\n",
            "Epoch 25 Batch 400 Loss 0.0171\n",
            "Epoch 25 Batch 500 Loss 0.0664\n",
            "Epoch 25 Batch 600 Loss 0.0454\n",
            "Epoch 25 Batch 700 Loss 0.0414\n",
            "Epoch 25 Batch 800 Loss 0.0836\n",
            "Epoch 25 Batch 900 Loss 0.0577\n",
            "Epoch 25 Batch 1000 Loss 0.0421\n",
            "Epoch 25 Batch 1100 Loss 0.0567\n",
            "Epoch 25 Batch 1200 Loss 0.1080\n",
            "Epoch 25 Loss 0.0580\n",
            "Time taken for 1 epoch 58.121397733688354 sec\n",
            "\n",
            "Epoch 26 Batch 0 Loss 0.0289\n",
            "Epoch 26 Batch 100 Loss 0.1132\n",
            "Epoch 26 Batch 200 Loss 0.0403\n",
            "Epoch 26 Batch 300 Loss 0.0416\n",
            "Epoch 26 Batch 400 Loss 0.0721\n",
            "Epoch 26 Batch 500 Loss 0.0901\n",
            "Epoch 26 Batch 600 Loss 0.0714\n",
            "Epoch 26 Batch 700 Loss 0.0509\n",
            "Epoch 26 Batch 800 Loss 0.0809\n",
            "Epoch 26 Batch 900 Loss 0.0509\n",
            "Epoch 26 Batch 1000 Loss 0.0446\n",
            "Epoch 26 Batch 1100 Loss 0.0784\n",
            "Epoch 26 Batch 1200 Loss 0.0722\n",
            "Epoch 26 Loss 0.0573\n",
            "Time taken for 1 epoch 57.45543026924133 sec\n",
            "\n",
            "Epoch 27 Batch 0 Loss 0.0423\n",
            "Epoch 27 Batch 100 Loss 0.0346\n",
            "Epoch 27 Batch 200 Loss 0.0725\n",
            "Epoch 27 Batch 300 Loss 0.0787\n",
            "Epoch 27 Batch 400 Loss 0.0860\n",
            "Epoch 27 Batch 500 Loss 0.0434\n",
            "Epoch 27 Batch 600 Loss 0.0369\n",
            "Epoch 27 Batch 700 Loss 0.0637\n",
            "Epoch 27 Batch 800 Loss 0.0680\n",
            "Epoch 27 Batch 900 Loss 0.0624\n",
            "Epoch 27 Batch 1000 Loss 0.0692\n",
            "Epoch 27 Batch 1100 Loss 0.0723\n",
            "Epoch 27 Batch 1200 Loss 0.0774\n",
            "Epoch 27 Loss 0.0564\n",
            "Time taken for 1 epoch 57.41858744621277 sec\n",
            "\n",
            "Epoch 28 Batch 0 Loss 0.0337\n",
            "Epoch 28 Batch 100 Loss 0.0325\n",
            "Epoch 28 Batch 200 Loss 0.0395\n",
            "Epoch 28 Batch 300 Loss 0.0368\n",
            "Epoch 28 Batch 400 Loss 0.0467\n",
            "Epoch 28 Batch 500 Loss 0.0685\n",
            "Epoch 28 Batch 600 Loss 0.0322\n",
            "Epoch 28 Batch 700 Loss 0.0675\n",
            "Epoch 28 Batch 800 Loss 0.0696\n",
            "Epoch 28 Batch 900 Loss 0.0306\n",
            "Epoch 28 Batch 1000 Loss 0.1030\n",
            "Epoch 28 Batch 1100 Loss 0.0642\n",
            "Epoch 28 Batch 1200 Loss 0.0797\n",
            "Epoch 28 Loss 0.0555\n",
            "Time taken for 1 epoch 57.39139461517334 sec\n",
            "\n",
            "Epoch 29 Batch 0 Loss 0.0579\n",
            "Epoch 29 Batch 100 Loss 0.0856\n",
            "Epoch 29 Batch 200 Loss 0.0440\n",
            "Epoch 29 Batch 300 Loss 0.0239\n",
            "Epoch 29 Batch 400 Loss 0.0766\n",
            "Epoch 29 Batch 500 Loss 0.0423\n",
            "Epoch 29 Batch 600 Loss 0.0675\n",
            "Epoch 29 Batch 700 Loss 0.0225\n",
            "Epoch 29 Batch 800 Loss 0.0462\n",
            "Epoch 29 Batch 900 Loss 0.0718\n",
            "Epoch 29 Batch 1000 Loss 0.0554\n",
            "Epoch 29 Batch 1100 Loss 0.0536\n",
            "Epoch 29 Batch 1200 Loss 0.0682\n",
            "Epoch 29 Loss 0.0550\n",
            "Time taken for 1 epoch 57.26081705093384 sec\n",
            "\n",
            "Epoch 30 Batch 0 Loss 0.0547\n",
            "Epoch 30 Batch 100 Loss 0.0596\n",
            "Epoch 30 Batch 200 Loss 0.0324\n",
            "Epoch 30 Batch 300 Loss 0.0633\n",
            "Epoch 30 Batch 400 Loss 0.0633\n",
            "Epoch 30 Batch 500 Loss 0.0301\n",
            "Epoch 30 Batch 600 Loss 0.0535\n",
            "Epoch 30 Batch 700 Loss 0.0269\n",
            "Epoch 30 Batch 800 Loss 0.0650\n",
            "Epoch 30 Batch 900 Loss 0.0655\n",
            "Epoch 30 Batch 1000 Loss 0.0709\n",
            "Epoch 30 Batch 1100 Loss 0.0631\n",
            "Epoch 30 Batch 1200 Loss 0.0854\n",
            "Epoch 30 Loss 0.0541\n",
            "Time taken for 1 epoch 57.74074578285217 sec\n",
            "\n",
            "Epoch 31 Batch 0 Loss 0.0331\n",
            "Epoch 31 Batch 100 Loss 0.0628\n",
            "Epoch 31 Batch 200 Loss 0.0739\n",
            "Epoch 31 Batch 300 Loss 0.0351\n",
            "Epoch 31 Batch 400 Loss 0.0252\n",
            "Epoch 31 Batch 500 Loss 0.0858\n",
            "Epoch 31 Batch 600 Loss 0.0535\n",
            "Epoch 31 Batch 700 Loss 0.0347\n",
            "Epoch 31 Batch 800 Loss 0.0485\n",
            "Epoch 31 Batch 900 Loss 0.0513\n",
            "Epoch 31 Batch 1000 Loss 0.0575\n",
            "Epoch 31 Batch 1100 Loss 0.0473\n",
            "Epoch 31 Batch 1200 Loss 0.0640\n",
            "Epoch 31 Loss 0.0535\n",
            "Time taken for 1 epoch 57.407315731048584 sec\n",
            "\n",
            "Epoch 32 Batch 0 Loss 0.0271\n",
            "Epoch 32 Batch 100 Loss 0.0305\n",
            "Epoch 32 Batch 200 Loss 0.0357\n",
            "Epoch 32 Batch 300 Loss 0.0297\n",
            "Epoch 32 Batch 400 Loss 0.0378\n",
            "Epoch 32 Batch 500 Loss 0.0405\n",
            "Epoch 32 Batch 600 Loss 0.0803\n",
            "Epoch 32 Batch 700 Loss 0.0792\n",
            "Epoch 32 Batch 800 Loss 0.0632\n",
            "Epoch 32 Batch 900 Loss 0.0593\n",
            "Epoch 32 Batch 1000 Loss 0.0776\n",
            "Epoch 32 Batch 1100 Loss 0.0648\n",
            "Epoch 32 Batch 1200 Loss 0.0503\n",
            "Epoch 32 Loss 0.0529\n",
            "Time taken for 1 epoch 57.40583038330078 sec\n",
            "\n",
            "Epoch 33 Batch 0 Loss 0.0192\n",
            "Epoch 33 Batch 100 Loss 0.0477\n",
            "Epoch 33 Batch 200 Loss 0.0264\n",
            "Epoch 33 Batch 300 Loss 0.0555\n",
            "Epoch 33 Batch 400 Loss 0.0457\n",
            "Epoch 33 Batch 500 Loss 0.0781\n",
            "Epoch 33 Batch 600 Loss 0.0444\n",
            "Epoch 33 Batch 700 Loss 0.0649\n",
            "Epoch 33 Batch 800 Loss 0.0568\n",
            "Epoch 33 Batch 900 Loss 0.0454\n",
            "Epoch 33 Batch 1000 Loss 0.0683\n",
            "Epoch 33 Batch 1100 Loss 0.0703\n",
            "Epoch 33 Batch 1200 Loss 0.0619\n",
            "Epoch 33 Loss 0.0524\n",
            "Time taken for 1 epoch 57.93725800514221 sec\n",
            "\n",
            "Epoch 34 Batch 0 Loss 0.0284\n",
            "Epoch 34 Batch 100 Loss 0.0380\n",
            "Epoch 34 Batch 200 Loss 0.0800\n",
            "Epoch 34 Batch 300 Loss 0.0430\n",
            "Epoch 34 Batch 400 Loss 0.0439\n",
            "Epoch 34 Batch 500 Loss 0.0910\n",
            "Epoch 34 Batch 600 Loss 0.0767\n",
            "Epoch 34 Batch 700 Loss 0.0504\n",
            "Epoch 34 Batch 800 Loss 0.0342\n",
            "Epoch 34 Batch 900 Loss 0.0579\n",
            "Epoch 34 Batch 1000 Loss 0.0599\n",
            "Epoch 34 Batch 1100 Loss 0.0775\n",
            "Epoch 34 Batch 1200 Loss 0.0282\n",
            "Epoch 34 Loss 0.0519\n",
            "Time taken for 1 epoch 57.21727967262268 sec\n",
            "\n",
            "Epoch 35 Batch 0 Loss 0.0441\n",
            "Epoch 35 Batch 100 Loss 0.0555\n",
            "Epoch 35 Batch 200 Loss 0.0480\n",
            "Epoch 35 Batch 300 Loss 0.0510\n",
            "Epoch 35 Batch 400 Loss 0.0631\n",
            "Epoch 35 Batch 500 Loss 0.0397\n",
            "Epoch 35 Batch 600 Loss 0.0502\n",
            "Epoch 35 Batch 700 Loss 0.0270\n",
            "Epoch 35 Batch 800 Loss 0.0510\n",
            "Epoch 35 Batch 900 Loss 0.0859\n",
            "Epoch 35 Batch 1000 Loss 0.0648\n",
            "Epoch 35 Batch 1100 Loss 0.0483\n",
            "Epoch 35 Batch 1200 Loss 0.0242\n",
            "Epoch 35 Loss 0.0513\n",
            "Time taken for 1 epoch 57.502378702163696 sec\n",
            "\n",
            "Epoch 36 Batch 0 Loss 0.0461\n",
            "Epoch 36 Batch 100 Loss 0.0513\n",
            "Epoch 36 Batch 200 Loss 0.0239\n",
            "Epoch 36 Batch 300 Loss 0.0289\n",
            "Epoch 36 Batch 400 Loss 0.0400\n",
            "Epoch 36 Batch 500 Loss 0.0330\n",
            "Epoch 36 Batch 600 Loss 0.0884\n",
            "Epoch 36 Batch 700 Loss 0.0641\n",
            "Epoch 36 Batch 800 Loss 0.0514\n",
            "Epoch 36 Batch 900 Loss 0.0602\n",
            "Epoch 36 Batch 1000 Loss 0.0731\n",
            "Epoch 36 Batch 1100 Loss 0.0554\n",
            "Epoch 36 Batch 1200 Loss 0.0620\n",
            "Epoch 36 Loss 0.0503\n",
            "Time taken for 1 epoch 57.39108633995056 sec\n",
            "\n",
            "Epoch 37 Batch 0 Loss 0.0428\n",
            "Epoch 37 Batch 100 Loss 0.0622\n",
            "Epoch 37 Batch 200 Loss 0.0258\n",
            "Epoch 37 Batch 300 Loss 0.0477\n",
            "Epoch 37 Batch 400 Loss 0.0244\n",
            "Epoch 37 Batch 500 Loss 0.0353\n",
            "Epoch 37 Batch 600 Loss 0.0747\n",
            "Epoch 37 Batch 700 Loss 0.0774\n",
            "Epoch 37 Batch 800 Loss 0.0544\n",
            "Epoch 37 Batch 900 Loss 0.0520\n",
            "Epoch 37 Batch 1000 Loss 0.0447\n",
            "Epoch 37 Batch 1100 Loss 0.0273\n",
            "Epoch 37 Batch 1200 Loss 0.0584\n",
            "Epoch 37 Loss 0.0499\n",
            "Time taken for 1 epoch 57.39382457733154 sec\n",
            "\n",
            "Epoch 38 Batch 0 Loss 0.0935\n",
            "Epoch 38 Batch 100 Loss 0.0521\n",
            "Epoch 38 Batch 200 Loss 0.0728\n",
            "Epoch 38 Batch 300 Loss 0.0503\n",
            "Epoch 38 Batch 400 Loss 0.0376\n",
            "Epoch 38 Batch 500 Loss 0.0472\n",
            "Epoch 38 Batch 600 Loss 0.0318\n",
            "Epoch 38 Batch 700 Loss 0.0350\n",
            "Epoch 38 Batch 800 Loss 0.0686\n",
            "Epoch 38 Batch 900 Loss 0.0466\n",
            "Epoch 38 Batch 1000 Loss 0.0634\n",
            "Epoch 38 Batch 1100 Loss 0.0390\n",
            "Epoch 38 Batch 1200 Loss 0.0683\n",
            "Epoch 38 Loss 0.0497\n",
            "Time taken for 1 epoch 57.32698464393616 sec\n",
            "\n",
            "Epoch 39 Batch 0 Loss 0.0588\n",
            "Epoch 39 Batch 100 Loss 0.0522\n",
            "Epoch 39 Batch 200 Loss 0.0301\n",
            "Epoch 39 Batch 300 Loss 0.0430\n",
            "Epoch 39 Batch 400 Loss 0.0312\n",
            "Epoch 39 Batch 500 Loss 0.0713\n",
            "Epoch 39 Batch 600 Loss 0.0607\n",
            "Epoch 39 Batch 700 Loss 0.0292\n",
            "Epoch 39 Batch 800 Loss 0.0437\n",
            "Epoch 39 Batch 900 Loss 0.0332\n",
            "Epoch 39 Batch 1000 Loss 0.0616\n",
            "Epoch 39 Batch 1100 Loss 0.0736\n",
            "Epoch 39 Batch 1200 Loss 0.0474\n",
            "Epoch 39 Loss 0.0492\n",
            "Time taken for 1 epoch 57.67842364311218 sec\n",
            "\n",
            "Epoch 40 Batch 0 Loss 0.0576\n",
            "Epoch 40 Batch 100 Loss 0.0678\n",
            "Epoch 40 Batch 200 Loss 0.0568\n",
            "Epoch 40 Batch 300 Loss 0.0313\n",
            "Epoch 40 Batch 400 Loss 0.0478\n",
            "Epoch 40 Batch 500 Loss 0.0705\n",
            "Epoch 40 Batch 600 Loss 0.0634\n",
            "Epoch 40 Batch 700 Loss 0.0459\n",
            "Epoch 40 Batch 800 Loss 0.0516\n",
            "Epoch 40 Batch 900 Loss 0.0500\n",
            "Epoch 40 Batch 1000 Loss 0.0600\n",
            "Epoch 40 Batch 1100 Loss 0.0417\n",
            "Epoch 40 Batch 1200 Loss 0.0634\n",
            "Epoch 40 Loss 0.0486\n",
            "Time taken for 1 epoch 57.53100252151489 sec\n",
            "\n",
            "Epoch 41 Batch 0 Loss 0.0423\n",
            "Epoch 41 Batch 100 Loss 0.0323\n",
            "Epoch 41 Batch 200 Loss 0.0260\n",
            "Epoch 41 Batch 300 Loss 0.0470\n",
            "Epoch 41 Batch 400 Loss 0.0474\n",
            "Epoch 41 Batch 500 Loss 0.0225\n",
            "Epoch 41 Batch 600 Loss 0.0381\n",
            "Epoch 41 Batch 700 Loss 0.0470\n",
            "Epoch 41 Batch 800 Loss 0.0382\n",
            "Epoch 41 Batch 900 Loss 0.0747\n",
            "Epoch 41 Batch 1000 Loss 0.0471\n",
            "Epoch 41 Batch 1100 Loss 0.0904\n",
            "Epoch 41 Batch 1200 Loss 0.0639\n",
            "Epoch 41 Loss 0.0484\n",
            "Time taken for 1 epoch 57.31076407432556 sec\n",
            "\n",
            "Epoch 42 Batch 0 Loss 0.0338\n",
            "Epoch 42 Batch 100 Loss 0.0304\n",
            "Epoch 42 Batch 200 Loss 0.0136\n",
            "Epoch 42 Batch 300 Loss 0.0442\n",
            "Epoch 42 Batch 400 Loss 0.0231\n",
            "Epoch 42 Batch 500 Loss 0.0277\n",
            "Epoch 42 Batch 600 Loss 0.0586\n",
            "Epoch 42 Batch 700 Loss 0.0317\n",
            "Epoch 42 Batch 800 Loss 0.0323\n",
            "Epoch 42 Batch 900 Loss 0.0407\n",
            "Epoch 42 Batch 1000 Loss 0.0446\n",
            "Epoch 42 Batch 1100 Loss 0.0622\n",
            "Epoch 42 Batch 1200 Loss 0.0571\n",
            "Epoch 42 Loss 0.0476\n",
            "Time taken for 1 epoch 57.10950684547424 sec\n",
            "\n",
            "Epoch 43 Batch 0 Loss 0.0315\n",
            "Epoch 43 Batch 100 Loss 0.0455\n",
            "Epoch 43 Batch 200 Loss 0.0518\n",
            "Epoch 43 Batch 300 Loss 0.0523\n",
            "Epoch 43 Batch 400 Loss 0.0439\n",
            "Epoch 43 Batch 500 Loss 0.0408\n",
            "Epoch 43 Batch 600 Loss 0.0508\n",
            "Epoch 43 Batch 700 Loss 0.0177\n",
            "Epoch 43 Batch 800 Loss 0.0300\n",
            "Epoch 43 Batch 900 Loss 0.0557\n",
            "Epoch 43 Batch 1000 Loss 0.0300\n",
            "Epoch 43 Batch 1100 Loss 0.0526\n",
            "Epoch 43 Batch 1200 Loss 0.0599\n",
            "Epoch 43 Loss 0.0469\n",
            "Time taken for 1 epoch 57.32962512969971 sec\n",
            "\n",
            "Epoch 44 Batch 0 Loss 0.0242\n",
            "Epoch 44 Batch 100 Loss 0.0308\n",
            "Epoch 44 Batch 200 Loss 0.0239\n",
            "Epoch 44 Batch 300 Loss 0.0279\n",
            "Epoch 44 Batch 400 Loss 0.0444\n",
            "Epoch 44 Batch 500 Loss 0.0538\n",
            "Epoch 44 Batch 600 Loss 0.0262\n",
            "Epoch 44 Batch 700 Loss 0.0574\n",
            "Epoch 44 Batch 800 Loss 0.0421\n",
            "Epoch 44 Batch 900 Loss 0.0589\n",
            "Epoch 44 Batch 1000 Loss 0.0674\n",
            "Epoch 44 Batch 1100 Loss 0.0498\n",
            "Epoch 44 Batch 1200 Loss 0.0588\n",
            "Epoch 44 Loss 0.0473\n",
            "Time taken for 1 epoch 57.244261264801025 sec\n",
            "\n",
            "Epoch 45 Batch 0 Loss 0.0453\n",
            "Epoch 45 Batch 100 Loss 0.0680\n",
            "Epoch 45 Batch 200 Loss 0.0309\n",
            "Epoch 45 Batch 300 Loss 0.0354\n",
            "Epoch 45 Batch 400 Loss 0.0345\n",
            "Epoch 45 Batch 500 Loss 0.0245\n",
            "Epoch 45 Batch 600 Loss 0.0613\n",
            "Epoch 45 Batch 700 Loss 0.0385\n",
            "Epoch 45 Batch 800 Loss 0.0648\n",
            "Epoch 45 Batch 900 Loss 0.0506\n",
            "Epoch 45 Batch 1000 Loss 0.0378\n",
            "Epoch 45 Batch 1100 Loss 0.0681\n",
            "Epoch 45 Batch 1200 Loss 0.0717\n",
            "Epoch 45 Loss 0.0469\n",
            "Time taken for 1 epoch 57.26042699813843 sec\n",
            "\n",
            "Epoch 46 Batch 0 Loss 0.0345\n",
            "Epoch 46 Batch 100 Loss 0.0327\n",
            "Epoch 46 Batch 200 Loss 0.0313\n",
            "Epoch 46 Batch 300 Loss 0.0352\n",
            "Epoch 46 Batch 400 Loss 0.0225\n",
            "Epoch 46 Batch 500 Loss 0.0266\n",
            "Epoch 46 Batch 600 Loss 0.0813\n",
            "Epoch 46 Batch 700 Loss 0.0466\n",
            "Epoch 46 Batch 800 Loss 0.0805\n",
            "Epoch 46 Batch 900 Loss 0.0452\n",
            "Epoch 46 Batch 1000 Loss 0.0746\n",
            "Epoch 46 Batch 1100 Loss 0.0562\n",
            "Epoch 46 Batch 1200 Loss 0.0539\n",
            "Epoch 46 Loss 0.0457\n",
            "Time taken for 1 epoch 57.15348029136658 sec\n",
            "\n",
            "Epoch 47 Batch 0 Loss 0.0339\n",
            "Epoch 47 Batch 100 Loss 0.0319\n",
            "Epoch 47 Batch 200 Loss 0.0458\n",
            "Epoch 47 Batch 300 Loss 0.0436\n",
            "Epoch 47 Batch 400 Loss 0.0480\n",
            "Epoch 47 Batch 500 Loss 0.0359\n",
            "Epoch 47 Batch 600 Loss 0.0412\n",
            "Epoch 47 Batch 700 Loss 0.0599\n",
            "Epoch 47 Batch 800 Loss 0.0570\n",
            "Epoch 47 Batch 900 Loss 0.0499\n",
            "Epoch 47 Batch 1000 Loss 0.0606\n",
            "Epoch 47 Batch 1100 Loss 0.0382\n",
            "Epoch 47 Batch 1200 Loss 0.0554\n",
            "Epoch 47 Loss 0.0460\n",
            "Time taken for 1 epoch 57.370713233947754 sec\n",
            "\n",
            "Epoch 48 Batch 0 Loss 0.0399\n",
            "Epoch 48 Batch 100 Loss 0.0333\n",
            "Epoch 48 Batch 200 Loss 0.0362\n",
            "Epoch 48 Batch 300 Loss 0.0565\n",
            "Epoch 48 Batch 400 Loss 0.0416\n",
            "Epoch 48 Batch 500 Loss 0.0597\n",
            "Epoch 48 Batch 600 Loss 0.0421\n",
            "Epoch 48 Batch 700 Loss 0.0370\n",
            "Epoch 48 Batch 800 Loss 0.0360\n",
            "Epoch 48 Batch 900 Loss 0.0398\n",
            "Epoch 48 Batch 1000 Loss 0.0459\n",
            "Epoch 48 Batch 1100 Loss 0.0399\n",
            "Epoch 48 Batch 1200 Loss 0.0525\n",
            "Epoch 48 Loss 0.0454\n",
            "Time taken for 1 epoch 57.593093395233154 sec\n",
            "\n",
            "Epoch 49 Batch 0 Loss 0.0378\n",
            "Epoch 49 Batch 100 Loss 0.0288\n",
            "Epoch 49 Batch 200 Loss 0.0336\n",
            "Epoch 49 Batch 300 Loss 0.0412\n",
            "Epoch 49 Batch 400 Loss 0.0402\n",
            "Epoch 49 Batch 500 Loss 0.0751\n",
            "Epoch 49 Batch 600 Loss 0.0377\n",
            "Epoch 49 Batch 700 Loss 0.0424\n",
            "Epoch 49 Batch 800 Loss 0.0280\n",
            "Epoch 49 Batch 900 Loss 0.0365\n",
            "Epoch 49 Batch 1000 Loss 0.0447\n",
            "Epoch 49 Batch 1100 Loss 0.0468\n",
            "Epoch 49 Batch 1200 Loss 0.0730\n",
            "Epoch 49 Loss 0.0452\n",
            "Time taken for 1 epoch 57.528600454330444 sec\n",
            "\n",
            "Epoch 50 Batch 0 Loss 0.0329\n",
            "Epoch 50 Batch 100 Loss 0.0433\n",
            "Epoch 50 Batch 200 Loss 0.0546\n",
            "Epoch 50 Batch 300 Loss 0.0401\n",
            "Epoch 50 Batch 400 Loss 0.0408\n",
            "Epoch 50 Batch 500 Loss 0.0436\n",
            "Epoch 50 Batch 600 Loss 0.0379\n",
            "Epoch 50 Batch 700 Loss 0.0567\n",
            "Epoch 50 Batch 800 Loss 0.0375\n",
            "Epoch 50 Batch 900 Loss 0.0639\n",
            "Epoch 50 Batch 1000 Loss 0.0654\n",
            "Epoch 50 Batch 1100 Loss 0.0472\n",
            "Epoch 50 Batch 1200 Loss 0.0544\n",
            "Epoch 50 Loss 0.0448\n",
            "Time taken for 1 epoch 58.098307371139526 sec\n",
            "\n"
          ]
        }
      ]
    },
    {
      "cell_type": "code",
      "metadata": {
        "id": "EbQpyYs13jF_"
      },
      "source": [
        "def evaluate(sentence):\n",
        "  # выполняем препоцессинг предложения\n",
        "  attention_plot = np.zeros((max_length_targ, max_length_inp))\n",
        "  #разбиваем предложение по пробелам и составляем список индексов каждого слова\n",
        "  sentence = preprocess_sentence(sentence)\n",
        "\n",
        "  inputs = [inp_lang.word_index[i] for i in sentence.split(' ')]\n",
        "  #заполняем inputs нулями справа до максимальной длины входного текста\n",
        "  inputs = tf.keras.preprocessing.sequence.pad_sequences([inputs],\n",
        "                                                         maxlen=max_length_inp,\n",
        "                                                         padding='post')\n",
        "  #преобразуем inputs в тензор\n",
        "  inputs = tf.convert_to_tensor(inputs)\n",
        "\n",
        "  result = ''\n",
        "  #инициализируем входной hidden из нулей размера (1, units)\n",
        "  hidden = [tf.zeros((1, units))]\n",
        "  #подаем inputs и hidden в encoder\n",
        "  enc_hidden = encoder(inputs, hidden)\n",
        "\n",
        "  #инициализируем входной hidden декодера -- выходной hidden энкодера\n",
        "  dec_hidden = enc_hidden\n",
        "  #вход декодера -- список [индекс start] размера(1,1)\n",
        "  dec_input = tf.expand_dims([targ_lang.word_index['<start>']], 0)\n",
        "\n",
        "  for t in range(max_length_targ):\n",
        "    #получаем выход декодера\n",
        "    predictions, dec_hidden = decoder(dec_input, dec_hidden)\n",
        "\n",
        "    # storing the attention weights to plot later on\n",
        "    predicted_id = tf.argmax(predictions[0]).numpy()\n",
        "    result += targ_lang.index_word[predicted_id] + ' '\n",
        "\n",
        "    #заканчиваем на токене end\n",
        "    if targ_lang.index_word[predicted_id] == '<end>':\n",
        "      return result, sentence\n",
        "\n",
        "    #предсказанный predicted ID подаем обратно в декодер (размер (1,1))\n",
        "    dec_input = tf.expand_dims([predicted_id], 0)\n",
        "\n",
        "  return result, sentence"
      ],
      "execution_count": null,
      "outputs": []
    },
    {
      "cell_type": "markdown",
      "source": [
        "**Напишем функцию для перевода текста.**"
      ],
      "metadata": {
        "id": "I-lDxdLcJAVf"
      }
    },
    {
      "cell_type": "code",
      "metadata": {
        "id": "sl9zUHzg3jGI"
      },
      "source": [
        "def translate(sentence):\n",
        "  result, sentence = evaluate(sentence)\n",
        "\n",
        "  print('Input: %s' % (sentence))\n",
        "  print('Predicted translation: {}'.format(result))"
      ],
      "execution_count": null,
      "outputs": []
    },
    {
      "cell_type": "markdown",
      "metadata": {
        "id": "n250XbnjOaqP"
      },
      "source": [
        "**Загрузим последний сохраненный чекпойнт .**"
      ]
    },
    {
      "cell_type": "code",
      "metadata": {
        "id": "UJpT9D5_OgP6",
        "colab": {
          "base_uri": "https://localhost:8080/"
        },
        "outputId": "33fe9b93-43dc-4b8d-f53f-a09da66dd4ba"
      },
      "source": [
        "checkpoint.restore(tf.train.latest_checkpoint(checkpoint_dir))"
      ],
      "execution_count": null,
      "outputs": [
        {
          "output_type": "execute_result",
          "data": {
            "text/plain": [
              "<tensorflow.python.training.tracking.util.CheckpointLoadStatus at 0x7f54b232af10>"
            ]
          },
          "metadata": {},
          "execution_count": 32
        }
      ]
    },
    {
      "cell_type": "markdown",
      "source": [
        "### Протестируем работу модели."
      ],
      "metadata": {
        "id": "YWYVw43uJcgU"
      }
    },
    {
      "cell_type": "code",
      "metadata": {
        "id": "WrAM0FDomq3E",
        "colab": {
          "base_uri": "https://localhost:8080/"
        },
        "outputId": "ef0e36c8-a28a-4126-999a-fecaefe47048"
      },
      "source": [
        "translate('Хорошая погода.')"
      ],
      "execution_count": null,
      "outputs": [
        {
          "output_type": "stream",
          "name": "stdout",
          "text": [
            "Input: <start> здесь хорошо . <end>\n",
            "Predicted translation: it's good here . <end> \n"
          ]
        }
      ]
    },
    {
      "cell_type": "code",
      "metadata": {
        "id": "5bhFfwcIMX5i",
        "colab": {
          "base_uri": "https://localhost:8080/"
        },
        "outputId": "402a7e46-14be-4f05-8047-997071b1a183"
      },
      "source": [
        "translate('Я не смогу поехать.')"
      ],
      "execution_count": null,
      "outputs": [
        {
          "output_type": "stream",
          "name": "stdout",
          "text": [
            "Input: <start> я не смогу поехать . <end>\n",
            "Predicted translation: i can't go . <end> \n"
          ]
        }
      ]
    },
    {
      "cell_type": "code",
      "metadata": {
        "id": "zSx2iM36EZQZ",
        "colab": {
          "base_uri": "https://localhost:8080/"
        },
        "outputId": "8cc28287-09b0-4adf-ec6c-fdd8ffdaca25"
      },
      "source": [
        "translate(u'Вы еще дома?')"
      ],
      "execution_count": null,
      "outputs": [
        {
          "output_type": "stream",
          "name": "stdout",
          "text": [
            "Input: <start> вы еще дома ? <end>\n",
            "Predicted translation: are you still home ? <end> \n"
          ]
        }
      ]
    },
    {
      "cell_type": "code",
      "metadata": {
        "id": "A3LLCx3ZE0Ls",
        "colab": {
          "base_uri": "https://localhost:8080/"
        },
        "outputId": "1e7369b9-6fb8-43e9-88a0-94bc557d7e40"
      },
      "source": [
        "translate(u'Вы все еще дома?')"
      ],
      "execution_count": null,
      "outputs": [
        {
          "output_type": "stream",
          "name": "stdout",
          "text": [
            "Input: <start> вы все еще дома ? <end>\n",
            "Predicted translation: are you still home ? <end> \n"
          ]
        }
      ]
    },
    {
      "cell_type": "code",
      "source": [
        "translate(u'Вы уже дома?')"
      ],
      "metadata": {
        "colab": {
          "base_uri": "https://localhost:8080/"
        },
        "id": "bFBvSLQmOWRN",
        "outputId": "0c2c260f-66bd-4cf1-8868-6b68b78c900a"
      },
      "execution_count": null,
      "outputs": [
        {
          "output_type": "stream",
          "name": "stdout",
          "text": [
            "Input: <start> вы уже дома ? <end>\n",
            "Predicted translation: are you at home yet ? <end> \n"
          ]
        }
      ]
    },
    {
      "cell_type": "code",
      "metadata": {
        "id": "DUQVLVqUE1YW",
        "colab": {
          "base_uri": "https://localhost:8080/"
        },
        "outputId": "a4db97a7-26aa-40c1-e72e-770f2522c94c"
      },
      "source": [
        "translate(u'Попробуй сделать это.')"
      ],
      "execution_count": null,
      "outputs": [
        {
          "output_type": "stream",
          "name": "stdout",
          "text": [
            "Input: <start> попробуй сделать это . <end>\n",
            "Predicted translation: try to do that . <end> \n"
          ]
        }
      ]
    },
    {
      "cell_type": "code",
      "metadata": {
        "id": "f09_hUFx9EJh",
        "colab": {
          "base_uri": "https://localhost:8080/"
        },
        "outputId": "c034946d-f3e9-4c8f-ad44-57f4e81adffd"
      },
      "source": [
        "translate(u'Я люблю, когда идет снег.')"
      ],
      "execution_count": null,
      "outputs": [
        {
          "output_type": "stream",
          "name": "stdout",
          "text": [
            "Input: <start> я люблю , когда идет снег . <end>\n",
            "Predicted translation: i like snow a lot . <end> \n"
          ]
        }
      ]
    },
    {
      "cell_type": "code",
      "source": [
        "translate(u'Это хороший фильм.')"
      ],
      "metadata": {
        "colab": {
          "base_uri": "https://localhost:8080/"
        },
        "id": "Okt3L2VPK6gp",
        "outputId": "10eb98bd-8ddf-4219-e4a0-7d3f791eec4b"
      },
      "execution_count": null,
      "outputs": [
        {
          "output_type": "stream",
          "name": "stdout",
          "text": [
            "Input: <start> это хороший фильм . <end>\n",
            "Predicted translation: this is a good movie . <end> \n"
          ]
        }
      ]
    },
    {
      "cell_type": "code",
      "source": [
        "translate(u'Это не совсем хороший фильм.')"
      ],
      "metadata": {
        "colab": {
          "base_uri": "https://localhost:8080/"
        },
        "id": "wbKJ0mviK6nq",
        "outputId": "2f3f117f-2c68-4fe2-d752-d8cc18202a9a"
      },
      "execution_count": null,
      "outputs": [
        {
          "output_type": "stream",
          "name": "stdout",
          "text": [
            "Input: <start> это не совсем хороший фильм . <end>\n",
            "Predicted translation: it's not that movie . <end> \n"
          ]
        }
      ]
    },
    {
      "cell_type": "code",
      "source": [
        "translate(u'Это совсем нехороший фильм.')"
      ],
      "metadata": {
        "colab": {
          "base_uri": "https://localhost:8080/"
        },
        "id": "M8ShfqgcK6wd",
        "outputId": "4a9853c8-19ce-4542-d633-04c2adbc8c4f"
      },
      "execution_count": null,
      "outputs": [
        {
          "output_type": "stream",
          "name": "stdout",
          "text": [
            "Input: <start> это совсем нехороший фильм . <end>\n",
            "Predicted translation: it's not really fussy . <end> \n"
          ]
        }
      ]
    },
    {
      "cell_type": "code",
      "metadata": {
        "id": "e7c5p8rmkHQG",
        "colab": {
          "base_uri": "https://localhost:8080/"
        },
        "outputId": "7d4eefb9-c376-4f99-8615-8141718cd640"
      },
      "source": [
        "translate(u'Любите Родину, вашу мать!')"
      ],
      "execution_count": null,
      "outputs": [
        {
          "output_type": "stream",
          "name": "stdout",
          "text": [
            "Input: <start> любите родину , вашу мать ! <end>\n",
            "Predicted translation: i wish you love . <end> \n"
          ]
        }
      ]
    },
    {
      "cell_type": "code",
      "metadata": {
        "id": "jdXES85KkTVS",
        "colab": {
          "base_uri": "https://localhost:8080/",
          "height": 311
        },
        "outputId": "88c7a05f-b64f-4e31-d50b-f19b637863a8"
      },
      "source": [
        "translate(u'На улице темнота, ни зги не видно.')"
      ],
      "execution_count": null,
      "outputs": [
        {
          "output_type": "error",
          "ename": "KeyError",
          "evalue": "ignored",
          "traceback": [
            "\u001b[0;31m---------------------------------------------------------------------------\u001b[0m",
            "\u001b[0;31mKeyError\u001b[0m                                  Traceback (most recent call last)",
            "\u001b[0;32m<ipython-input-40-ba06464a9949>\u001b[0m in \u001b[0;36m<module>\u001b[0;34m\u001b[0m\n\u001b[0;32m----> 1\u001b[0;31m \u001b[0mtranslate\u001b[0m\u001b[0;34m(\u001b[0m\u001b[0;34mu'На улице темнота, ни зги не видно.'\u001b[0m\u001b[0;34m)\u001b[0m\u001b[0;34m\u001b[0m\u001b[0;34m\u001b[0m\u001b[0m\n\u001b[0m",
            "\u001b[0;32m<ipython-input-31-d01480530bee>\u001b[0m in \u001b[0;36mtranslate\u001b[0;34m(sentence)\u001b[0m\n\u001b[1;32m      1\u001b[0m \u001b[0;32mdef\u001b[0m \u001b[0mtranslate\u001b[0m\u001b[0;34m(\u001b[0m\u001b[0msentence\u001b[0m\u001b[0;34m)\u001b[0m\u001b[0;34m:\u001b[0m\u001b[0;34m\u001b[0m\u001b[0;34m\u001b[0m\u001b[0m\n\u001b[0;32m----> 2\u001b[0;31m   \u001b[0mresult\u001b[0m\u001b[0;34m,\u001b[0m \u001b[0msentence\u001b[0m \u001b[0;34m=\u001b[0m \u001b[0mevaluate\u001b[0m\u001b[0;34m(\u001b[0m\u001b[0msentence\u001b[0m\u001b[0;34m)\u001b[0m\u001b[0;34m\u001b[0m\u001b[0;34m\u001b[0m\u001b[0m\n\u001b[0m\u001b[1;32m      3\u001b[0m \u001b[0;34m\u001b[0m\u001b[0m\n\u001b[1;32m      4\u001b[0m   \u001b[0mprint\u001b[0m\u001b[0;34m(\u001b[0m\u001b[0;34m'Input: %s'\u001b[0m \u001b[0;34m%\u001b[0m \u001b[0;34m(\u001b[0m\u001b[0msentence\u001b[0m\u001b[0;34m)\u001b[0m\u001b[0;34m)\u001b[0m\u001b[0;34m\u001b[0m\u001b[0;34m\u001b[0m\u001b[0m\n\u001b[1;32m      5\u001b[0m   \u001b[0mprint\u001b[0m\u001b[0;34m(\u001b[0m\u001b[0;34m'Predicted translation: {}'\u001b[0m\u001b[0;34m.\u001b[0m\u001b[0mformat\u001b[0m\u001b[0;34m(\u001b[0m\u001b[0mresult\u001b[0m\u001b[0;34m)\u001b[0m\u001b[0;34m)\u001b[0m\u001b[0;34m\u001b[0m\u001b[0;34m\u001b[0m\u001b[0m\n",
            "\u001b[0;32m<ipython-input-30-baaeed8448d5>\u001b[0m in \u001b[0;36mevaluate\u001b[0;34m(sentence)\u001b[0m\n\u001b[1;32m      4\u001b[0m   \u001b[0msentence\u001b[0m \u001b[0;34m=\u001b[0m \u001b[0mpreprocess_sentence\u001b[0m\u001b[0;34m(\u001b[0m\u001b[0msentence\u001b[0m\u001b[0;34m)\u001b[0m\u001b[0;34m\u001b[0m\u001b[0;34m\u001b[0m\u001b[0m\n\u001b[1;32m      5\u001b[0m \u001b[0;34m\u001b[0m\u001b[0m\n\u001b[0;32m----> 6\u001b[0;31m   \u001b[0minputs\u001b[0m \u001b[0;34m=\u001b[0m \u001b[0;34m[\u001b[0m\u001b[0minp_lang\u001b[0m\u001b[0;34m.\u001b[0m\u001b[0mword_index\u001b[0m\u001b[0;34m[\u001b[0m\u001b[0mi\u001b[0m\u001b[0;34m]\u001b[0m \u001b[0;32mfor\u001b[0m \u001b[0mi\u001b[0m \u001b[0;32min\u001b[0m \u001b[0msentence\u001b[0m\u001b[0;34m.\u001b[0m\u001b[0msplit\u001b[0m\u001b[0;34m(\u001b[0m\u001b[0;34m' '\u001b[0m\u001b[0;34m)\u001b[0m\u001b[0;34m]\u001b[0m\u001b[0;34m\u001b[0m\u001b[0;34m\u001b[0m\u001b[0m\n\u001b[0m\u001b[1;32m      7\u001b[0m   inputs = tf.keras.preprocessing.sequence.pad_sequences([inputs],\n\u001b[1;32m      8\u001b[0m                                                          \u001b[0mmaxlen\u001b[0m\u001b[0;34m=\u001b[0m\u001b[0mmax_length_inp\u001b[0m\u001b[0;34m,\u001b[0m\u001b[0;34m\u001b[0m\u001b[0;34m\u001b[0m\u001b[0m\n",
            "\u001b[0;32m<ipython-input-30-baaeed8448d5>\u001b[0m in \u001b[0;36m<listcomp>\u001b[0;34m(.0)\u001b[0m\n\u001b[1;32m      4\u001b[0m   \u001b[0msentence\u001b[0m \u001b[0;34m=\u001b[0m \u001b[0mpreprocess_sentence\u001b[0m\u001b[0;34m(\u001b[0m\u001b[0msentence\u001b[0m\u001b[0;34m)\u001b[0m\u001b[0;34m\u001b[0m\u001b[0;34m\u001b[0m\u001b[0m\n\u001b[1;32m      5\u001b[0m \u001b[0;34m\u001b[0m\u001b[0m\n\u001b[0;32m----> 6\u001b[0;31m   \u001b[0minputs\u001b[0m \u001b[0;34m=\u001b[0m \u001b[0;34m[\u001b[0m\u001b[0minp_lang\u001b[0m\u001b[0;34m.\u001b[0m\u001b[0mword_index\u001b[0m\u001b[0;34m[\u001b[0m\u001b[0mi\u001b[0m\u001b[0;34m]\u001b[0m \u001b[0;32mfor\u001b[0m \u001b[0mi\u001b[0m \u001b[0;32min\u001b[0m \u001b[0msentence\u001b[0m\u001b[0;34m.\u001b[0m\u001b[0msplit\u001b[0m\u001b[0;34m(\u001b[0m\u001b[0;34m' '\u001b[0m\u001b[0;34m)\u001b[0m\u001b[0;34m]\u001b[0m\u001b[0;34m\u001b[0m\u001b[0;34m\u001b[0m\u001b[0m\n\u001b[0m\u001b[1;32m      7\u001b[0m   inputs = tf.keras.preprocessing.sequence.pad_sequences([inputs],\n\u001b[1;32m      8\u001b[0m                                                          \u001b[0mmaxlen\u001b[0m\u001b[0;34m=\u001b[0m\u001b[0mmax_length_inp\u001b[0m\u001b[0;34m,\u001b[0m\u001b[0;34m\u001b[0m\u001b[0;34m\u001b[0m\u001b[0m\n",
            "\u001b[0;31mKeyError\u001b[0m: 'зги'"
          ]
        }
      ]
    },
    {
      "cell_type": "markdown",
      "source": [
        "## ВЫВОД: Модель вполне работоспособная и неплохо справляется с простыми короткими фразами. Если попадается слово, отсутствующее в словаре модели, выпадает ошибка."
      ],
      "metadata": {
        "id": "3tLeuOadNfqe"
      }
    }
  ]
}