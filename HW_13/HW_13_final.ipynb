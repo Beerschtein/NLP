{
  "nbformat": 4,
  "nbformat_minor": 0,
  "metadata": {
    "colab": {
      "provenance": []
    },
    "kernelspec": {
      "name": "python3",
      "display_name": "Python 3"
    },
    "language_info": {
      "name": "python"
    },
    "gpuClass": "standard",
    "accelerator": "GPU",
    "widgets": {
      "application/vnd.jupyter.widget-state+json": {
        "37729b24723348dea4f188a4338b8b10": {
          "model_module": "@jupyter-widgets/controls",
          "model_name": "HBoxModel",
          "model_module_version": "1.5.0",
          "state": {
            "_dom_classes": [],
            "_model_module": "@jupyter-widgets/controls",
            "_model_module_version": "1.5.0",
            "_model_name": "HBoxModel",
            "_view_count": null,
            "_view_module": "@jupyter-widgets/controls",
            "_view_module_version": "1.5.0",
            "_view_name": "HBoxView",
            "box_style": "",
            "children": [
              "IPY_MODEL_b6a294e7d0d8418fbf610ac8adb767cd",
              "IPY_MODEL_8d2a45b5119c4d01a68af85aeda31ed9",
              "IPY_MODEL_7bb662fcbbe04e7596355ace0efa4eef"
            ],
            "layout": "IPY_MODEL_d3df7a537f6d4449aa42370eef7b8b55"
          }
        },
        "b6a294e7d0d8418fbf610ac8adb767cd": {
          "model_module": "@jupyter-widgets/controls",
          "model_name": "HTMLModel",
          "model_module_version": "1.5.0",
          "state": {
            "_dom_classes": [],
            "_model_module": "@jupyter-widgets/controls",
            "_model_module_version": "1.5.0",
            "_model_name": "HTMLModel",
            "_view_count": null,
            "_view_module": "@jupyter-widgets/controls",
            "_view_module_version": "1.5.0",
            "_view_name": "HTMLView",
            "description": "",
            "description_tooltip": null,
            "layout": "IPY_MODEL_d4bcd90b81e14a4ca34b0f2a2069adfc",
            "placeholder": "​",
            "style": "IPY_MODEL_f090249719c548c5aaa3a92e27a2c552",
            "value": "100%"
          }
        },
        "8d2a45b5119c4d01a68af85aeda31ed9": {
          "model_module": "@jupyter-widgets/controls",
          "model_name": "FloatProgressModel",
          "model_module_version": "1.5.0",
          "state": {
            "_dom_classes": [],
            "_model_module": "@jupyter-widgets/controls",
            "_model_module_version": "1.5.0",
            "_model_name": "FloatProgressModel",
            "_view_count": null,
            "_view_module": "@jupyter-widgets/controls",
            "_view_module_version": "1.5.0",
            "_view_name": "ProgressView",
            "bar_style": "success",
            "description": "",
            "description_tooltip": null,
            "layout": "IPY_MODEL_b5a20f9b2627438da3da243cb8947611",
            "max": 1,
            "min": 0,
            "orientation": "horizontal",
            "style": "IPY_MODEL_aa7686f7020c4834a7e031b9ca189e48",
            "value": 1
          }
        },
        "7bb662fcbbe04e7596355ace0efa4eef": {
          "model_module": "@jupyter-widgets/controls",
          "model_name": "HTMLModel",
          "model_module_version": "1.5.0",
          "state": {
            "_dom_classes": [],
            "_model_module": "@jupyter-widgets/controls",
            "_model_module_version": "1.5.0",
            "_model_name": "HTMLModel",
            "_view_count": null,
            "_view_module": "@jupyter-widgets/controls",
            "_view_module_version": "1.5.0",
            "_view_name": "HTMLView",
            "description": "",
            "description_tooltip": null,
            "layout": "IPY_MODEL_558fec6ef51c4345a8c4ee7cbb9a08b5",
            "placeholder": "​",
            "style": "IPY_MODEL_3b3256f870ab480caeaf5c8391b50d3f",
            "value": " 1/1 [00:00&lt;00:00, 34.56it/s]"
          }
        },
        "d3df7a537f6d4449aa42370eef7b8b55": {
          "model_module": "@jupyter-widgets/base",
          "model_name": "LayoutModel",
          "model_module_version": "1.2.0",
          "state": {
            "_model_module": "@jupyter-widgets/base",
            "_model_module_version": "1.2.0",
            "_model_name": "LayoutModel",
            "_view_count": null,
            "_view_module": "@jupyter-widgets/base",
            "_view_module_version": "1.2.0",
            "_view_name": "LayoutView",
            "align_content": null,
            "align_items": null,
            "align_self": null,
            "border": null,
            "bottom": null,
            "display": null,
            "flex": null,
            "flex_flow": null,
            "grid_area": null,
            "grid_auto_columns": null,
            "grid_auto_flow": null,
            "grid_auto_rows": null,
            "grid_column": null,
            "grid_gap": null,
            "grid_row": null,
            "grid_template_areas": null,
            "grid_template_columns": null,
            "grid_template_rows": null,
            "height": null,
            "justify_content": null,
            "justify_items": null,
            "left": null,
            "margin": null,
            "max_height": null,
            "max_width": null,
            "min_height": null,
            "min_width": null,
            "object_fit": null,
            "object_position": null,
            "order": null,
            "overflow": null,
            "overflow_x": null,
            "overflow_y": null,
            "padding": null,
            "right": null,
            "top": null,
            "visibility": null,
            "width": null
          }
        },
        "d4bcd90b81e14a4ca34b0f2a2069adfc": {
          "model_module": "@jupyter-widgets/base",
          "model_name": "LayoutModel",
          "model_module_version": "1.2.0",
          "state": {
            "_model_module": "@jupyter-widgets/base",
            "_model_module_version": "1.2.0",
            "_model_name": "LayoutModel",
            "_view_count": null,
            "_view_module": "@jupyter-widgets/base",
            "_view_module_version": "1.2.0",
            "_view_name": "LayoutView",
            "align_content": null,
            "align_items": null,
            "align_self": null,
            "border": null,
            "bottom": null,
            "display": null,
            "flex": null,
            "flex_flow": null,
            "grid_area": null,
            "grid_auto_columns": null,
            "grid_auto_flow": null,
            "grid_auto_rows": null,
            "grid_column": null,
            "grid_gap": null,
            "grid_row": null,
            "grid_template_areas": null,
            "grid_template_columns": null,
            "grid_template_rows": null,
            "height": null,
            "justify_content": null,
            "justify_items": null,
            "left": null,
            "margin": null,
            "max_height": null,
            "max_width": null,
            "min_height": null,
            "min_width": null,
            "object_fit": null,
            "object_position": null,
            "order": null,
            "overflow": null,
            "overflow_x": null,
            "overflow_y": null,
            "padding": null,
            "right": null,
            "top": null,
            "visibility": null,
            "width": null
          }
        },
        "f090249719c548c5aaa3a92e27a2c552": {
          "model_module": "@jupyter-widgets/controls",
          "model_name": "DescriptionStyleModel",
          "model_module_version": "1.5.0",
          "state": {
            "_model_module": "@jupyter-widgets/controls",
            "_model_module_version": "1.5.0",
            "_model_name": "DescriptionStyleModel",
            "_view_count": null,
            "_view_module": "@jupyter-widgets/base",
            "_view_module_version": "1.2.0",
            "_view_name": "StyleView",
            "description_width": ""
          }
        },
        "b5a20f9b2627438da3da243cb8947611": {
          "model_module": "@jupyter-widgets/base",
          "model_name": "LayoutModel",
          "model_module_version": "1.2.0",
          "state": {
            "_model_module": "@jupyter-widgets/base",
            "_model_module_version": "1.2.0",
            "_model_name": "LayoutModel",
            "_view_count": null,
            "_view_module": "@jupyter-widgets/base",
            "_view_module_version": "1.2.0",
            "_view_name": "LayoutView",
            "align_content": null,
            "align_items": null,
            "align_self": null,
            "border": null,
            "bottom": null,
            "display": null,
            "flex": null,
            "flex_flow": null,
            "grid_area": null,
            "grid_auto_columns": null,
            "grid_auto_flow": null,
            "grid_auto_rows": null,
            "grid_column": null,
            "grid_gap": null,
            "grid_row": null,
            "grid_template_areas": null,
            "grid_template_columns": null,
            "grid_template_rows": null,
            "height": null,
            "justify_content": null,
            "justify_items": null,
            "left": null,
            "margin": null,
            "max_height": null,
            "max_width": null,
            "min_height": null,
            "min_width": null,
            "object_fit": null,
            "object_position": null,
            "order": null,
            "overflow": null,
            "overflow_x": null,
            "overflow_y": null,
            "padding": null,
            "right": null,
            "top": null,
            "visibility": null,
            "width": null
          }
        },
        "aa7686f7020c4834a7e031b9ca189e48": {
          "model_module": "@jupyter-widgets/controls",
          "model_name": "ProgressStyleModel",
          "model_module_version": "1.5.0",
          "state": {
            "_model_module": "@jupyter-widgets/controls",
            "_model_module_version": "1.5.0",
            "_model_name": "ProgressStyleModel",
            "_view_count": null,
            "_view_module": "@jupyter-widgets/base",
            "_view_module_version": "1.2.0",
            "_view_name": "StyleView",
            "bar_color": null,
            "description_width": ""
          }
        },
        "558fec6ef51c4345a8c4ee7cbb9a08b5": {
          "model_module": "@jupyter-widgets/base",
          "model_name": "LayoutModel",
          "model_module_version": "1.2.0",
          "state": {
            "_model_module": "@jupyter-widgets/base",
            "_model_module_version": "1.2.0",
            "_model_name": "LayoutModel",
            "_view_count": null,
            "_view_module": "@jupyter-widgets/base",
            "_view_module_version": "1.2.0",
            "_view_name": "LayoutView",
            "align_content": null,
            "align_items": null,
            "align_self": null,
            "border": null,
            "bottom": null,
            "display": null,
            "flex": null,
            "flex_flow": null,
            "grid_area": null,
            "grid_auto_columns": null,
            "grid_auto_flow": null,
            "grid_auto_rows": null,
            "grid_column": null,
            "grid_gap": null,
            "grid_row": null,
            "grid_template_areas": null,
            "grid_template_columns": null,
            "grid_template_rows": null,
            "height": null,
            "justify_content": null,
            "justify_items": null,
            "left": null,
            "margin": null,
            "max_height": null,
            "max_width": null,
            "min_height": null,
            "min_width": null,
            "object_fit": null,
            "object_position": null,
            "order": null,
            "overflow": null,
            "overflow_x": null,
            "overflow_y": null,
            "padding": null,
            "right": null,
            "top": null,
            "visibility": null,
            "width": null
          }
        },
        "3b3256f870ab480caeaf5c8391b50d3f": {
          "model_module": "@jupyter-widgets/controls",
          "model_name": "DescriptionStyleModel",
          "model_module_version": "1.5.0",
          "state": {
            "_model_module": "@jupyter-widgets/controls",
            "_model_module_version": "1.5.0",
            "_model_name": "DescriptionStyleModel",
            "_view_count": null,
            "_view_module": "@jupyter-widgets/base",
            "_view_module_version": "1.2.0",
            "_view_name": "StyleView",
            "description_width": ""
          }
        }
      }
    }
  },
  "cells": [
    {
      "cell_type": "markdown",
      "source": [
        "## ДЗ_13 - Модели BERT и GPT.\n"
      ],
      "metadata": {
        "id": "1nOOTr4WgozT"
      }
    },
    {
      "cell_type": "markdown",
      "source": [
        "**Задание:**"
      ],
      "metadata": {
        "id": "sscKypgLg-jI"
      }
    },
    {
      "cell_type": "markdown",
      "source": [
        "1. Взять датасет:\n",
        "https://huggingface.co/datasets/merionum/ru_paraphraser решить задачу парафраза"
      ],
      "metadata": {
        "id": "HtYfrVHfhF4S"
      }
    },
    {
      "cell_type": "markdown",
      "source": [
        "2. (дополнительно необязательная задача)на выбор взять\n",
        "https://huggingface.co/datasets/sberquad https://huggingface.co/datasets/blinoff/medical_qa_ru_data натренировать любую модель для вопросно ответной системы как альтернатива можно взять любой NER датасет из https://github.com/natasha/corus#reference и обучить NER"
      ],
      "metadata": {
        "id": "DPMkfqOVhOfY"
      }
    },
    {
      "cell_type": "code",
      "source": [
        "!pip install transformers sentencepiece --quiet"
      ],
      "metadata": {
        "id": "C9EH4jfYhf3N"
      },
      "execution_count": null,
      "outputs": []
    },
    {
      "cell_type": "code",
      "source": [
        "!pip install datasets --quiet"
      ],
      "metadata": {
        "id": "MnQw5Uzghf-7"
      },
      "execution_count": null,
      "outputs": []
    },
    {
      "cell_type": "code",
      "source": [
        "import pandas as pd"
      ],
      "metadata": {
        "id": "NQBhPFWZqqBr"
      },
      "execution_count": null,
      "outputs": []
    },
    {
      "cell_type": "code",
      "source": [
        "from datasets import load_dataset\n",
        "\n",
        "corpus = load_dataset('merionum/ru_paraphraser', data_files='test.jsonl')"
      ],
      "metadata": {
        "colab": {
          "base_uri": "https://localhost:8080/",
          "height": 104,
          "referenced_widgets": [
            "37729b24723348dea4f188a4338b8b10",
            "b6a294e7d0d8418fbf610ac8adb767cd",
            "8d2a45b5119c4d01a68af85aeda31ed9",
            "7bb662fcbbe04e7596355ace0efa4eef",
            "d3df7a537f6d4449aa42370eef7b8b55",
            "d4bcd90b81e14a4ca34b0f2a2069adfc",
            "f090249719c548c5aaa3a92e27a2c552",
            "b5a20f9b2627438da3da243cb8947611",
            "aa7686f7020c4834a7e031b9ca189e48",
            "558fec6ef51c4345a8c4ee7cbb9a08b5",
            "3b3256f870ab480caeaf5c8391b50d3f"
          ]
        },
        "id": "Ga8Ohb1_hgFQ",
        "outputId": "3ea89961-f39e-4403-8f03-fc383f99305e"
      },
      "execution_count": null,
      "outputs": [
        {
          "output_type": "stream",
          "name": "stderr",
          "text": [
            "WARNING:datasets.builder:Using custom data configuration merionum--ru_paraphraser-62b622e3b2274f4e\n",
            "WARNING:datasets.builder:Found cached dataset json (/root/.cache/huggingface/datasets/merionum___json/merionum--ru_paraphraser-62b622e3b2274f4e/0.0.0/e6070c77f18f01a5ad4551a8b7edfba20b8438b7cad4d94e6ad9378022ce4aab)\n"
          ]
        },
        {
          "output_type": "display_data",
          "data": {
            "text/plain": [
              "  0%|          | 0/1 [00:00<?, ?it/s]"
            ],
            "application/vnd.jupyter.widget-view+json": {
              "version_major": 2,
              "version_minor": 0,
              "model_id": "37729b24723348dea4f188a4338b8b10"
            }
          },
          "metadata": {}
        }
      ]
    },
    {
      "cell_type": "code",
      "source": [
        "corpus"
      ],
      "metadata": {
        "colab": {
          "base_uri": "https://localhost:8080/"
        },
        "id": "wKbYwwHihl8C",
        "outputId": "7f7e04ab-d44b-4c3a-ddb0-5478f6df3ad7"
      },
      "execution_count": null,
      "outputs": [
        {
          "output_type": "execute_result",
          "data": {
            "text/plain": [
              "DatasetDict({\n",
              "    train: Dataset({\n",
              "        features: ['id', 'id_1', 'id_2', 'text_1', 'text_2', 'class'],\n",
              "        num_rows: 1924\n",
              "    })\n",
              "})"
            ]
          },
          "metadata": {},
          "execution_count": 5
        }
      ]
    },
    {
      "cell_type": "code",
      "source": [
        "corpus['train'][0:4]"
      ],
      "metadata": {
        "colab": {
          "base_uri": "https://localhost:8080/"
        },
        "id": "Q61G3of_h0HF",
        "outputId": "1e095b46-3b23-4afa-af03-ee7f4c671244"
      },
      "execution_count": null,
      "outputs": [
        {
          "output_type": "execute_result",
          "data": {
            "text/plain": [
              "{'id': ['25349', '25360', '25382', '25423'],\n",
              " 'id_1': ['34420', '34438', '34475', '34494'],\n",
              " 'id_2': ['34421', '34439', '34476', '34519'],\n",
              " 'text_1': ['Цены на нефть восстанавливаются',\n",
              "  '\"Гоголь-центр\" покажет видеозапись скандального спектакля \"Тангейзер\"',\n",
              "  'Агент: РФС вновь задерживает зарплату Фабио Капелло',\n",
              "  'День Победы в Москве обещает выдаться облачным'],\n",
              " 'text_2': ['Парламент Словакии поблагодарил народы бывшего СССР за Победу',\n",
              "  'Кехман запретил «Гоголь-центру» показывать видеозапись «Тангейзера»',\n",
              "  'СМИ: Агент Фабио Капелло грозится подать в суд на РФС',\n",
              "  'Любляна отпразднует День Победы вместе с Москвой'],\n",
              " 'class': ['-1', '-1', '-1', '-1']}"
            ]
          },
          "metadata": {},
          "execution_count": 6
        }
      ]
    },
    {
      "cell_type": "code",
      "source": [
        "print(corpus['train']['text_1'][1])\n",
        "print(corpus['train']['text_2'][1])"
      ],
      "metadata": {
        "colab": {
          "base_uri": "https://localhost:8080/"
        },
        "id": "Awg4eCxrh0KE",
        "outputId": "820dbb70-710f-4503-a5a5-9a203af68c97"
      },
      "execution_count": null,
      "outputs": [
        {
          "output_type": "stream",
          "name": "stdout",
          "text": [
            "\"Гоголь-центр\" покажет видеозапись скандального спектакля \"Тангейзер\"\n",
            "Кехман запретил «Гоголь-центру» показывать видеозапись «Тангейзера»\n"
          ]
        }
      ]
    },
    {
      "cell_type": "code",
      "source": [
        "import torch\n",
        "from transformers import AutoModelForSequenceClassification, BertTokenizer"
      ],
      "metadata": {
        "id": "cxtG6UZ2x4KK"
      },
      "execution_count": null,
      "outputs": []
    },
    {
      "cell_type": "markdown",
      "source": [
        "### Используем предобученную модель 'cointegrated/rubert-base-cased-dp-paraphrase-detection'"
      ],
      "metadata": {
        "id": "7BfZv3PbiGiO"
      }
    },
    {
      "cell_type": "code",
      "source": [
        "model_name = 'cointegrated/rubert-base-cased-dp-paraphrase-detection'\n",
        "model = AutoModelForSequenceClassification.from_pretrained(model_name)\n",
        "tokenizer = BertTokenizer.from_pretrained(model_name)"
      ],
      "metadata": {
        "id": "tEaHJ6UEilrd"
      },
      "execution_count": null,
      "outputs": []
    },
    {
      "cell_type": "code",
      "source": [
        "result_df = []\n",
        "\n",
        "def paraphrase_check(row_numb):\n",
        "    \n",
        "    text1 = corpus['train']['text_1'][row_numb]\n",
        "    text2 = corpus['train']['text_2'][row_numb]\n",
        "    \n",
        "    batch = tokenizer(text1, text2, return_tensors='pt').to(model.device)\n",
        "    with torch.inference_mode():\n",
        "        proba = torch.softmax(model(**batch).logits, -1).numpy()\n",
        "    \n",
        "    p = proba[0]\n",
        "    if p[1] > 0.5:\n",
        "        paraphrase = \"paraphrase\"\n",
        "    else:\n",
        "        paraphrase = \"non\"\n",
        "    \n",
        "    result_df.append([text1, text2, p[0], p[1], paraphrase])\n",
        "    \n",
        "    return pd.DataFrame(result_df, columns=['текст 1', 'текст 2', 'вероятность False', 'вероятность True', 'Результат'])"
      ],
      "metadata": {
        "id": "udu2QJeGqAId"
      },
      "execution_count": null,
      "outputs": []
    },
    {
      "cell_type": "code",
      "source": [
        "pd.set_option('display.max_colwidth', None)"
      ],
      "metadata": {
        "id": "TfhnApGQvwB1"
      },
      "execution_count": null,
      "outputs": []
    },
    {
      "cell_type": "code",
      "source": [
        "paraphrase_check(0)\n",
        "paraphrase_check(10)\n",
        "paraphrase_check(20)\n",
        "paraphrase_check(30)\n",
        "paraphrase_check(40)\n",
        "paraphrase_check(50)\n",
        "paraphrase_check(60)"
      ],
      "metadata": {
        "colab": {
          "base_uri": "https://localhost:8080/",
          "height": 269
        },
        "id": "qa8QFhx0qALc",
        "outputId": "1f7b8c7f-9a8e-4383-f4ab-88b0f8a0f4b0"
      },
      "execution_count": null,
      "outputs": [
        {
          "output_type": "execute_result",
          "data": {
            "text/plain": [
              "                                                                текст 1  \\\n",
              "0                                       Цены на нефть восстанавливаются   \n",
              "1  Пушков: у Обамы не хватило духа лично поздравить наш народ с Победой   \n",
              "2    Лидер либдемов Ник Клегг подал в отставку после неудачи на выборах   \n",
              "3         Прокуратура пока не решила, обжаловать ли приговор Васильевой   \n",
              "4              Владимир Путин освободил от должности почти 20 генералов   \n",
              "5     Премьер Словакии прибыл в Москву для участия в мероприятиях 9 мая   \n",
              "6       Коморовский: отсутствие Меркель в Москве 9 мая важно для Польши   \n",
              "\n",
              "                                                                    текст 2  \\\n",
              "0             Парламент Словакии поблагодарил народы бывшего СССР за Победу   \n",
              "1     Пушков: Обама не нашел в себе духа лично поздравить россиян с Победой   \n",
              "2  Лидер британских лейбористов подал в отставку из-за поражения на выборах   \n",
              "3                                  Защита Васильевой обжалует приговор суда   \n",
              "4                  Путин снял с должностей более 20 руководителей-силовиков   \n",
              "5                   Путеводитель по Дню Победы: как провести 9 мая в Москве   \n",
              "6     Лукашенко назвал надуманной проблему своего отсутствия 9 Мая в Москве   \n",
              "\n",
              "   вероятность False  вероятность True   Результат  \n",
              "0           0.945699          0.054301         non  \n",
              "1           0.027706          0.972294  paraphrase  \n",
              "2           0.080856          0.919144  paraphrase  \n",
              "3           0.760585          0.239415         non  \n",
              "4           0.027089          0.972911  paraphrase  \n",
              "5           0.946648          0.053352         non  \n",
              "6           0.945382          0.054618         non  "
            ],
            "text/html": [
              "\n",
              "  <div id=\"df-27b67b76-cad2-4207-905c-ebef8170b15a\">\n",
              "    <div class=\"colab-df-container\">\n",
              "      <div>\n",
              "<style scoped>\n",
              "    .dataframe tbody tr th:only-of-type {\n",
              "        vertical-align: middle;\n",
              "    }\n",
              "\n",
              "    .dataframe tbody tr th {\n",
              "        vertical-align: top;\n",
              "    }\n",
              "\n",
              "    .dataframe thead th {\n",
              "        text-align: right;\n",
              "    }\n",
              "</style>\n",
              "<table border=\"1\" class=\"dataframe\">\n",
              "  <thead>\n",
              "    <tr style=\"text-align: right;\">\n",
              "      <th></th>\n",
              "      <th>текст 1</th>\n",
              "      <th>текст 2</th>\n",
              "      <th>вероятность False</th>\n",
              "      <th>вероятность True</th>\n",
              "      <th>Результат</th>\n",
              "    </tr>\n",
              "  </thead>\n",
              "  <tbody>\n",
              "    <tr>\n",
              "      <th>0</th>\n",
              "      <td>Цены на нефть восстанавливаются</td>\n",
              "      <td>Парламент Словакии поблагодарил народы бывшего СССР за Победу</td>\n",
              "      <td>0.945699</td>\n",
              "      <td>0.054301</td>\n",
              "      <td>non</td>\n",
              "    </tr>\n",
              "    <tr>\n",
              "      <th>1</th>\n",
              "      <td>Пушков: у Обамы не хватило духа лично поздравить наш народ с Победой</td>\n",
              "      <td>Пушков: Обама не нашел в себе духа лично поздравить россиян с Победой</td>\n",
              "      <td>0.027706</td>\n",
              "      <td>0.972294</td>\n",
              "      <td>paraphrase</td>\n",
              "    </tr>\n",
              "    <tr>\n",
              "      <th>2</th>\n",
              "      <td>Лидер либдемов Ник Клегг подал в отставку после неудачи на выборах</td>\n",
              "      <td>Лидер британских лейбористов подал в отставку из-за поражения на выборах</td>\n",
              "      <td>0.080856</td>\n",
              "      <td>0.919144</td>\n",
              "      <td>paraphrase</td>\n",
              "    </tr>\n",
              "    <tr>\n",
              "      <th>3</th>\n",
              "      <td>Прокуратура пока не решила, обжаловать ли приговор Васильевой</td>\n",
              "      <td>Защита Васильевой обжалует приговор суда</td>\n",
              "      <td>0.760585</td>\n",
              "      <td>0.239415</td>\n",
              "      <td>non</td>\n",
              "    </tr>\n",
              "    <tr>\n",
              "      <th>4</th>\n",
              "      <td>Владимир Путин освободил от должности почти 20 генералов</td>\n",
              "      <td>Путин снял с должностей более 20 руководителей-силовиков</td>\n",
              "      <td>0.027089</td>\n",
              "      <td>0.972911</td>\n",
              "      <td>paraphrase</td>\n",
              "    </tr>\n",
              "    <tr>\n",
              "      <th>5</th>\n",
              "      <td>Премьер Словакии прибыл в Москву для участия в мероприятиях 9 мая</td>\n",
              "      <td>Путеводитель по Дню Победы: как провести 9 мая в Москве</td>\n",
              "      <td>0.946648</td>\n",
              "      <td>0.053352</td>\n",
              "      <td>non</td>\n",
              "    </tr>\n",
              "    <tr>\n",
              "      <th>6</th>\n",
              "      <td>Коморовский: отсутствие Меркель в Москве 9 мая важно для Польши</td>\n",
              "      <td>Лукашенко назвал надуманной проблему своего отсутствия 9 Мая в Москве</td>\n",
              "      <td>0.945382</td>\n",
              "      <td>0.054618</td>\n",
              "      <td>non</td>\n",
              "    </tr>\n",
              "  </tbody>\n",
              "</table>\n",
              "</div>\n",
              "      <button class=\"colab-df-convert\" onclick=\"convertToInteractive('df-27b67b76-cad2-4207-905c-ebef8170b15a')\"\n",
              "              title=\"Convert this dataframe to an interactive table.\"\n",
              "              style=\"display:none;\">\n",
              "        \n",
              "  <svg xmlns=\"http://www.w3.org/2000/svg\" height=\"24px\"viewBox=\"0 0 24 24\"\n",
              "       width=\"24px\">\n",
              "    <path d=\"M0 0h24v24H0V0z\" fill=\"none\"/>\n",
              "    <path d=\"M18.56 5.44l.94 2.06.94-2.06 2.06-.94-2.06-.94-.94-2.06-.94 2.06-2.06.94zm-11 1L8.5 8.5l.94-2.06 2.06-.94-2.06-.94L8.5 2.5l-.94 2.06-2.06.94zm10 10l.94 2.06.94-2.06 2.06-.94-2.06-.94-.94-2.06-.94 2.06-2.06.94z\"/><path d=\"M17.41 7.96l-1.37-1.37c-.4-.4-.92-.59-1.43-.59-.52 0-1.04.2-1.43.59L10.3 9.45l-7.72 7.72c-.78.78-.78 2.05 0 2.83L4 21.41c.39.39.9.59 1.41.59.51 0 1.02-.2 1.41-.59l7.78-7.78 2.81-2.81c.8-.78.8-2.07 0-2.86zM5.41 20L4 18.59l7.72-7.72 1.47 1.35L5.41 20z\"/>\n",
              "  </svg>\n",
              "      </button>\n",
              "      \n",
              "  <style>\n",
              "    .colab-df-container {\n",
              "      display:flex;\n",
              "      flex-wrap:wrap;\n",
              "      gap: 12px;\n",
              "    }\n",
              "\n",
              "    .colab-df-convert {\n",
              "      background-color: #E8F0FE;\n",
              "      border: none;\n",
              "      border-radius: 50%;\n",
              "      cursor: pointer;\n",
              "      display: none;\n",
              "      fill: #1967D2;\n",
              "      height: 32px;\n",
              "      padding: 0 0 0 0;\n",
              "      width: 32px;\n",
              "    }\n",
              "\n",
              "    .colab-df-convert:hover {\n",
              "      background-color: #E2EBFA;\n",
              "      box-shadow: 0px 1px 2px rgba(60, 64, 67, 0.3), 0px 1px 3px 1px rgba(60, 64, 67, 0.15);\n",
              "      fill: #174EA6;\n",
              "    }\n",
              "\n",
              "    [theme=dark] .colab-df-convert {\n",
              "      background-color: #3B4455;\n",
              "      fill: #D2E3FC;\n",
              "    }\n",
              "\n",
              "    [theme=dark] .colab-df-convert:hover {\n",
              "      background-color: #434B5C;\n",
              "      box-shadow: 0px 1px 3px 1px rgba(0, 0, 0, 0.15);\n",
              "      filter: drop-shadow(0px 1px 2px rgba(0, 0, 0, 0.3));\n",
              "      fill: #FFFFFF;\n",
              "    }\n",
              "  </style>\n",
              "\n",
              "      <script>\n",
              "        const buttonEl =\n",
              "          document.querySelector('#df-27b67b76-cad2-4207-905c-ebef8170b15a button.colab-df-convert');\n",
              "        buttonEl.style.display =\n",
              "          google.colab.kernel.accessAllowed ? 'block' : 'none';\n",
              "\n",
              "        async function convertToInteractive(key) {\n",
              "          const element = document.querySelector('#df-27b67b76-cad2-4207-905c-ebef8170b15a');\n",
              "          const dataTable =\n",
              "            await google.colab.kernel.invokeFunction('convertToInteractive',\n",
              "                                                     [key], {});\n",
              "          if (!dataTable) return;\n",
              "\n",
              "          const docLinkHtml = 'Like what you see? Visit the ' +\n",
              "            '<a target=\"_blank\" href=https://colab.research.google.com/notebooks/data_table.ipynb>data table notebook</a>'\n",
              "            + ' to learn more about interactive tables.';\n",
              "          element.innerHTML = '';\n",
              "          dataTable['output_type'] = 'display_data';\n",
              "          await google.colab.output.renderOutput(dataTable, element);\n",
              "          const docLink = document.createElement('div');\n",
              "          docLink.innerHTML = docLinkHtml;\n",
              "          element.appendChild(docLink);\n",
              "        }\n",
              "      </script>\n",
              "    </div>\n",
              "  </div>\n",
              "  "
            ]
          },
          "metadata": {},
          "execution_count": 14
        }
      ]
    },
    {
      "cell_type": "markdown",
      "source": [
        "### ВЫВОД: с задачей классификации парафраза модель справляется успешно."
      ],
      "metadata": {
        "id": "kYzauu32uhtN"
      }
    }
  ]
}