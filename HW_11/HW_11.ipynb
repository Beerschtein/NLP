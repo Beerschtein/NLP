{
  "cells": [
    {
      "cell_type": "markdown",
      "metadata": {
        "id": "J0Qjg6vuaHNt"
      },
      "source": [
        "# ДЗ_11 “Перевод с механизмом внимания”"
      ]
    },
    {
      "cell_type": "markdown",
      "source": [
        "**Разобраться с моделью перевода (с механизмом внимания) как она устроена, запустить для перевода с русского на английский (при желании можно взять другие пары языков).**"
      ],
      "metadata": {
        "id": "FWqUByKwoXr4"
      }
    },
    {
      "cell_type": "code",
      "execution_count": 1,
      "metadata": {
        "id": "tnxXKDjq3jEL"
      },
      "outputs": [],
      "source": [
        "import tensorflow as tf\n",
        "\n",
        "import matplotlib.pyplot as plt\n",
        "import matplotlib.ticker as ticker\n",
        "from sklearn.model_selection import train_test_split\n",
        "\n",
        "import unicodedata\n",
        "import re\n",
        "import numpy as np\n",
        "import os\n",
        "import io\n",
        "import time"
      ]
    },
    {
      "cell_type": "markdown",
      "metadata": {
        "id": "wfodePkj3jEa"
      },
      "source": [
        "## Загрузим и подготовим данные.\n"
      ]
    },
    {
      "cell_type": "code",
      "execution_count": 2,
      "metadata": {
        "colab": {
          "base_uri": "https://localhost:8080/"
        },
        "id": "CNvjhDyAKk3U",
        "outputId": "f1175007-915c-4e91-dbfd-195b103c12da"
      },
      "outputs": [
        {
          "output_type": "stream",
          "name": "stdout",
          "text": [
            "--2022-11-30 18:15:07--  http://www.manythings.org/anki/rus-eng.zip\n",
            "Resolving www.manythings.org (www.manythings.org)... 173.254.30.110\n",
            "Connecting to www.manythings.org (www.manythings.org)|173.254.30.110|:80... connected.\n",
            "HTTP request sent, awaiting response... 200 OK\n",
            "Length: 15011848 (14M) [application/zip]\n",
            "Saving to: ‘rus-eng.zip’\n",
            "\n",
            "rus-eng.zip         100%[===================>]  14.32M  24.7MB/s    in 0.6s    \n",
            "\n",
            "2022-11-30 18:15:08 (24.7 MB/s) - ‘rus-eng.zip’ saved [15011848/15011848]\n",
            "\n"
          ]
        }
      ],
      "source": [
        "!wget http://www.manythings.org/anki/rus-eng.zip"
      ]
    },
    {
      "cell_type": "code",
      "execution_count": 3,
      "metadata": {
        "colab": {
          "base_uri": "https://localhost:8080/"
        },
        "id": "83bg17Lr-7XK",
        "outputId": "76775674-ae8c-475f-9d5f-13e7815f7fc3"
      },
      "outputs": [
        {
          "output_type": "stream",
          "name": "stdout",
          "text": [
            "Archive:  rus-eng.zip\n",
            "  inflating: rus-eng/rus.txt         \n",
            "  inflating: rus-eng/_about.txt      \n"
          ]
        }
      ],
      "source": [
        "!mkdir rus-eng\n",
        "!unzip rus-eng.zip -d rus-eng/"
      ]
    },
    {
      "cell_type": "code",
      "execution_count": 4,
      "metadata": {
        "colab": {
          "base_uri": "https://localhost:8080/"
        },
        "id": "7o5L92efMMhf",
        "outputId": "ab218a4b-3080-4138-a827-31b4751bcdb5"
      },
      "outputs": [
        {
          "output_type": "stream",
          "name": "stdout",
          "text": [
            "total 72M\n",
            "drwxr-xr-x 2 root root 4.0K Nov 30 18:15 .\n",
            "drwxr-xr-x 1 root root 4.0K Nov 30 18:15 ..\n",
            "-rw-r--r-- 1 root root 1.5K Sep  6 03:10 _about.txt\n",
            "-rw-r--r-- 1 root root  72M Sep  6 03:10 rus.txt\n"
          ]
        }
      ],
      "source": [
        "!ls /content/rus-eng/ -lah"
      ]
    },
    {
      "cell_type": "code",
      "execution_count": 5,
      "metadata": {
        "id": "kRVATYOgJs1b"
      },
      "outputs": [],
      "source": [
        "path_to_file = \"/content/rus-eng/rus.txt\""
      ]
    },
    {
      "cell_type": "code",
      "execution_count": 6,
      "metadata": {
        "id": "rd0jw-eC3jEh"
      },
      "outputs": [],
      "source": [
        "def preprocess_sentence(w):\n",
        "  w = w.lower().strip()\n",
        "\n",
        "  w = re.sub(r\"([?.!,])\", r\" \\1 \", w)\n",
        "  w = re.sub(r'[\" \"]+', \" \", w)\n",
        "\n",
        "  w = re.sub(r\"[^a-zA-Zа-яА-Я?.!,']+\", \" \", w)\n",
        "\n",
        "  w = w.strip()\n",
        "\n",
        "  w = '<start> ' + w + ' <end>'\n",
        "  return w"
      ]
    },
    {
      "cell_type": "code",
      "execution_count": 7,
      "metadata": {
        "colab": {
          "base_uri": "https://localhost:8080/",
          "height": 42
        },
        "id": "yV9lZXQXNbnH",
        "outputId": "4d24345f-2b72-4677-ccf9-ce8d565dbb97"
      },
      "outputs": [
        {
          "output_type": "execute_result",
          "data": {
            "text/plain": [
              "\"<start> i can't go . <end>\""
            ],
            "application/vnd.google.colaboratory.intrinsic+json": {
              "type": "string"
            }
          },
          "metadata": {},
          "execution_count": 7
        }
      ],
      "source": [
        "preprocess_sentence(\"I can't go.\")"
      ]
    },
    {
      "cell_type": "code",
      "execution_count": 8,
      "metadata": {
        "id": "OHn4Dct23jEm"
      },
      "outputs": [],
      "source": [
        "def create_dataset(path, num_examples):\n",
        "  lines = io.open(path, encoding='UTF-8').read().strip().split('\\n')\n",
        "\n",
        "  word_pairs = [[preprocess_sentence(w) for w in l.split('\\t')[:2]]  for l in lines[:num_examples]]\n",
        "\n",
        "  return zip(*word_pairs)"
      ]
    },
    {
      "cell_type": "code",
      "execution_count": 11,
      "metadata": {
        "colab": {
          "base_uri": "https://localhost:8080/"
        },
        "id": "cTbSbBz55QtF",
        "outputId": "510338b5-1a6c-451f-ecff-0631321fd7be"
      },
      "outputs": [
        {
          "output_type": "stream",
          "name": "stdout",
          "text": [
            "<start> doubtless there exists in this world precisely the right woman for any given man to marry and vice versa but when you consider that a human being has the opportunity of being acquainted with only a few hundred people , and out of the few hundred that there are but a dozen or less whom he knows intimately , and out of the dozen , one or two friends at most , it will easily be seen , when we remember the number of millions who inhabit this world , that probably , since the earth was created , the right man has never yet met the right woman . <end>\n",
            "<start> несомненно , для каждого мужчины в этом мире где то есть подходящая женщина , которая может стать ему женой , обратное верно и для женщин . но если учесть , что у человека может быть максимум несколько сотен знакомых , из которых лишь дюжина , а то и меньше , тех , кого он знает близко , а из этой дюжины у него один или от силы два друга , то можно легко увидеть , что с уч том миллионов живущих на земле людей , ни один подходящий мужчина , возможно , ещ не встретил подходящую женщину . <end>\n"
          ]
        }
      ],
      "source": [
        "en, ru = create_dataset(path_to_file, None)\n",
        "print(en[-1])\n",
        "print(ru[-1])"
      ]
    },
    {
      "cell_type": "code",
      "execution_count": 12,
      "metadata": {
        "id": "bIOn8RCNDJXG"
      },
      "outputs": [],
      "source": [
        "def tokenize(lang):\n",
        "  lang_tokenizer = tf.keras.preprocessing.text.Tokenizer(\n",
        "      filters='')\n",
        "  lang_tokenizer.fit_on_texts(lang)\n",
        "\n",
        "  tensor = lang_tokenizer.texts_to_sequences(lang)\n",
        "\n",
        "  tensor = tf.keras.preprocessing.sequence.pad_sequences(tensor,\n",
        "                                                         padding='post')\n",
        "\n",
        "  return tensor, lang_tokenizer"
      ]
    },
    {
      "cell_type": "code",
      "execution_count": 13,
      "metadata": {
        "id": "eAY9k49G3jE_"
      },
      "outputs": [],
      "source": [
        "def load_dataset(path, num_examples=None):\n",
        "  # creating cleaned input, output pairs\n",
        "  targ_lang, inp_lang = create_dataset(path, num_examples)\n",
        "\n",
        "  input_tensor, inp_lang_tokenizer = tokenize(inp_lang)\n",
        "  target_tensor, targ_lang_tokenizer = tokenize(targ_lang)\n",
        "\n",
        "  return input_tensor, target_tensor, inp_lang_tokenizer, targ_lang_tokenizer"
      ]
    },
    {
      "cell_type": "markdown",
      "metadata": {
        "id": "GOi42V79Ydlr"
      },
      "source": [
        "### Ограничим размер датасета для ускорения обучения.\n"
      ]
    },
    {
      "cell_type": "code",
      "execution_count": 14,
      "metadata": {
        "colab": {
          "base_uri": "https://localhost:8080/"
        },
        "id": "C8j9g9AnIeZV",
        "outputId": "ad408740-7b5a-4009-b142-43c77b84d81f"
      },
      "outputs": [
        {
          "output_type": "execute_result",
          "data": {
            "text/plain": [
              "(451436, 451436)"
            ]
          },
          "metadata": {},
          "execution_count": 14
        }
      ],
      "source": [
        "len(en), len(ru)"
      ]
    },
    {
      "cell_type": "code",
      "execution_count": 15,
      "metadata": {
        "id": "cnxC7q-j3jFD"
      },
      "outputs": [],
      "source": [
        "num_examples = 100000\n",
        "input_tensor, target_tensor, inp_lang, targ_lang = load_dataset(path_to_file, num_examples)\n",
        "\n",
        "# Calculate max_length of the target tensors\n",
        "max_length_targ, max_length_inp = target_tensor.shape[1], input_tensor.shape[1]"
      ]
    },
    {
      "cell_type": "markdown",
      "source": [
        "**Разделим датасет на train и test.**"
      ],
      "metadata": {
        "id": "dMh_sqN-q0IV"
      }
    },
    {
      "cell_type": "code",
      "execution_count": 16,
      "metadata": {
        "colab": {
          "base_uri": "https://localhost:8080/"
        },
        "id": "4QILQkOs3jFG",
        "outputId": "c2a63b29-c70f-4e19-ba1e-6a66e05c27b1"
      },
      "outputs": [
        {
          "output_type": "stream",
          "name": "stdout",
          "text": [
            "80000 80000 20000 20000\n"
          ]
        }
      ],
      "source": [
        "input_tensor_train, input_tensor_val, target_tensor_train, target_tensor_val = train_test_split(input_tensor, target_tensor, test_size=0.2)\n",
        "\n",
        "print(len(input_tensor_train), len(target_tensor_train), len(input_tensor_val), len(target_tensor_val))"
      ]
    },
    {
      "cell_type": "code",
      "execution_count": 17,
      "metadata": {
        "id": "lJPmLZGMeD5q"
      },
      "outputs": [],
      "source": [
        "def convert(lang, tensor):\n",
        "  for t in tensor:\n",
        "    if t!=0:\n",
        "      print (\"%d ----> %s\" % (t, lang.index_word[t]))"
      ]
    },
    {
      "cell_type": "code",
      "execution_count": 18,
      "metadata": {
        "colab": {
          "base_uri": "https://localhost:8080/"
        },
        "id": "VXukARTDd7MT",
        "outputId": "9e1bc814-2fb6-4534-b8ad-e326e1e9bcce"
      },
      "outputs": [
        {
          "output_type": "stream",
          "name": "stdout",
          "text": [
            "Input Language; index to word mapping\n",
            "1 ----> <start>\n",
            "12 ----> мне\n",
            "63 ----> надо\n",
            "25 ----> тому\n",
            "398 ----> позвонить\n",
            "3 ----> .\n",
            "2 ----> <end>\n",
            "\n",
            "Target Language; index to word mapping\n",
            "1 ----> <start>\n",
            "4 ----> i\n",
            "26 ----> have\n",
            "11 ----> to\n",
            "100 ----> call\n",
            "5 ----> tom\n",
            "3 ----> .\n",
            "2 ----> <end>\n"
          ]
        }
      ],
      "source": [
        "print (\"Input Language; index to word mapping\")\n",
        "convert(inp_lang, input_tensor_train[0])\n",
        "print ()\n",
        "print (\"Target Language; index to word mapping\")\n",
        "convert(targ_lang, target_tensor_train[0])"
      ]
    },
    {
      "cell_type": "code",
      "execution_count": 19,
      "metadata": {
        "id": "TqHsArVZ3jFS"
      },
      "outputs": [],
      "source": [
        "BUFFER_SIZE = len(input_tensor_train)\n",
        "BATCH_SIZE = 64\n",
        "steps_per_epoch = len(input_tensor_train)//BATCH_SIZE\n",
        "embedding_dim = 256\n",
        "units = 1024\n",
        "vocab_inp_size = len(inp_lang.word_index)+1\n",
        "vocab_tar_size = len(targ_lang.word_index)+1\n",
        "\n",
        "dataset = tf.data.Dataset.from_tensor_slices((input_tensor_train, target_tensor_train)).shuffle(BUFFER_SIZE)\n",
        "dataset = dataset.batch(BATCH_SIZE, drop_remainder=True)"
      ]
    },
    {
      "cell_type": "code",
      "execution_count": 20,
      "metadata": {
        "colab": {
          "base_uri": "https://localhost:8080/"
        },
        "id": "qc6-NK1GtWQt",
        "outputId": "8399ed1f-ac05-4b72-f618-dd2ff0b474ed"
      },
      "outputs": [
        {
          "output_type": "execute_result",
          "data": {
            "text/plain": [
              "(TensorShape([64, 15]), TensorShape([64, 11]))"
            ]
          },
          "metadata": {},
          "execution_count": 20
        }
      ],
      "source": [
        "example_input_batch, example_target_batch = next(iter(dataset))\n",
        "example_input_batch.shape, example_target_batch.shape"
      ]
    },
    {
      "cell_type": "markdown",
      "source": [
        "**Подготовим энкодер.**"
      ],
      "metadata": {
        "id": "gJFUWhaprUWb"
      }
    },
    {
      "cell_type": "code",
      "execution_count": 21,
      "metadata": {
        "id": "nZ2rI24i3jFg"
      },
      "outputs": [],
      "source": [
        "class Encoder(tf.keras.Model):\n",
        "  def __init__(self, vocab_size, embedding_dim, enc_units, batch_sz):\n",
        "    super(Encoder, self).__init__()\n",
        "    self.batch_sz = batch_sz\n",
        "    self.enc_units = enc_units\n",
        "    self.embedding = tf.keras.layers.Embedding(vocab_size, embedding_dim)\n",
        "    self.gru = tf.keras.layers.GRU(self.enc_units,\n",
        "                                   return_sequences=True,\n",
        "                                   return_state=True,\n",
        "                                   recurrent_initializer='glorot_uniform')\n",
        "\n",
        "  def call(self, x, hidden):\n",
        "    x = self.embedding(x)\n",
        "    output, state = self.gru(x, initial_state = hidden)\n",
        "    return output, state\n",
        "\n",
        "  def initialize_hidden_state(self):\n",
        "    return tf.zeros((self.batch_sz, self.enc_units))"
      ]
    },
    {
      "cell_type": "code",
      "execution_count": 22,
      "metadata": {
        "colab": {
          "base_uri": "https://localhost:8080/"
        },
        "id": "60gSVh05Jl6l",
        "outputId": "9843bcf8-7fc2-4f68-d7c8-fad8c95ca9cd"
      },
      "outputs": [
        {
          "output_type": "stream",
          "name": "stdout",
          "text": [
            "Encoder output shape: (batch size, sequence length, units) (64, 15, 1024)\n",
            "Encoder Hidden state shape: (batch size, units) (64, 1024)\n"
          ]
        }
      ],
      "source": [
        "encoder = Encoder(vocab_inp_size, embedding_dim, units, BATCH_SIZE)\n",
        "\n",
        "#инициализируем начальное скрытое состояние из нулей\n",
        "sample_hidden = encoder.initialize_hidden_state()\n",
        "\n",
        "#получаем выход энкодера и последнее скрытое состояние\n",
        "sample_output, sample_hidden = encoder(example_input_batch, sample_hidden)\n",
        "print ('Encoder output shape: (batch size, sequence length, units) {}'.format(sample_output.shape))\n",
        "print ('Encoder Hidden state shape: (batch size, units) {}'.format(sample_hidden.shape))"
      ]
    },
    {
      "cell_type": "code",
      "execution_count": 23,
      "metadata": {
        "id": "YTyhL28Niqk1"
      },
      "outputs": [],
      "source": [
        "class BahdanauAttention(tf.keras.layers.Layer):\n",
        "  def __init__(self, units):\n",
        "    super(BahdanauAttention, self).__init__()\n",
        "    self.W1 = tf.keras.layers.Dense(units)\n",
        "    self.W2 = tf.keras.layers.Dense(units)\n",
        "    self.V = tf.keras.layers.Dense(1)\n",
        "\n",
        "  def call(self, query, values):\n",
        "    # query hidden state shape == (batch_size, hidden size)\n",
        "    # query_with_time_axis shape == (batch_size, 1, hidden size)\n",
        "    # values shape == (batch_size, max_len, hidden size)\n",
        "    # we are doing this to broadcast addition along the time axis to calculate the score\n",
        "    query_with_time_axis = tf.expand_dims(query, 1)\n",
        "\n",
        "    # score shape == (batch_size, max_length, 1)\n",
        "    # we get 1 at the last axis because we are applying score to self.V\n",
        "    # the shape of the tensor before applying self.V is (batch_size, max_length, units)\n",
        "\n",
        "    #применяем к векторам скрытого состояния и выходов энкодера полносвязный слой (выход (batch_size, 1, units) и (batch_size, max_length, units))\n",
        "    #складываем полученные векторы, применяем к сумму тангенс (batch_size, max_length, units)\n",
        "    #проводим результат через dense слой (batch_size, max_length, 1)\n",
        "    score = self.V(tf.nn.tanh(\n",
        "        self.W1(query_with_time_axis) + self.W2(values)))\n",
        "\n",
        "    # attention_weights shape == (batch_size, max_length, 1)\n",
        "    # получаем вероятностное распределение\n",
        "    attention_weights = tf.nn.softmax(score, axis=1)\n",
        "\n",
        "    # context_vector shape after sum == (batch_size, hidden_size)\n",
        "    # умножаем веса внимания на векторы значенй выход (batch_size, max_len, hidden size)\n",
        "    context_vector = attention_weights * values\n",
        "    #находим вдоль столбцов (batch_size, hidden_size)\n",
        "    context_vector = tf.reduce_sum(context_vector, axis=1)\n",
        "\n",
        "    return context_vector, attention_weights"
      ]
    },
    {
      "cell_type": "code",
      "execution_count": 24,
      "metadata": {
        "colab": {
          "base_uri": "https://localhost:8080/"
        },
        "id": "XUqssWcci1XJ",
        "outputId": "c0504f79-076d-404e-9168-ef26fb1ec1a6"
      },
      "outputs": [
        {
          "output_type": "stream",
          "name": "stdout",
          "text": [
            "Attention result shape: (batch size, units) (64, 1024)\n",
            "Attention weights shape: (batch_size, sequence_length, 1) (64, 15, 1)\n"
          ]
        }
      ],
      "source": [
        "#создаем слой внимания\n",
        "attention_layer = BahdanauAttention(10)\n",
        "#передаем выход энкодера и его скрытое состояние\n",
        "attention_result, attention_weights = attention_layer(sample_hidden, sample_output)\n",
        "\n",
        "print(\"Attention result shape: (batch size, units) {}\".format(attention_result.shape))\n",
        "print(\"Attention weights shape: (batch_size, sequence_length, 1) {}\".format(attention_weights.shape))"
      ]
    },
    {
      "cell_type": "markdown",
      "source": [
        "**Подготовим декодер.**"
      ],
      "metadata": {
        "id": "YhCQue5JtatY"
      }
    },
    {
      "cell_type": "code",
      "execution_count": 25,
      "metadata": {
        "id": "yJ_B3mhW3jFk"
      },
      "outputs": [],
      "source": [
        "class Decoder(tf.keras.Model):\n",
        "  def __init__(self, vocab_size, embedding_dim, dec_units, batch_sz):\n",
        "    super(Decoder, self).__init__()\n",
        "    self.batch_sz = batch_sz\n",
        "    self.dec_units = dec_units\n",
        "    self.embedding = tf.keras.layers.Embedding(vocab_size, embedding_dim)\n",
        "    self.gru = tf.keras.layers.GRU(self.dec_units,\n",
        "                                   return_sequences=True,\n",
        "                                   return_state=True,\n",
        "                                   recurrent_initializer='glorot_uniform')\n",
        "    self.fc = tf.keras.layers.Dense(vocab_size)\n",
        "\n",
        "    # используем слой внимания\n",
        "    self.attention = BahdanauAttention(self.dec_units)\n",
        "\n",
        "  def call(self, x, hidden, enc_output):\n",
        "    # enc_output shape == (batch_size, max_length, hidden_size)\n",
        "    # получаем выходы слоя внимания (из скрытого состояния и выхода энкодера)\n",
        "    # context_vector shape == (batch_size, hidden_size)\n",
        "    # attention_weights shape == (batch_size, max_len, 1)\n",
        "    context_vector, attention_weights = self.attention(hidden, enc_output)\n",
        "\n",
        "    # x shape after passing through embedding == (batch_size, 1, embedding_dim)\n",
        "    x = self.embedding(x)\n",
        "\n",
        "    # x shape after concatenation == (batch_size, 1, embedding_dim + hidden_size)\n",
        "    #соединяем выход эмбеддинга с вектором контекста и подаем навход RNN\n",
        "    x = tf.concat([tf.expand_dims(context_vector, 1), x], axis=-1)\n",
        "\n",
        "    # passing the concatenated vector to the GRU\n",
        "    output, state = self.gru(x)\n",
        "\n",
        "    # output shape == (batch_size * 1, hidden_size)\n",
        "    output = tf.reshape(output, (-1, output.shape[2]))\n",
        "\n",
        "    # output shape == (batch_size, vocab)\n",
        "    x = self.fc(output)\n",
        "\n",
        "    return x, state, attention_weights"
      ]
    },
    {
      "cell_type": "code",
      "execution_count": 26,
      "metadata": {
        "colab": {
          "base_uri": "https://localhost:8080/"
        },
        "id": "P5UY8wko3jFp",
        "outputId": "16189951-c048-4ce7-d8f9-7260f9d8db41"
      },
      "outputs": [
        {
          "output_type": "stream",
          "name": "stdout",
          "text": [
            "Decoder output shape: (batch_size, vocab size) (64, 7335)\n"
          ]
        }
      ],
      "source": [
        "decoder = Decoder(vocab_tar_size, embedding_dim, units, BATCH_SIZE)\n",
        "#применяем декодер к случайному батчу из равномерного распределения (батч,1) и выходам энкодера\n",
        "sample_decoder_output, _, _ = decoder(tf.random.uniform((BATCH_SIZE, 1)),\n",
        "                                      sample_hidden, sample_output)\n",
        "\n",
        "print ('Decoder output shape: (batch_size, vocab size) {}'.format(sample_decoder_output.shape))"
      ]
    },
    {
      "cell_type": "markdown",
      "metadata": {
        "id": "_ch_71VbIRfK"
      },
      "source": [
        "## Определим оптимизатор и функцию потерь."
      ]
    },
    {
      "cell_type": "code",
      "execution_count": 27,
      "metadata": {
        "id": "WmTHr5iV3jFr"
      },
      "outputs": [],
      "source": [
        "optimizer = tf.keras.optimizers.Adam()\n",
        "loss_object = tf.keras.losses.SparseCategoricalCrossentropy(\n",
        "    from_logits=True, reduction='none')\n",
        "\n",
        "def loss_function(real, pred):\n",
        "  mask = tf.math.logical_not(tf.math.equal(real, 0))\n",
        "  loss_ = loss_object(real, pred)\n",
        "\n",
        "  mask = tf.cast(mask, dtype=loss_.dtype)\n",
        "  loss_ *= mask\n",
        "\n",
        "  return tf.reduce_mean(loss_)"
      ]
    },
    {
      "cell_type": "markdown",
      "metadata": {
        "id": "DMVWzzsfNl4e"
      },
      "source": [
        "## Подготовим директорию для сохранения сheckpoints."
      ]
    },
    {
      "cell_type": "code",
      "execution_count": 28,
      "metadata": {
        "id": "Zj8bXQTgNwrF"
      },
      "outputs": [],
      "source": [
        "checkpoint_dir = './training_attention_checkpoints'\n",
        "checkpoint_prefix = os.path.join(checkpoint_dir, \"ckpt\")\n",
        "checkpoint = tf.train.Checkpoint(optimizer=optimizer,\n",
        "                                 encoder=encoder,\n",
        "                                 decoder=decoder)"
      ]
    },
    {
      "cell_type": "code",
      "execution_count": 29,
      "metadata": {
        "id": "sC9ArXSsVfqn"
      },
      "outputs": [],
      "source": [
        "@tf.function\n",
        "def train_step(inp, targ, enc_hidden):\n",
        "  loss = 0\n",
        "\n",
        "  with tf.GradientTape() as tape:\n",
        "    #получаем выходы encoder\n",
        "    enc_output, enc_hidden = encoder(inp, enc_hidden)\n",
        "\n",
        "    #помещаем выходное скрытое состояние энкодера в скрытое состояние decoder\n",
        "    dec_hidden = enc_hidden\n",
        "\n",
        "    #формируем вход декодера:\n",
        "    # берем список длины батч из индексов тега \n",
        "    # приписываем списку размерность 1\n",
        "    dec_input = tf.expand_dims([targ_lang.word_index['<start>']] * BATCH_SIZE, 1)\n",
        "\n",
        "    #Teacher forcing - выводим target в качестве следующего входа\n",
        "    for t in range(1, targ.shape[1]):\n",
        "      #помещаем enc_output, dec_input, dec_hidden в decoder\n",
        "      predictions, dec_hidden, _ = decoder(dec_input, dec_hidden, enc_output)\n",
        "\n",
        "      # считаем функцию потерь\n",
        "      loss += loss_function(targ[:, t], predictions)\n",
        "\n",
        "      # используем teacher forcing (приписываем списку размерность 1)\n",
        "      dec_input = tf.expand_dims(targ[:, t], 1)\n",
        "\n",
        "  batch_loss = (loss / int(targ.shape[1]))\n",
        "\n",
        "  variables = encoder.trainable_variables + decoder.trainable_variables\n",
        "\n",
        "  #вычисляем градиенты loss по variables\n",
        "  gradients = tape.gradient(loss, variables)\n",
        "\n",
        "  #оптимизатор применяет подсчитанные градиенты\n",
        "  optimizer.apply_gradients(zip(gradients, variables))\n",
        "\n",
        "  return batch_loss"
      ]
    },
    {
      "cell_type": "code",
      "execution_count": 31,
      "metadata": {
        "colab": {
          "base_uri": "https://localhost:8080/"
        },
        "id": "ddefjBMa3jF0",
        "outputId": "0dbc3443-6d93-45fb-e15e-d50461f65b81"
      },
      "outputs": [
        {
          "output_type": "stream",
          "name": "stdout",
          "text": [
            "Epoch 1 Batch 0 Loss 4.6137\n",
            "Epoch 1 Batch 100 Loss 2.0309\n",
            "Epoch 1 Batch 200 Loss 1.8434\n",
            "Epoch 1 Batch 300 Loss 1.6042\n",
            "Epoch 1 Batch 400 Loss 1.5415\n",
            "Epoch 1 Batch 500 Loss 1.5223\n",
            "Epoch 1 Batch 600 Loss 1.3801\n",
            "Epoch 1 Batch 700 Loss 1.3453\n",
            "Epoch 1 Batch 800 Loss 1.2392\n",
            "Epoch 1 Batch 900 Loss 1.2072\n",
            "Epoch 1 Batch 1000 Loss 1.0016\n",
            "Epoch 1 Batch 1100 Loss 1.1238\n",
            "Epoch 1 Batch 1200 Loss 1.0140\n",
            "Epoch 1 Loss 1.4693\n",
            "Time taken for 1 epoch 93.69141411781311 sec\n",
            "\n",
            "Epoch 2 Batch 0 Loss 0.8933\n",
            "Epoch 2 Batch 100 Loss 0.8332\n",
            "Epoch 2 Batch 200 Loss 0.9129\n",
            "Epoch 2 Batch 300 Loss 0.7654\n",
            "Epoch 2 Batch 400 Loss 0.8631\n",
            "Epoch 2 Batch 500 Loss 0.6783\n",
            "Epoch 2 Batch 600 Loss 0.6387\n",
            "Epoch 2 Batch 700 Loss 0.7676\n",
            "Epoch 2 Batch 800 Loss 0.6195\n",
            "Epoch 2 Batch 900 Loss 0.5686\n",
            "Epoch 2 Batch 1000 Loss 0.5687\n",
            "Epoch 2 Batch 1100 Loss 0.4853\n",
            "Epoch 2 Batch 1200 Loss 0.5382\n",
            "Epoch 2 Loss 0.6975\n",
            "Time taken for 1 epoch 98.03050780296326 sec\n",
            "\n",
            "Epoch 3 Batch 0 Loss 0.4120\n",
            "Epoch 3 Batch 100 Loss 0.3804\n",
            "Epoch 3 Batch 200 Loss 0.4046\n",
            "Epoch 3 Batch 300 Loss 0.3672\n",
            "Epoch 3 Batch 400 Loss 0.4105\n",
            "Epoch 3 Batch 500 Loss 0.3216\n",
            "Epoch 3 Batch 600 Loss 0.3781\n",
            "Epoch 3 Batch 700 Loss 0.3991\n",
            "Epoch 3 Batch 800 Loss 0.4691\n",
            "Epoch 3 Batch 900 Loss 0.3707\n",
            "Epoch 3 Batch 1000 Loss 0.2886\n",
            "Epoch 3 Batch 1100 Loss 0.3029\n",
            "Epoch 3 Batch 1200 Loss 0.3112\n",
            "Epoch 3 Loss 0.3637\n",
            "Time taken for 1 epoch 99.10566639900208 sec\n",
            "\n",
            "Epoch 4 Batch 0 Loss 0.2003\n",
            "Epoch 4 Batch 100 Loss 0.2991\n",
            "Epoch 4 Batch 200 Loss 0.1419\n",
            "Epoch 4 Batch 300 Loss 0.1686\n",
            "Epoch 4 Batch 400 Loss 0.2252\n",
            "Epoch 4 Batch 500 Loss 0.2376\n",
            "Epoch 4 Batch 600 Loss 0.1848\n",
            "Epoch 4 Batch 700 Loss 0.2058\n",
            "Epoch 4 Batch 800 Loss 0.1918\n",
            "Epoch 4 Batch 900 Loss 0.1700\n",
            "Epoch 4 Batch 1000 Loss 0.1996\n",
            "Epoch 4 Batch 1100 Loss 0.2440\n",
            "Epoch 4 Batch 1200 Loss 0.2128\n",
            "Epoch 4 Loss 0.2175\n",
            "Time taken for 1 epoch 99.2139151096344 sec\n",
            "\n",
            "Epoch 5 Batch 0 Loss 0.1335\n",
            "Epoch 5 Batch 100 Loss 0.1698\n",
            "Epoch 5 Batch 200 Loss 0.1600\n",
            "Epoch 5 Batch 300 Loss 0.1029\n",
            "Epoch 5 Batch 400 Loss 0.0857\n",
            "Epoch 5 Batch 500 Loss 0.1503\n",
            "Epoch 5 Batch 600 Loss 0.1961\n",
            "Epoch 5 Batch 700 Loss 0.1870\n",
            "Epoch 5 Batch 800 Loss 0.1296\n",
            "Epoch 5 Batch 900 Loss 0.1892\n",
            "Epoch 5 Batch 1000 Loss 0.1550\n",
            "Epoch 5 Batch 1100 Loss 0.1531\n",
            "Epoch 5 Batch 1200 Loss 0.1648\n",
            "Epoch 5 Loss 0.1507\n",
            "Time taken for 1 epoch 99.05136799812317 sec\n",
            "\n",
            "Epoch 6 Batch 0 Loss 0.0855\n",
            "Epoch 6 Batch 100 Loss 0.1057\n",
            "Epoch 6 Batch 200 Loss 0.0962\n",
            "Epoch 6 Batch 300 Loss 0.1512\n",
            "Epoch 6 Batch 400 Loss 0.1346\n",
            "Epoch 6 Batch 500 Loss 0.1393\n",
            "Epoch 6 Batch 600 Loss 0.1097\n",
            "Epoch 6 Batch 700 Loss 0.0974\n",
            "Epoch 6 Batch 800 Loss 0.1169\n",
            "Epoch 6 Batch 900 Loss 0.1096\n",
            "Epoch 6 Batch 1000 Loss 0.1073\n",
            "Epoch 6 Batch 1100 Loss 0.1376\n",
            "Epoch 6 Batch 1200 Loss 0.1384\n",
            "Epoch 6 Loss 0.1157\n",
            "Time taken for 1 epoch 98.96981930732727 sec\n",
            "\n",
            "Epoch 7 Batch 0 Loss 0.0677\n",
            "Epoch 7 Batch 100 Loss 0.0746\n",
            "Epoch 7 Batch 200 Loss 0.0890\n",
            "Epoch 7 Batch 300 Loss 0.0711\n",
            "Epoch 7 Batch 400 Loss 0.1185\n",
            "Epoch 7 Batch 500 Loss 0.0718\n",
            "Epoch 7 Batch 600 Loss 0.0792\n",
            "Epoch 7 Batch 700 Loss 0.0874\n",
            "Epoch 7 Batch 800 Loss 0.1209\n",
            "Epoch 7 Batch 900 Loss 0.1311\n",
            "Epoch 7 Batch 1000 Loss 0.1095\n",
            "Epoch 7 Batch 1100 Loss 0.1029\n",
            "Epoch 7 Batch 1200 Loss 0.1156\n",
            "Epoch 7 Loss 0.0978\n",
            "Time taken for 1 epoch 99.18187141418457 sec\n",
            "\n",
            "Epoch 8 Batch 0 Loss 0.0642\n",
            "Epoch 8 Batch 100 Loss 0.1304\n",
            "Epoch 8 Batch 200 Loss 0.0762\n",
            "Epoch 8 Batch 300 Loss 0.0703\n",
            "Epoch 8 Batch 400 Loss 0.0702\n",
            "Epoch 8 Batch 500 Loss 0.1076\n",
            "Epoch 8 Batch 600 Loss 0.0684\n",
            "Epoch 8 Batch 700 Loss 0.0740\n",
            "Epoch 8 Batch 800 Loss 0.0941\n",
            "Epoch 8 Batch 900 Loss 0.0740\n",
            "Epoch 8 Batch 1000 Loss 0.0870\n",
            "Epoch 8 Batch 1100 Loss 0.0819\n",
            "Epoch 8 Batch 1200 Loss 0.1051\n",
            "Epoch 8 Loss 0.0868\n",
            "Time taken for 1 epoch 99.29650616645813 sec\n",
            "\n",
            "Epoch 9 Batch 0 Loss 0.0478\n",
            "Epoch 9 Batch 100 Loss 0.0951\n",
            "Epoch 9 Batch 200 Loss 0.0513\n",
            "Epoch 9 Batch 300 Loss 0.0868\n",
            "Epoch 9 Batch 400 Loss 0.0617\n",
            "Epoch 9 Batch 500 Loss 0.0729\n",
            "Epoch 9 Batch 600 Loss 0.0725\n",
            "Epoch 9 Batch 700 Loss 0.0741\n",
            "Epoch 9 Batch 800 Loss 0.0956\n",
            "Epoch 9 Batch 900 Loss 0.0836\n",
            "Epoch 9 Batch 1000 Loss 0.0835\n",
            "Epoch 9 Batch 1100 Loss 0.1344\n",
            "Epoch 9 Batch 1200 Loss 0.1063\n",
            "Epoch 9 Loss 0.0819\n",
            "Time taken for 1 epoch 98.95503807067871 sec\n",
            "\n",
            "Epoch 10 Batch 0 Loss 0.0771\n",
            "Epoch 10 Batch 100 Loss 0.0779\n",
            "Epoch 10 Batch 200 Loss 0.0502\n",
            "Epoch 10 Batch 300 Loss 0.0512\n",
            "Epoch 10 Batch 400 Loss 0.0630\n",
            "Epoch 10 Batch 500 Loss 0.0444\n",
            "Epoch 10 Batch 600 Loss 0.0737\n",
            "Epoch 10 Batch 700 Loss 0.0898\n",
            "Epoch 10 Batch 800 Loss 0.0707\n",
            "Epoch 10 Batch 900 Loss 0.0693\n",
            "Epoch 10 Batch 1000 Loss 0.0761\n",
            "Epoch 10 Batch 1100 Loss 0.0574\n",
            "Epoch 10 Batch 1200 Loss 0.0658\n",
            "Epoch 10 Loss 0.0759\n",
            "Time taken for 1 epoch 98.865558385849 sec\n",
            "\n",
            "Epoch 11 Batch 0 Loss 0.0701\n",
            "Epoch 11 Batch 100 Loss 0.0780\n",
            "Epoch 11 Batch 200 Loss 0.0736\n",
            "Epoch 11 Batch 300 Loss 0.0727\n",
            "Epoch 11 Batch 400 Loss 0.0502\n",
            "Epoch 11 Batch 500 Loss 0.0537\n",
            "Epoch 11 Batch 600 Loss 0.0918\n",
            "Epoch 11 Batch 700 Loss 0.0789\n",
            "Epoch 11 Batch 800 Loss 0.0958\n",
            "Epoch 11 Batch 900 Loss 0.0771\n",
            "Epoch 11 Batch 1000 Loss 0.0947\n",
            "Epoch 11 Batch 1100 Loss 0.0804\n",
            "Epoch 11 Batch 1200 Loss 0.0516\n",
            "Epoch 11 Loss 0.0716\n",
            "Time taken for 1 epoch 98.83009743690491 sec\n",
            "\n",
            "Epoch 12 Batch 0 Loss 0.0654\n",
            "Epoch 12 Batch 100 Loss 0.0411\n",
            "Epoch 12 Batch 200 Loss 0.0557\n",
            "Epoch 12 Batch 300 Loss 0.0714\n",
            "Epoch 12 Batch 400 Loss 0.0657\n",
            "Epoch 12 Batch 500 Loss 0.0615\n",
            "Epoch 12 Batch 600 Loss 0.0885\n",
            "Epoch 12 Batch 700 Loss 0.0717\n",
            "Epoch 12 Batch 800 Loss 0.1057\n",
            "Epoch 12 Batch 900 Loss 0.0788\n",
            "Epoch 12 Batch 1000 Loss 0.1086\n",
            "Epoch 12 Batch 1100 Loss 0.0616\n",
            "Epoch 12 Batch 1200 Loss 0.0809\n",
            "Epoch 12 Loss 0.0695\n",
            "Time taken for 1 epoch 98.82721543312073 sec\n",
            "\n",
            "Epoch 13 Batch 0 Loss 0.0263\n",
            "Epoch 13 Batch 100 Loss 0.0531\n",
            "Epoch 13 Batch 200 Loss 0.0314\n",
            "Epoch 13 Batch 300 Loss 0.0408\n",
            "Epoch 13 Batch 400 Loss 0.0502\n",
            "Epoch 13 Batch 500 Loss 0.0555\n",
            "Epoch 13 Batch 600 Loss 0.0646\n",
            "Epoch 13 Batch 700 Loss 0.1119\n",
            "Epoch 13 Batch 800 Loss 0.0700\n",
            "Epoch 13 Batch 900 Loss 0.0507\n",
            "Epoch 13 Batch 1000 Loss 0.0646\n",
            "Epoch 13 Batch 1100 Loss 0.0653\n",
            "Epoch 13 Batch 1200 Loss 0.0605\n",
            "Epoch 13 Loss 0.0668\n",
            "Time taken for 1 epoch 98.97097659111023 sec\n",
            "\n",
            "Epoch 14 Batch 0 Loss 0.0412\n",
            "Epoch 14 Batch 100 Loss 0.0426\n",
            "Epoch 14 Batch 200 Loss 0.0357\n",
            "Epoch 14 Batch 300 Loss 0.0741\n",
            "Epoch 14 Batch 400 Loss 0.0586\n",
            "Epoch 14 Batch 500 Loss 0.0417\n",
            "Epoch 14 Batch 600 Loss 0.0526\n",
            "Epoch 14 Batch 700 Loss 0.0564\n",
            "Epoch 14 Batch 800 Loss 0.0771\n",
            "Epoch 14 Batch 900 Loss 0.0821\n",
            "Epoch 14 Batch 1000 Loss 0.0683\n",
            "Epoch 14 Batch 1100 Loss 0.0528\n",
            "Epoch 14 Batch 1200 Loss 0.0658\n",
            "Epoch 14 Loss 0.0633\n",
            "Time taken for 1 epoch 98.94230151176453 sec\n",
            "\n",
            "Epoch 15 Batch 0 Loss 0.0481\n",
            "Epoch 15 Batch 100 Loss 0.0335\n",
            "Epoch 15 Batch 200 Loss 0.0735\n",
            "Epoch 15 Batch 300 Loss 0.0416\n",
            "Epoch 15 Batch 400 Loss 0.0345\n",
            "Epoch 15 Batch 500 Loss 0.0866\n",
            "Epoch 15 Batch 600 Loss 0.0558\n",
            "Epoch 15 Batch 700 Loss 0.0690\n",
            "Epoch 15 Batch 800 Loss 0.0483\n",
            "Epoch 15 Batch 900 Loss 0.0820\n",
            "Epoch 15 Batch 1000 Loss 0.0438\n",
            "Epoch 15 Batch 1100 Loss 0.0825\n",
            "Epoch 15 Batch 1200 Loss 0.0646\n",
            "Epoch 15 Loss 0.0618\n",
            "Time taken for 1 epoch 98.82753205299377 sec\n",
            "\n",
            "Epoch 16 Batch 0 Loss 0.0567\n",
            "Epoch 16 Batch 100 Loss 0.0430\n",
            "Epoch 16 Batch 200 Loss 0.0259\n",
            "Epoch 16 Batch 300 Loss 0.0480\n",
            "Epoch 16 Batch 400 Loss 0.0748\n",
            "Epoch 16 Batch 500 Loss 0.0291\n",
            "Epoch 16 Batch 600 Loss 0.0542\n",
            "Epoch 16 Batch 700 Loss 0.0550\n",
            "Epoch 16 Batch 800 Loss 0.0404\n",
            "Epoch 16 Batch 900 Loss 0.0562\n",
            "Epoch 16 Batch 1000 Loss 0.0555\n",
            "Epoch 16 Batch 1100 Loss 0.0614\n",
            "Epoch 16 Batch 1200 Loss 0.0796\n",
            "Epoch 16 Loss 0.0599\n",
            "Time taken for 1 epoch 98.85764598846436 sec\n",
            "\n",
            "Epoch 17 Batch 0 Loss 0.0520\n",
            "Epoch 17 Batch 100 Loss 0.0336\n",
            "Epoch 17 Batch 200 Loss 0.0614\n",
            "Epoch 17 Batch 300 Loss 0.0219\n",
            "Epoch 17 Batch 400 Loss 0.0653\n",
            "Epoch 17 Batch 500 Loss 0.0430\n",
            "Epoch 17 Batch 600 Loss 0.0536\n",
            "Epoch 17 Batch 700 Loss 0.0592\n",
            "Epoch 17 Batch 800 Loss 0.0399\n",
            "Epoch 17 Batch 900 Loss 0.0683\n",
            "Epoch 17 Batch 1000 Loss 0.0666\n",
            "Epoch 17 Batch 1100 Loss 0.0408\n",
            "Epoch 17 Batch 1200 Loss 0.0833\n",
            "Epoch 17 Loss 0.0587\n",
            "Time taken for 1 epoch 98.82068920135498 sec\n",
            "\n",
            "Epoch 18 Batch 0 Loss 0.0645\n",
            "Epoch 18 Batch 100 Loss 0.0568\n",
            "Epoch 18 Batch 200 Loss 0.0489\n",
            "Epoch 18 Batch 300 Loss 0.0345\n",
            "Epoch 18 Batch 400 Loss 0.0657\n",
            "Epoch 18 Batch 500 Loss 0.0518\n",
            "Epoch 18 Batch 600 Loss 0.0609\n",
            "Epoch 18 Batch 700 Loss 0.0516\n",
            "Epoch 18 Batch 800 Loss 0.0526\n",
            "Epoch 18 Batch 900 Loss 0.0794\n",
            "Epoch 18 Batch 1000 Loss 0.0692\n",
            "Epoch 18 Batch 1100 Loss 0.0675\n",
            "Epoch 18 Batch 1200 Loss 0.0514\n",
            "Epoch 18 Loss 0.0563\n",
            "Time taken for 1 epoch 98.77139711380005 sec\n",
            "\n",
            "Epoch 19 Batch 0 Loss 0.0321\n",
            "Epoch 19 Batch 100 Loss 0.0339\n",
            "Epoch 19 Batch 200 Loss 0.0391\n",
            "Epoch 19 Batch 300 Loss 0.0448\n",
            "Epoch 19 Batch 400 Loss 0.0376\n",
            "Epoch 19 Batch 500 Loss 0.0363\n",
            "Epoch 19 Batch 600 Loss 0.0462\n",
            "Epoch 19 Batch 700 Loss 0.0703\n",
            "Epoch 19 Batch 800 Loss 0.0483\n",
            "Epoch 19 Batch 900 Loss 0.0914\n",
            "Epoch 19 Batch 1000 Loss 0.0490\n",
            "Epoch 19 Batch 1100 Loss 0.0604\n",
            "Epoch 19 Batch 1200 Loss 0.0639\n",
            "Epoch 19 Loss 0.0545\n",
            "Time taken for 1 epoch 98.80380463600159 sec\n",
            "\n",
            "Epoch 20 Batch 0 Loss 0.0404\n",
            "Epoch 20 Batch 100 Loss 0.0263\n",
            "Epoch 20 Batch 200 Loss 0.0515\n",
            "Epoch 20 Batch 300 Loss 0.0640\n",
            "Epoch 20 Batch 400 Loss 0.0508\n",
            "Epoch 20 Batch 500 Loss 0.0281\n",
            "Epoch 20 Batch 600 Loss 0.0735\n",
            "Epoch 20 Batch 700 Loss 0.0430\n",
            "Epoch 20 Batch 800 Loss 0.0445\n",
            "Epoch 20 Batch 900 Loss 0.0643\n",
            "Epoch 20 Batch 1000 Loss 0.0454\n",
            "Epoch 20 Batch 1100 Loss 0.0783\n",
            "Epoch 20 Batch 1200 Loss 0.0474\n",
            "Epoch 20 Loss 0.0550\n",
            "Time taken for 1 epoch 98.7939510345459 sec\n",
            "\n",
            "Epoch 21 Batch 0 Loss 0.0486\n",
            "Epoch 21 Batch 100 Loss 0.0359\n",
            "Epoch 21 Batch 200 Loss 0.0416\n",
            "Epoch 21 Batch 300 Loss 0.0667\n",
            "Epoch 21 Batch 400 Loss 0.0265\n",
            "Epoch 21 Batch 500 Loss 0.0304\n",
            "Epoch 21 Batch 600 Loss 0.0406\n",
            "Epoch 21 Batch 700 Loss 0.0647\n",
            "Epoch 21 Batch 800 Loss 0.0764\n",
            "Epoch 21 Batch 900 Loss 0.0574\n",
            "Epoch 21 Batch 1000 Loss 0.0450\n",
            "Epoch 21 Batch 1100 Loss 0.0569\n",
            "Epoch 21 Batch 1200 Loss 0.0634\n",
            "Epoch 21 Loss 0.0528\n",
            "Time taken for 1 epoch 98.81500196456909 sec\n",
            "\n",
            "Epoch 22 Batch 0 Loss 0.0258\n",
            "Epoch 22 Batch 100 Loss 0.0356\n",
            "Epoch 22 Batch 200 Loss 0.0322\n",
            "Epoch 22 Batch 300 Loss 0.0531\n",
            "Epoch 22 Batch 400 Loss 0.0495\n",
            "Epoch 22 Batch 500 Loss 0.0374\n",
            "Epoch 22 Batch 600 Loss 0.0838\n",
            "Epoch 22 Batch 700 Loss 0.0398\n",
            "Epoch 22 Batch 800 Loss 0.0492\n",
            "Epoch 22 Batch 900 Loss 0.0706\n",
            "Epoch 22 Batch 1000 Loss 0.0389\n",
            "Epoch 22 Batch 1100 Loss 0.0305\n",
            "Epoch 22 Batch 1200 Loss 0.0752\n",
            "Epoch 22 Loss 0.0519\n",
            "Time taken for 1 epoch 98.86827492713928 sec\n",
            "\n",
            "Epoch 23 Batch 0 Loss 0.0470\n",
            "Epoch 23 Batch 100 Loss 0.0364\n",
            "Epoch 23 Batch 200 Loss 0.0433\n",
            "Epoch 23 Batch 300 Loss 0.0646\n",
            "Epoch 23 Batch 400 Loss 0.0610\n",
            "Epoch 23 Batch 500 Loss 0.0499\n",
            "Epoch 23 Batch 600 Loss 0.0844\n",
            "Epoch 23 Batch 700 Loss 0.0639\n",
            "Epoch 23 Batch 800 Loss 0.0463\n",
            "Epoch 23 Batch 900 Loss 0.0276\n",
            "Epoch 23 Batch 1000 Loss 0.0654\n",
            "Epoch 23 Batch 1100 Loss 0.0506\n",
            "Epoch 23 Batch 1200 Loss 0.0420\n",
            "Epoch 23 Loss 0.0508\n",
            "Time taken for 1 epoch 98.96495747566223 sec\n",
            "\n",
            "Epoch 24 Batch 0 Loss 0.0174\n",
            "Epoch 24 Batch 100 Loss 0.0184\n",
            "Epoch 24 Batch 200 Loss 0.0433\n",
            "Epoch 24 Batch 300 Loss 0.0907\n",
            "Epoch 24 Batch 400 Loss 0.0426\n",
            "Epoch 24 Batch 500 Loss 0.0423\n",
            "Epoch 24 Batch 600 Loss 0.0248\n",
            "Epoch 24 Batch 700 Loss 0.0610\n",
            "Epoch 24 Batch 800 Loss 0.0478\n",
            "Epoch 24 Batch 900 Loss 0.0772\n",
            "Epoch 24 Batch 1000 Loss 0.0344\n",
            "Epoch 24 Batch 1100 Loss 0.0595\n",
            "Epoch 24 Batch 1200 Loss 0.0730\n",
            "Epoch 24 Loss 0.0499\n",
            "Time taken for 1 epoch 98.94035601615906 sec\n",
            "\n",
            "Epoch 25 Batch 0 Loss 0.0394\n",
            "Epoch 25 Batch 100 Loss 0.0400\n",
            "Epoch 25 Batch 200 Loss 0.0457\n",
            "Epoch 25 Batch 300 Loss 0.0204\n",
            "Epoch 25 Batch 400 Loss 0.0395\n",
            "Epoch 25 Batch 500 Loss 0.0404\n",
            "Epoch 25 Batch 600 Loss 0.0266\n",
            "Epoch 25 Batch 700 Loss 0.0283\n",
            "Epoch 25 Batch 800 Loss 0.0173\n",
            "Epoch 25 Batch 900 Loss 0.0567\n",
            "Epoch 25 Batch 1000 Loss 0.0629\n",
            "Epoch 25 Batch 1100 Loss 0.0513\n",
            "Epoch 25 Batch 1200 Loss 0.0645\n",
            "Epoch 25 Loss 0.0490\n",
            "Time taken for 1 epoch 99.98654651641846 sec\n",
            "\n",
            "Epoch 26 Batch 0 Loss 0.0510\n",
            "Epoch 26 Batch 100 Loss 0.0390\n",
            "Epoch 26 Batch 200 Loss 0.0423\n",
            "Epoch 26 Batch 300 Loss 0.0355\n",
            "Epoch 26 Batch 400 Loss 0.0442\n",
            "Epoch 26 Batch 500 Loss 0.0232\n",
            "Epoch 26 Batch 600 Loss 0.0316\n",
            "Epoch 26 Batch 700 Loss 0.0390\n",
            "Epoch 26 Batch 800 Loss 0.0477\n",
            "Epoch 26 Batch 900 Loss 0.0339\n",
            "Epoch 26 Batch 1000 Loss 0.0706\n",
            "Epoch 26 Batch 1100 Loss 0.0595\n",
            "Epoch 26 Batch 1200 Loss 0.0258\n",
            "Epoch 26 Loss 0.0475\n",
            "Time taken for 1 epoch 98.86298751831055 sec\n",
            "\n",
            "Epoch 27 Batch 0 Loss 0.0301\n",
            "Epoch 27 Batch 100 Loss 0.0246\n",
            "Epoch 27 Batch 200 Loss 0.0527\n",
            "Epoch 27 Batch 300 Loss 0.0596\n",
            "Epoch 27 Batch 400 Loss 0.0540\n",
            "Epoch 27 Batch 500 Loss 0.0392\n",
            "Epoch 27 Batch 600 Loss 0.0407\n",
            "Epoch 27 Batch 700 Loss 0.0338\n",
            "Epoch 27 Batch 800 Loss 0.0591\n",
            "Epoch 27 Batch 900 Loss 0.0319\n",
            "Epoch 27 Batch 1000 Loss 0.0518\n",
            "Epoch 27 Batch 1100 Loss 0.0551\n",
            "Epoch 27 Batch 1200 Loss 0.0489\n",
            "Epoch 27 Loss 0.0474\n",
            "Time taken for 1 epoch 98.70277738571167 sec\n",
            "\n",
            "Epoch 28 Batch 0 Loss 0.0674\n",
            "Epoch 28 Batch 100 Loss 0.0444\n",
            "Epoch 28 Batch 200 Loss 0.0336\n",
            "Epoch 28 Batch 300 Loss 0.0423\n",
            "Epoch 28 Batch 400 Loss 0.0463\n",
            "Epoch 28 Batch 500 Loss 0.0434\n",
            "Epoch 28 Batch 600 Loss 0.0477\n",
            "Epoch 28 Batch 700 Loss 0.0434\n",
            "Epoch 28 Batch 800 Loss 0.0423\n",
            "Epoch 28 Batch 900 Loss 0.0460\n",
            "Epoch 28 Batch 1000 Loss 0.0547\n",
            "Epoch 28 Batch 1100 Loss 0.0731\n",
            "Epoch 28 Batch 1200 Loss 0.1004\n",
            "Epoch 28 Loss 0.0475\n",
            "Time taken for 1 epoch 98.87776613235474 sec\n",
            "\n",
            "Epoch 29 Batch 0 Loss 0.0540\n",
            "Epoch 29 Batch 100 Loss 0.0233\n",
            "Epoch 29 Batch 200 Loss 0.0182\n",
            "Epoch 29 Batch 300 Loss 0.0419\n",
            "Epoch 29 Batch 400 Loss 0.0367\n",
            "Epoch 29 Batch 500 Loss 0.0315\n",
            "Epoch 29 Batch 600 Loss 0.0492\n",
            "Epoch 29 Batch 700 Loss 0.0242\n",
            "Epoch 29 Batch 800 Loss 0.0490\n",
            "Epoch 29 Batch 900 Loss 0.0862\n",
            "Epoch 29 Batch 1000 Loss 0.0876\n",
            "Epoch 29 Batch 1100 Loss 0.0738\n",
            "Epoch 29 Batch 1200 Loss 0.0483\n",
            "Epoch 29 Loss 0.0454\n",
            "Time taken for 1 epoch 98.74006676673889 sec\n",
            "\n",
            "Epoch 30 Batch 0 Loss 0.0378\n",
            "Epoch 30 Batch 100 Loss 0.0372\n",
            "Epoch 30 Batch 200 Loss 0.0287\n",
            "Epoch 30 Batch 300 Loss 0.0608\n",
            "Epoch 30 Batch 400 Loss 0.0236\n",
            "Epoch 30 Batch 500 Loss 0.0362\n",
            "Epoch 30 Batch 600 Loss 0.0432\n",
            "Epoch 30 Batch 700 Loss 0.0437\n",
            "Epoch 30 Batch 800 Loss 0.0294\n",
            "Epoch 30 Batch 900 Loss 0.0632\n",
            "Epoch 30 Batch 1000 Loss 0.0493\n",
            "Epoch 30 Batch 1100 Loss 0.0606\n",
            "Epoch 30 Batch 1200 Loss 0.0375\n",
            "Epoch 30 Loss 0.0454\n",
            "Time taken for 1 epoch 98.69487643241882 sec\n",
            "\n",
            "Epoch 31 Batch 0 Loss 0.0239\n",
            "Epoch 31 Batch 100 Loss 0.0158\n",
            "Epoch 31 Batch 200 Loss 0.0522\n",
            "Epoch 31 Batch 300 Loss 0.0377\n",
            "Epoch 31 Batch 400 Loss 0.0555\n",
            "Epoch 31 Batch 500 Loss 0.0140\n",
            "Epoch 31 Batch 600 Loss 0.0356\n",
            "Epoch 31 Batch 700 Loss 0.0381\n",
            "Epoch 31 Batch 800 Loss 0.0273\n",
            "Epoch 31 Batch 900 Loss 0.0546\n",
            "Epoch 31 Batch 1000 Loss 0.0702\n",
            "Epoch 31 Batch 1100 Loss 0.0497\n",
            "Epoch 31 Batch 1200 Loss 0.0580\n",
            "Epoch 31 Loss 0.0445\n",
            "Time taken for 1 epoch 98.76899838447571 sec\n",
            "\n",
            "Epoch 32 Batch 0 Loss 0.0191\n",
            "Epoch 32 Batch 100 Loss 0.0379\n",
            "Epoch 32 Batch 200 Loss 0.0645\n",
            "Epoch 32 Batch 300 Loss 0.0280\n",
            "Epoch 32 Batch 400 Loss 0.0332\n",
            "Epoch 32 Batch 500 Loss 0.0531\n",
            "Epoch 32 Batch 600 Loss 0.0451\n",
            "Epoch 32 Batch 700 Loss 0.0727\n",
            "Epoch 32 Batch 800 Loss 0.0600\n",
            "Epoch 32 Batch 900 Loss 0.0835\n",
            "Epoch 32 Batch 1000 Loss 0.0553\n",
            "Epoch 32 Batch 1100 Loss 0.0571\n",
            "Epoch 32 Batch 1200 Loss 0.0428\n",
            "Epoch 32 Loss 0.0441\n",
            "Time taken for 1 epoch 98.73384070396423 sec\n",
            "\n",
            "Epoch 33 Batch 0 Loss 0.0561\n",
            "Epoch 33 Batch 100 Loss 0.0320\n",
            "Epoch 33 Batch 200 Loss 0.0476\n",
            "Epoch 33 Batch 300 Loss 0.0326\n",
            "Epoch 33 Batch 400 Loss 0.0205\n",
            "Epoch 33 Batch 500 Loss 0.0444\n",
            "Epoch 33 Batch 600 Loss 0.0737\n",
            "Epoch 33 Batch 700 Loss 0.0560\n",
            "Epoch 33 Batch 800 Loss 0.0441\n",
            "Epoch 33 Batch 900 Loss 0.0483\n",
            "Epoch 33 Batch 1000 Loss 0.0685\n",
            "Epoch 33 Batch 1100 Loss 0.0536\n",
            "Epoch 33 Batch 1200 Loss 0.0537\n",
            "Epoch 33 Loss 0.0441\n",
            "Time taken for 1 epoch 98.76806831359863 sec\n",
            "\n",
            "Epoch 34 Batch 0 Loss 0.0380\n",
            "Epoch 34 Batch 100 Loss 0.0343\n",
            "Epoch 34 Batch 200 Loss 0.0219\n",
            "Epoch 34 Batch 300 Loss 0.0435\n",
            "Epoch 34 Batch 400 Loss 0.0357\n",
            "Epoch 34 Batch 500 Loss 0.0284\n",
            "Epoch 34 Batch 600 Loss 0.0402\n",
            "Epoch 34 Batch 700 Loss 0.0357\n",
            "Epoch 34 Batch 800 Loss 0.0517\n",
            "Epoch 34 Batch 900 Loss 0.0488\n",
            "Epoch 34 Batch 1000 Loss 0.0545\n",
            "Epoch 34 Batch 1100 Loss 0.0619\n",
            "Epoch 34 Batch 1200 Loss 0.0525\n",
            "Epoch 34 Loss 0.0437\n",
            "Time taken for 1 epoch 98.80466794967651 sec\n",
            "\n",
            "Epoch 35 Batch 0 Loss 0.0219\n",
            "Epoch 35 Batch 100 Loss 0.0306\n",
            "Epoch 35 Batch 200 Loss 0.0551\n",
            "Epoch 35 Batch 300 Loss 0.0454\n",
            "Epoch 35 Batch 400 Loss 0.0216\n",
            "Epoch 35 Batch 500 Loss 0.0328\n",
            "Epoch 35 Batch 600 Loss 0.0525\n",
            "Epoch 35 Batch 700 Loss 0.0829\n",
            "Epoch 35 Batch 800 Loss 0.0573\n",
            "Epoch 35 Batch 900 Loss 0.0561\n",
            "Epoch 35 Batch 1000 Loss 0.0522\n",
            "Epoch 35 Batch 1100 Loss 0.0509\n",
            "Epoch 35 Batch 1200 Loss 0.0589\n",
            "Epoch 35 Loss 0.0431\n",
            "Time taken for 1 epoch 98.86617112159729 sec\n",
            "\n",
            "Epoch 36 Batch 0 Loss 0.0301\n",
            "Epoch 36 Batch 100 Loss 0.0484\n",
            "Epoch 36 Batch 200 Loss 0.0479\n",
            "Epoch 36 Batch 300 Loss 0.0255\n",
            "Epoch 36 Batch 400 Loss 0.0195\n",
            "Epoch 36 Batch 500 Loss 0.0411\n",
            "Epoch 36 Batch 600 Loss 0.0357\n",
            "Epoch 36 Batch 700 Loss 0.0412\n",
            "Epoch 36 Batch 800 Loss 0.0594\n",
            "Epoch 36 Batch 900 Loss 0.0519\n",
            "Epoch 36 Batch 1000 Loss 0.0426\n",
            "Epoch 36 Batch 1100 Loss 0.0567\n",
            "Epoch 36 Batch 1200 Loss 0.0565\n",
            "Epoch 36 Loss 0.0421\n",
            "Time taken for 1 epoch 98.89521503448486 sec\n",
            "\n",
            "Epoch 37 Batch 0 Loss 0.0298\n",
            "Epoch 37 Batch 100 Loss 0.0548\n",
            "Epoch 37 Batch 200 Loss 0.0117\n",
            "Epoch 37 Batch 300 Loss 0.0315\n",
            "Epoch 37 Batch 400 Loss 0.0279\n",
            "Epoch 37 Batch 500 Loss 0.0393\n",
            "Epoch 37 Batch 600 Loss 0.0421\n",
            "Epoch 37 Batch 700 Loss 0.0390\n",
            "Epoch 37 Batch 800 Loss 0.0400\n",
            "Epoch 37 Batch 900 Loss 0.0515\n",
            "Epoch 37 Batch 1000 Loss 0.0462\n",
            "Epoch 37 Batch 1100 Loss 0.0574\n",
            "Epoch 37 Batch 1200 Loss 0.0523\n",
            "Epoch 37 Loss 0.0416\n",
            "Time taken for 1 epoch 98.72515225410461 sec\n",
            "\n",
            "Epoch 38 Batch 0 Loss 0.0284\n",
            "Epoch 38 Batch 100 Loss 0.0455\n",
            "Epoch 38 Batch 200 Loss 0.0206\n",
            "Epoch 38 Batch 300 Loss 0.0342\n",
            "Epoch 38 Batch 400 Loss 0.0444\n",
            "Epoch 38 Batch 500 Loss 0.0287\n",
            "Epoch 38 Batch 600 Loss 0.0551\n",
            "Epoch 38 Batch 700 Loss 0.0276\n",
            "Epoch 38 Batch 800 Loss 0.0344\n",
            "Epoch 38 Batch 900 Loss 0.0468\n",
            "Epoch 38 Batch 1000 Loss 0.0488\n",
            "Epoch 38 Batch 1100 Loss 0.0990\n",
            "Epoch 38 Batch 1200 Loss 0.0355\n",
            "Epoch 38 Loss 0.0414\n",
            "Time taken for 1 epoch 98.88596892356873 sec\n",
            "\n",
            "Epoch 39 Batch 0 Loss 0.0144\n",
            "Epoch 39 Batch 100 Loss 0.0177\n",
            "Epoch 39 Batch 200 Loss 0.0427\n",
            "Epoch 39 Batch 300 Loss 0.0336\n",
            "Epoch 39 Batch 400 Loss 0.0439\n",
            "Epoch 39 Batch 500 Loss 0.0392\n",
            "Epoch 39 Batch 600 Loss 0.0742\n",
            "Epoch 39 Batch 700 Loss 0.0387\n",
            "Epoch 39 Batch 800 Loss 0.0726\n",
            "Epoch 39 Batch 900 Loss 0.0369\n",
            "Epoch 39 Batch 1000 Loss 0.0246\n",
            "Epoch 39 Batch 1100 Loss 0.0550\n",
            "Epoch 39 Batch 1200 Loss 0.0564\n",
            "Epoch 39 Loss 0.0416\n",
            "Time taken for 1 epoch 98.89666271209717 sec\n",
            "\n",
            "Epoch 40 Batch 0 Loss 0.0290\n",
            "Epoch 40 Batch 100 Loss 0.0203\n",
            "Epoch 40 Batch 200 Loss 0.0246\n",
            "Epoch 40 Batch 300 Loss 0.0380\n",
            "Epoch 40 Batch 400 Loss 0.0648\n",
            "Epoch 40 Batch 500 Loss 0.0425\n",
            "Epoch 40 Batch 600 Loss 0.0289\n",
            "Epoch 40 Batch 700 Loss 0.0496\n",
            "Epoch 40 Batch 800 Loss 0.0710\n",
            "Epoch 40 Batch 900 Loss 0.0311\n",
            "Epoch 40 Batch 1000 Loss 0.0505\n",
            "Epoch 40 Batch 1100 Loss 0.0224\n",
            "Epoch 40 Batch 1200 Loss 0.0518\n",
            "Epoch 40 Loss 0.0408\n",
            "Time taken for 1 epoch 98.72668766975403 sec\n",
            "\n",
            "Epoch 41 Batch 0 Loss 0.0365\n",
            "Epoch 41 Batch 100 Loss 0.0361\n",
            "Epoch 41 Batch 200 Loss 0.0263\n",
            "Epoch 41 Batch 300 Loss 0.0495\n",
            "Epoch 41 Batch 400 Loss 0.0188\n",
            "Epoch 41 Batch 500 Loss 0.0256\n",
            "Epoch 41 Batch 600 Loss 0.0376\n",
            "Epoch 41 Batch 700 Loss 0.0359\n",
            "Epoch 41 Batch 800 Loss 0.0297\n",
            "Epoch 41 Batch 900 Loss 0.0529\n",
            "Epoch 41 Batch 1000 Loss 0.0398\n",
            "Epoch 41 Batch 1100 Loss 0.0310\n",
            "Epoch 41 Batch 1200 Loss 0.0537\n",
            "Epoch 41 Loss 0.0405\n",
            "Time taken for 1 epoch 98.85840559005737 sec\n",
            "\n",
            "Epoch 42 Batch 0 Loss 0.0345\n",
            "Epoch 42 Batch 100 Loss 0.0443\n",
            "Epoch 42 Batch 200 Loss 0.0244\n",
            "Epoch 42 Batch 300 Loss 0.0328\n",
            "Epoch 42 Batch 400 Loss 0.0436\n",
            "Epoch 42 Batch 500 Loss 0.0423\n",
            "Epoch 42 Batch 600 Loss 0.0489\n",
            "Epoch 42 Batch 700 Loss 0.0266\n",
            "Epoch 42 Batch 800 Loss 0.0444\n",
            "Epoch 42 Batch 900 Loss 0.0441\n",
            "Epoch 42 Batch 1000 Loss 0.0428\n",
            "Epoch 42 Batch 1100 Loss 0.0622\n",
            "Epoch 42 Batch 1200 Loss 0.0767\n",
            "Epoch 42 Loss 0.0403\n",
            "Time taken for 1 epoch 98.71185374259949 sec\n",
            "\n",
            "Epoch 43 Batch 0 Loss 0.0335\n",
            "Epoch 43 Batch 100 Loss 0.0318\n",
            "Epoch 43 Batch 200 Loss 0.0276\n",
            "Epoch 43 Batch 300 Loss 0.0430\n",
            "Epoch 43 Batch 400 Loss 0.0403\n",
            "Epoch 43 Batch 500 Loss 0.0637\n",
            "Epoch 43 Batch 600 Loss 0.0376\n",
            "Epoch 43 Batch 700 Loss 0.0575\n",
            "Epoch 43 Batch 800 Loss 0.0330\n",
            "Epoch 43 Batch 900 Loss 0.0309\n",
            "Epoch 43 Batch 1000 Loss 0.0425\n",
            "Epoch 43 Batch 1100 Loss 0.0476\n",
            "Epoch 43 Batch 1200 Loss 0.0503\n",
            "Epoch 43 Loss 0.0398\n",
            "Time taken for 1 epoch 98.78144478797913 sec\n",
            "\n",
            "Epoch 44 Batch 0 Loss 0.0393\n",
            "Epoch 44 Batch 100 Loss 0.0384\n",
            "Epoch 44 Batch 200 Loss 0.0393\n",
            "Epoch 44 Batch 300 Loss 0.0354\n",
            "Epoch 44 Batch 400 Loss 0.0312\n",
            "Epoch 44 Batch 500 Loss 0.0176\n",
            "Epoch 44 Batch 600 Loss 0.0411\n",
            "Epoch 44 Batch 700 Loss 0.0395\n",
            "Epoch 44 Batch 800 Loss 0.0370\n",
            "Epoch 44 Batch 900 Loss 0.0683\n",
            "Epoch 44 Batch 1000 Loss 0.0329\n",
            "Epoch 44 Batch 1100 Loss 0.0412\n",
            "Epoch 44 Batch 1200 Loss 0.0531\n",
            "Epoch 44 Loss 0.0392\n",
            "Time taken for 1 epoch 98.79383444786072 sec\n",
            "\n",
            "Epoch 45 Batch 0 Loss 0.0179\n",
            "Epoch 45 Batch 100 Loss 0.0116\n",
            "Epoch 45 Batch 200 Loss 0.0363\n",
            "Epoch 45 Batch 300 Loss 0.0640\n",
            "Epoch 45 Batch 400 Loss 0.0317\n",
            "Epoch 45 Batch 500 Loss 0.0421\n",
            "Epoch 45 Batch 600 Loss 0.0409\n",
            "Epoch 45 Batch 700 Loss 0.0480\n",
            "Epoch 45 Batch 800 Loss 0.0425\n",
            "Epoch 45 Batch 900 Loss 0.0719\n",
            "Epoch 45 Batch 1000 Loss 0.0317\n",
            "Epoch 45 Batch 1100 Loss 0.0437\n",
            "Epoch 45 Batch 1200 Loss 0.0274\n",
            "Epoch 45 Loss 0.0388\n",
            "Time taken for 1 epoch 98.60427689552307 sec\n",
            "\n",
            "Epoch 46 Batch 0 Loss 0.0214\n",
            "Epoch 46 Batch 100 Loss 0.0248\n",
            "Epoch 46 Batch 200 Loss 0.0289\n",
            "Epoch 46 Batch 300 Loss 0.0436\n",
            "Epoch 46 Batch 400 Loss 0.0543\n",
            "Epoch 46 Batch 500 Loss 0.0526\n",
            "Epoch 46 Batch 600 Loss 0.0497\n",
            "Epoch 46 Batch 700 Loss 0.0504\n",
            "Epoch 46 Batch 800 Loss 0.0385\n",
            "Epoch 46 Batch 900 Loss 0.0274\n",
            "Epoch 46 Batch 1000 Loss 0.0284\n",
            "Epoch 46 Batch 1100 Loss 0.0488\n",
            "Epoch 46 Batch 1200 Loss 0.0593\n",
            "Epoch 46 Loss 0.0398\n",
            "Time taken for 1 epoch 98.69089126586914 sec\n",
            "\n",
            "Epoch 47 Batch 0 Loss 0.0536\n",
            "Epoch 47 Batch 100 Loss 0.0574\n",
            "Epoch 47 Batch 200 Loss 0.0284\n",
            "Epoch 47 Batch 300 Loss 0.0440\n",
            "Epoch 47 Batch 400 Loss 0.0289\n",
            "Epoch 47 Batch 500 Loss 0.0540\n",
            "Epoch 47 Batch 600 Loss 0.0425\n",
            "Epoch 47 Batch 700 Loss 0.0092\n",
            "Epoch 47 Batch 800 Loss 0.0219\n",
            "Epoch 47 Batch 900 Loss 0.0440\n",
            "Epoch 47 Batch 1000 Loss 0.0562\n",
            "Epoch 47 Batch 1100 Loss 0.0408\n",
            "Epoch 47 Batch 1200 Loss 0.0575\n",
            "Epoch 47 Loss 0.0385\n",
            "Time taken for 1 epoch 98.73927068710327 sec\n",
            "\n",
            "Epoch 48 Batch 0 Loss 0.0453\n",
            "Epoch 48 Batch 100 Loss 0.0398\n",
            "Epoch 48 Batch 200 Loss 0.0516\n",
            "Epoch 48 Batch 300 Loss 0.0331\n",
            "Epoch 48 Batch 400 Loss 0.0273\n",
            "Epoch 48 Batch 500 Loss 0.0491\n",
            "Epoch 48 Batch 600 Loss 0.0317\n",
            "Epoch 48 Batch 700 Loss 0.0517\n",
            "Epoch 48 Batch 800 Loss 0.0561\n",
            "Epoch 48 Batch 900 Loss 0.0302\n",
            "Epoch 48 Batch 1000 Loss 0.0467\n",
            "Epoch 48 Batch 1100 Loss 0.0656\n",
            "Epoch 48 Batch 1200 Loss 0.0595\n",
            "Epoch 48 Loss 0.0388\n",
            "Time taken for 1 epoch 98.74488925933838 sec\n",
            "\n",
            "Epoch 49 Batch 0 Loss 0.0218\n",
            "Epoch 49 Batch 100 Loss 0.0302\n",
            "Epoch 49 Batch 200 Loss 0.0205\n",
            "Epoch 49 Batch 300 Loss 0.0237\n",
            "Epoch 49 Batch 400 Loss 0.0314\n",
            "Epoch 49 Batch 500 Loss 0.0296\n",
            "Epoch 49 Batch 600 Loss 0.0100\n",
            "Epoch 49 Batch 700 Loss 0.0240\n",
            "Epoch 49 Batch 800 Loss 0.0348\n",
            "Epoch 49 Batch 900 Loss 0.0393\n",
            "Epoch 49 Batch 1000 Loss 0.0303\n",
            "Epoch 49 Batch 1100 Loss 0.0572\n",
            "Epoch 49 Batch 1200 Loss 0.0558\n",
            "Epoch 49 Loss 0.0386\n",
            "Time taken for 1 epoch 98.7356014251709 sec\n",
            "\n",
            "Epoch 50 Batch 0 Loss 0.0240\n",
            "Epoch 50 Batch 100 Loss 0.0299\n",
            "Epoch 50 Batch 200 Loss 0.0289\n",
            "Epoch 50 Batch 300 Loss 0.0263\n",
            "Epoch 50 Batch 400 Loss 0.0188\n",
            "Epoch 50 Batch 500 Loss 0.0337\n",
            "Epoch 50 Batch 600 Loss 0.0411\n",
            "Epoch 50 Batch 700 Loss 0.0258\n",
            "Epoch 50 Batch 800 Loss 0.0671\n",
            "Epoch 50 Batch 900 Loss 0.0861\n",
            "Epoch 50 Batch 1000 Loss 0.0370\n",
            "Epoch 50 Batch 1100 Loss 0.0279\n",
            "Epoch 50 Batch 1200 Loss 0.0333\n",
            "Epoch 50 Loss 0.0384\n",
            "Time taken for 1 epoch 99.71851801872253 sec\n",
            "\n"
          ]
        }
      ],
      "source": [
        "EPOCHS = 50\n",
        "\n",
        "for epoch in range(EPOCHS):\n",
        "  start = time.time()\n",
        "\n",
        "  #инициализируем входное скрытое состояние (из нулей) размера (батч, кол-во рекуррентных ячеек)\n",
        "  enc_hidden = encoder.initialize_hidden_state()\n",
        "  total_loss = 0\n",
        "\n",
        "  for (batch, (inp, targ)) in enumerate(dataset.take(steps_per_epoch)):\n",
        "    #делаем шаг обучения и считаем ошибку\n",
        "    batch_loss = train_step(inp, targ, enc_hidden)\n",
        "    total_loss += batch_loss\n",
        "\n",
        "    if batch % 100 == 0:\n",
        "      print('Epoch {} Batch {} Loss {:.4f}'.format(epoch + 1,\n",
        "                                                   batch,\n",
        "                                                   batch_loss.numpy()))\n",
        "  #сохраняем checkpoint каждые 25 эпох\n",
        "  if (epoch + 1) % 25 == 0:\n",
        "    checkpoint.save(file_prefix = checkpoint_prefix)\n",
        "\n",
        "  print('Epoch {} Loss {:.4f}'.format(epoch + 1,\n",
        "                                      total_loss / steps_per_epoch))\n",
        "  print('Time taken for 1 epoch {} sec\\n'.format(time.time() - start))"
      ]
    },
    {
      "cell_type": "code",
      "execution_count": 32,
      "metadata": {
        "id": "EbQpyYs13jF_"
      },
      "outputs": [],
      "source": [
        "def evaluate(sentence):\n",
        "  #строим матрицу внимания из нулей размера (макс длина таргета, макс длина входа)  \n",
        "  attention_plot = np.zeros((max_length_targ, max_length_inp))\n",
        "\n",
        "  #выполняем препроцессинг предложений\n",
        "  sentence = preprocess_sentence(sentence)\n",
        "\n",
        "  #разбиваем предложение по пробелам и составляем список индексов каждого слова\n",
        "  inputs = [inp_lang.word_index[i] for i in sentence.split(' ')]\n",
        "  #дополняем inputs нулями справа до максимальной длины входного текста\n",
        "  inputs = tf.keras.preprocessing.sequence.pad_sequences([inputs],\n",
        "                                                         maxlen=max_length_inp,\n",
        "                                                         padding='post')\n",
        "  #преобразуем inputs в тензор\n",
        "  inputs = tf.convert_to_tensor(inputs)\n",
        "\n",
        "  result = ''\n",
        "\n",
        "  #инициализируем входной hidden из нулей размера (1, units)\n",
        "  hidden = [tf.zeros((1, units))]\n",
        "  #подаем inputs и hidden в encoder\n",
        "  enc_out, enc_hidden = encoder(inputs, hidden)\n",
        "\n",
        "  #инициализируем входной hidden декодера -- выходной хидден энкодера\n",
        "  dec_hidden = enc_hidden\n",
        "  #вход декодера -- список [индекс start] размера(1,1)\n",
        "  dec_input = tf.expand_dims([targ_lang.word_index['<start>']], 0)\n",
        "\n",
        "  for t in range(max_length_targ):\n",
        "    #получаем выход декодера\n",
        "    predictions, dec_hidden, attention_weights = decoder(dec_input,\n",
        "                                                         dec_hidden,\n",
        "                                                         enc_out)\n",
        "\n",
        "    #сохраняем веса внимания, чтобы позже визуализировать\n",
        "    attention_weights = tf.reshape(attention_weights, (-1, ))\n",
        "    attention_plot[t] = attention_weights.numpy()\n",
        "\n",
        "    predicted_id = tf.argmax(predictions[0]).numpy()\n",
        "\n",
        "    result += targ_lang.index_word[predicted_id] + ' '\n",
        "\n",
        "    #заканчиваем на токене end\n",
        "    if targ_lang.index_word[predicted_id] == '<end>':\n",
        "      return result, sentence, attention_plot\n",
        "\n",
        "    #предсказанный predicted ID подаем обратно в декодер (размер (1,1))\n",
        "    dec_input = tf.expand_dims([predicted_id], 0)\n",
        "\n",
        "  return result, sentence, attention_plot"
      ]
    },
    {
      "cell_type": "markdown",
      "source": [
        "**Напишем функцию для визуализации весов внимания.**"
      ],
      "metadata": {
        "id": "0lrOqxyoy_rC"
      }
    },
    {
      "cell_type": "code",
      "execution_count": 33,
      "metadata": {
        "id": "Qjy26Fe8Bv5d"
      },
      "outputs": [],
      "source": [
        "def plot_attention(attention, sentence, predicted_sentence):\n",
        "  fig = plt.figure(figsize=(10,10))\n",
        "  ax = fig.add_subplot(1, 1, 1)\n",
        "  ax.matshow(attention, cmap='viridis')\n",
        "\n",
        "  fontdict = {'fontsize': 14}\n",
        "\n",
        "  ax.set_xticklabels([''] + sentence, fontdict=fontdict, rotation=90)\n",
        "  ax.set_yticklabels([''] + predicted_sentence, fontdict=fontdict)\n",
        "\n",
        "  ax.xaxis.set_major_locator(ticker.MultipleLocator(1))\n",
        "  ax.yaxis.set_major_locator(ticker.MultipleLocator(1))\n",
        "\n",
        "  plt.show()"
      ]
    },
    {
      "cell_type": "code",
      "execution_count": 34,
      "metadata": {
        "id": "sl9zUHzg3jGI"
      },
      "outputs": [],
      "source": [
        "def translate(sentence):\n",
        "  result, sentence, attention_plot = evaluate(sentence)\n",
        "\n",
        "  print('Input: %s' % (sentence))\n",
        "  print('Predicted translation: {}'.format(result))\n",
        "\n",
        "  attention_plot = attention_plot[:len(result.split(' ')), :len(sentence.split(' '))]\n",
        "  plot_attention(attention_plot, sentence.split(' '), result.split(' '))"
      ]
    },
    {
      "cell_type": "markdown",
      "metadata": {
        "id": "n250XbnjOaqP"
      },
      "source": [
        "## Загрузим последний чекпойнт."
      ]
    },
    {
      "cell_type": "code",
      "execution_count": 35,
      "metadata": {
        "colab": {
          "base_uri": "https://localhost:8080/"
        },
        "id": "UJpT9D5_OgP6",
        "outputId": "84b90562-76d5-414b-9dfc-0c956b91812c"
      },
      "outputs": [
        {
          "output_type": "execute_result",
          "data": {
            "text/plain": [
              "<tensorflow.python.training.tracking.util.CheckpointLoadStatus at 0x7faa19422b50>"
            ]
          },
          "metadata": {},
          "execution_count": 35
        }
      ],
      "source": [
        "checkpoint.restore(tf.train.latest_checkpoint(checkpoint_dir))"
      ]
    },
    {
      "cell_type": "code",
      "execution_count": 36,
      "metadata": {
        "colab": {
          "base_uri": "https://localhost:8080/",
          "height": 676
        },
        "id": "WrAM0FDomq3E",
        "outputId": "e709a43b-bf36-4bea-c0e8-95de8f477e25"
      },
      "outputs": [
        {
          "output_type": "stream",
          "name": "stdout",
          "text": [
            "Input: <start> здесь хорошо . <end>\n",
            "Predicted translation: it's good here . <end> \n"
          ]
        },
        {
          "output_type": "display_data",
          "data": {
            "text/plain": [
              "<Figure size 720x720 with 1 Axes>"
            ],
            "image/png": "[encoded data removed]"
          },
          "metadata": {
            "needs_background": "light"
          }
        }
      ],
      "source": [
        "translate('Здесь хорошо.')"
      ]
    },
    {
      "cell_type": "code",
      "execution_count": 37,
      "metadata": {
        "colab": {
          "base_uri": "https://localhost:8080/",
          "height": 614
        },
        "id": "5bhFfwcIMX5i",
        "outputId": "b18f32f0-4eee-4911-afec-7925171ed3ea"
      },
      "outputs": [
        {
          "output_type": "stream",
          "name": "stdout",
          "text": [
            "Input: <start> я не смогу поехать . <end>\n",
            "Predicted translation: i can't go . <end> \n"
          ]
        },
        {
          "output_type": "display_data",
          "data": {
            "text/plain": [
              "<Figure size 720x720 with 1 Axes>"
            ],
            "image/png": "[encoded data removed]"
          },
          "metadata": {
            "needs_background": "light"
          }
        }
      ],
      "source": [
        "translate('Я не смогу поехать.')"
      ]
    },
    {
      "cell_type": "code",
      "execution_count": 38,
      "metadata": {
        "colab": {
          "base_uri": "https://localhost:8080/",
          "height": 676
        },
        "id": "zSx2iM36EZQZ",
        "outputId": "44dfa7c9-d906-42a3-d4ca-0cac9e030067"
      },
      "outputs": [
        {
          "output_type": "stream",
          "name": "stdout",
          "text": [
            "Input: <start> вы еще дома ? <end>\n",
            "Predicted translation: are you still at home ? <end> \n"
          ]
        },
        {
          "output_type": "display_data",
          "data": {
            "text/plain": [
              "<Figure size 720x720 with 1 Axes>"
            ],
            "image/png": "[encoded data removed]"
          },
          "metadata": {
            "needs_background": "light"
          }
        }
      ],
      "source": [
        "translate(u'Вы еще дома?')"
      ]
    },
    {
      "cell_type": "code",
      "execution_count": 39,
      "metadata": {
        "colab": {
          "base_uri": "https://localhost:8080/",
          "height": 676
        },
        "id": "A3LLCx3ZE0Ls",
        "outputId": "0d581fff-e86f-4ed7-e778-c28689172aa5"
      },
      "outputs": [
        {
          "output_type": "stream",
          "name": "stdout",
          "text": [
            "Input: <start> вы все еще дома ? <end>\n",
            "Predicted translation: are you still at home ? <end> \n"
          ]
        },
        {
          "output_type": "display_data",
          "data": {
            "text/plain": [
              "<Figure size 720x720 with 1 Axes>"
            ],
            "image/png": "[encoded data removed]"
          },
          "metadata": {
            "needs_background": "light"
          }
        }
      ],
      "source": [
        "translate(u'Вы все еще дома?')"
      ]
    },
    {
      "cell_type": "code",
      "source": [
        "translate(u'Вы что, все еще дома?')"
      ],
      "metadata": {
        "colab": {
          "base_uri": "https://localhost:8080/",
          "height": 629
        },
        "id": "oCpi5Y8DxmjY",
        "outputId": "9529359f-2fc8-4392-ad56-8f15a7953ccd"
      },
      "execution_count": 43,
      "outputs": [
        {
          "output_type": "stream",
          "name": "stdout",
          "text": [
            "Input: <start> вы что , все еще дома ? <end>\n",
            "Predicted translation: are you still at home ? <end> \n"
          ]
        },
        {
          "output_type": "display_data",
          "data": {
            "text/plain": [
              "<Figure size 720x720 with 1 Axes>"
            ],
            "image/png": "[encoded data removed]"
          },
          "metadata": {
            "needs_background": "light"
          }
        }
      ]
    },
    {
      "cell_type": "code",
      "source": [
        "translate(u'Фильм хороший!')"
      ],
      "metadata": {
        "colab": {
          "base_uri": "https://localhost:8080/",
          "height": 685
        },
        "id": "2aH1mMmgxmpL",
        "outputId": "2912aa75-f7c4-41ba-f984-74ec4a7cf442"
      },
      "execution_count": 44,
      "outputs": [
        {
          "output_type": "stream",
          "name": "stdout",
          "text": [
            "Input: <start> фильм хороший ! <end>\n",
            "Predicted translation: the movie is good ! <end> \n"
          ]
        },
        {
          "output_type": "display_data",
          "data": {
            "text/plain": [
              "<Figure size 720x720 with 1 Axes>"
            ],
            "image/png": "[encoded data removed]"
          },
          "metadata": {
            "needs_background": "light"
          }
        }
      ]
    },
    {
      "cell_type": "code",
      "source": [
        "translate(u'Фильм не совсем хороший!')"
      ],
      "metadata": {
        "colab": {
          "base_uri": "https://localhost:8080/",
          "height": 685
        },
        "id": "hxeLFtgXxmwv",
        "outputId": "11e98fdc-9114-4cb9-fe2d-128e086b0ca6"
      },
      "execution_count": 45,
      "outputs": [
        {
          "output_type": "stream",
          "name": "stdout",
          "text": [
            "Input: <start> фильм не совсем хороший ! <end>\n",
            "Predicted translation: the movie isn't good . <end> \n"
          ]
        },
        {
          "output_type": "display_data",
          "data": {
            "text/plain": [
              "<Figure size 720x720 with 1 Axes>"
            ],
            "image/png": "[encoded data removed]"
          },
          "metadata": {
            "needs_background": "light"
          }
        }
      ]
    },
    {
      "cell_type": "code",
      "source": [
        "translate(u'Фильм совсем не хороший!')"
      ],
      "metadata": {
        "colab": {
          "base_uri": "https://localhost:8080/",
          "height": 685
        },
        "id": "VzsMS4XWxm9a",
        "outputId": "b64f1b66-ed32-4c03-ea46-c4e1f84f510a"
      },
      "execution_count": 46,
      "outputs": [
        {
          "output_type": "stream",
          "name": "stdout",
          "text": [
            "Input: <start> фильм совсем не хороший ! <end>\n",
            "Predicted translation: the movie is good . <end> \n"
          ]
        },
        {
          "output_type": "display_data",
          "data": {
            "text/plain": [
              "<Figure size 720x720 with 1 Axes>"
            ],
            "image/png": "[encoded data removed]"
          },
          "metadata": {
            "needs_background": "light"
          }
        }
      ]
    },
    {
      "cell_type": "code",
      "execution_count": 40,
      "metadata": {
        "colab": {
          "base_uri": "https://localhost:8080/",
          "height": 690
        },
        "id": "DUQVLVqUE1YW",
        "outputId": "a8273620-39fd-4c45-f177-10961dc1ee64"
      },
      "outputs": [
        {
          "output_type": "stream",
          "name": "stdout",
          "text": [
            "Input: <start> попробуй сделать это . <end>\n",
            "Predicted translation: try to do this . <end> \n"
          ]
        },
        {
          "output_type": "display_data",
          "data": {
            "text/plain": [
              "<Figure size 720x720 with 1 Axes>"
            ],
            "image/png": "[encoded data removed]"
          },
          "metadata": {
            "needs_background": "light"
          }
        }
      ],
      "source": [
        "translate(u'Попробуй сделать это.')"
      ]
    },
    {
      "cell_type": "code",
      "execution_count": 47,
      "metadata": {
        "colab": {
          "base_uri": "https://localhost:8080/",
          "height": 690
        },
        "id": "f09_hUFx9EJh",
        "outputId": "f5173702-7c70-453b-b507-14c465fae62d"
      },
      "outputs": [
        {
          "output_type": "stream",
          "name": "stdout",
          "text": [
            "Input: <start> надо в магазине купить воду . <end>\n",
            "Predicted translation: i have to the store . <end> \n"
          ]
        },
        {
          "output_type": "display_data",
          "data": {
            "text/plain": [
              "<Figure size 720x720 with 1 Axes>"
            ],
            "image/png": "[encoded data removed]"
          },
          "metadata": {
            "needs_background": "light"
          }
        }
      ],
      "source": [
        "translate(u'Надо в магазине купить воду.')"
      ]
    },
    {
      "cell_type": "code",
      "execution_count": 42,
      "metadata": {
        "colab": {
          "base_uri": "https://localhost:8080/",
          "height": 626
        },
        "id": "e7c5p8rmkHQG",
        "outputId": "5f34bfb2-d32a-4955-d472-90b180f043df"
      },
      "outputs": [
        {
          "output_type": "stream",
          "name": "stdout",
          "text": [
            "Input: <start> я никогда такого не делаю . <end>\n",
            "Predicted translation: i never do that . <end> \n"
          ]
        },
        {
          "output_type": "display_data",
          "data": {
            "text/plain": [
              "<Figure size 720x720 with 1 Axes>"
            ],
            "image/png": "[encoded data removed]"
          },
          "metadata": {
            "needs_background": "light"
          }
        }
      ],
      "source": [
        "translate(u'Я никогда такого не делаю.')"
      ]
    },
    {
      "cell_type": "markdown",
      "source": [
        "### ВЫВОД: модель работает, с короткими и однозначными выражениями справляется хорошо. Но с переводом длинных выражений, а так же с выражениями, содержащими нюансы, модель испытывает затруднения. На мой взгляд работает лучше, чем модель без \"внимания\", но не существенно."
      ],
      "metadata": {
        "id": "5sTKJZ3QD7WM"
      }
    }
  ],
  "metadata": {
    "accelerator": "GPU",
    "colab": {
      "provenance": []
    },
    "kernelspec": {
      "display_name": "Python 3",
      "language": "python",
      "name": "python3"
    },
    "language_info": {
      "codemirror_mode": {
        "name": "ipython",
        "version": 3
      },
      "file_extension": ".py",
      "mimetype": "text/x-python",
      "name": "python",
      "nbconvert_exporter": "python",
      "pygments_lexer": "ipython3",
      "version": "3.8.8"
    },
    "gpuClass": "standard"
  },
  "nbformat": 4,
  "nbformat_minor": 0
}